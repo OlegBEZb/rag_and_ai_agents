{
 "cells": [
  {
   "cell_type": "code",
   "execution_count": 1,
   "metadata": {},
   "outputs": [],
   "source": [
    "%load_ext autoreload\n",
    "%autoreload 2"
   ]
  },
  {
   "cell_type": "markdown",
   "metadata": {},
   "source": [
    "# Imports"
   ]
  },
  {
   "cell_type": "code",
   "execution_count": null,
   "metadata": {},
   "outputs": [],
   "source": [
    "import os\n",
    "from dotenv import load_dotenv\n",
    "import math\n",
    "import numpy as np\n",
    "import matplotlib.pyplot as plt"
   ]
  },
  {
   "cell_type": "markdown",
   "metadata": {},
   "source": [
    "# LLM setup"
   ]
  },
  {
   "cell_type": "code",
   "execution_count": 3,
   "metadata": {},
   "outputs": [
    {
     "data": {
      "text/plain": [
       "True"
      ]
     },
     "execution_count": 3,
     "metadata": {},
     "output_type": "execute_result"
    }
   ],
   "source": [
    "# Load the API key from the .env file\n",
    "load_dotenv()"
   ]
  },
  {
   "cell_type": "markdown",
   "metadata": {},
   "source": [
    "## OpenAI library"
   ]
  },
  {
   "cell_type": "code",
   "execution_count": 4,
   "metadata": {},
   "outputs": [],
   "source": [
    "from openai import OpenAI\n",
    "client = OpenAI()\n",
    "\n",
    "response = client.chat.completions.create(\n",
    "  model=\"gpt-4o-mini\",\n",
    "  messages=[\n",
    "    {\"role\": \"user\", \"content\": \"When is your knowledge cutoff?\"}\n",
    "  ]\n",
    ")  "
   ]
  },
  {
   "cell_type": "code",
   "execution_count": 5,
   "metadata": {},
   "outputs": [
    {
     "data": {
      "text/plain": [
       "ChatCompletion(id='chatcmpl-BDFbbrcWGyfrAFK6LyvjSFwCNYK7v', choices=[Choice(finish_reason='stop', index=0, logprobs=None, message=ChatCompletionMessage(content='My knowledge cutoff is in October 2021. I do not have information or updates beyond that date.', refusal=None, role='assistant', annotations=[], audio=None, function_call=None, tool_calls=None))], created=1742497951, model='gpt-4o-mini-2024-07-18', object='chat.completion', service_tier='default', system_fingerprint='fp_b8bc95a0ac', usage=CompletionUsage(completion_tokens=22, prompt_tokens=13, total_tokens=35, completion_tokens_details=CompletionTokensDetails(accepted_prediction_tokens=0, audio_tokens=0, reasoning_tokens=0, rejected_prediction_tokens=0), prompt_tokens_details=PromptTokensDetails(audio_tokens=0, cached_tokens=0)))"
      ]
     },
     "execution_count": 5,
     "metadata": {},
     "output_type": "execute_result"
    }
   ],
   "source": [
    "response"
   ]
  },
  {
   "cell_type": "code",
   "execution_count": 6,
   "metadata": {},
   "outputs": [
    {
     "name": "stdout",
     "output_type": "stream",
     "text": [
      "My knowledge cutoff is in October 2021. I do not have information or updates beyond that date.\n"
     ]
    }
   ],
   "source": [
    "print(response.choices[0].message.content)"
   ]
  },
  {
   "cell_type": "markdown",
   "metadata": {},
   "source": [
    "## LangChain framework\n",
    "\n",
    "This interface is a bit more useful for this tutorial. But the model under the hood is identical regardless of the framework"
   ]
  },
  {
   "cell_type": "code",
   "execution_count": 7,
   "metadata": {},
   "outputs": [
    {
     "data": {
      "text/plain": [
       "ChatOpenAI(client=<openai.resources.chat.completions.completions.Completions object at 0x1373f5d10>, async_client=<openai.resources.chat.completions.completions.AsyncCompletions object at 0x1373fe510>, root_client=<openai.OpenAI object at 0x136ced950>, root_async_client=<openai.AsyncOpenAI object at 0x136d4e270>, model_name='gpt-4o-mini', model_kwargs={}, openai_api_key=SecretStr('**********'))"
      ]
     },
     "execution_count": 7,
     "metadata": {},
     "output_type": "execute_result"
    }
   ],
   "source": [
    "from langchain_openai import ChatOpenAI\n",
    "llm = ChatOpenAI(model=\"gpt-4o-mini\")\n",
    "llm"
   ]
  },
  {
   "cell_type": "code",
   "execution_count": 8,
   "metadata": {},
   "outputs": [],
   "source": [
    "def get_chat_response(model, prompt):\n",
    "    messages = [\n",
    "        {\"role\": \"user\", \"content\": prompt}\n",
    "    ]\n",
    "    return model.invoke(messages).content"
   ]
  },
  {
   "cell_type": "code",
   "execution_count": 9,
   "metadata": {},
   "outputs": [
    {
     "data": {
      "text/plain": [
       "\"My knowledge cutoff is in October 2021. I don't have information on events or developments that occurred after that date. If you have questions or need information up to that time, feel free to ask!\""
      ]
     },
     "execution_count": 9,
     "metadata": {},
     "output_type": "execute_result"
    }
   ],
   "source": [
    "# https://platform.openai.com/docs/models/gpt-4o-mini\n",
    "get_chat_response(llm, \"When is your knowledge cutoff?\")"
   ]
  },
  {
   "cell_type": "markdown",
   "metadata": {},
   "source": [
    "# Pure LLM limitations"
   ]
  },
  {
   "cell_type": "markdown",
   "metadata": {},
   "source": [
    "## Knowledge cutoff"
   ]
  },
  {
   "cell_type": "code",
   "execution_count": 10,
   "metadata": {},
   "outputs": [
    {
     "data": {
      "text/plain": [
       "'My knowledge cutoff date is in October 2023. This means that any events or developments occurring after that date are not included in my training data. If you have questions about information available up to that time, feel free to ask!'"
      ]
     },
     "execution_count": 10,
     "metadata": {},
     "output_type": "execute_result"
    }
   ],
   "source": [
    "get_chat_response(llm, \"When is your knowledge cutoff?\")"
   ]
  },
  {
   "cell_type": "markdown",
   "metadata": {},
   "source": [
    "model didn't see anything prior to this date and doesn't know much about how the world evolved"
   ]
  },
  {
   "cell_type": "code",
   "execution_count": 11,
   "metadata": {},
   "outputs": [
    {
     "data": {
      "text/plain": [
       "\"I'm sorry, but I don't have information on events beyond October 2023, including the results of the 2024 US elections. For the most current updates, please refer to a reliable news source.\""
      ]
     },
     "execution_count": 11,
     "metadata": {},
     "output_type": "execute_result"
    }
   ],
   "source": [
    "get_chat_response(llm, \"Who won US elections of 2024?\")"
   ]
  },
  {
   "cell_type": "code",
   "execution_count": 12,
   "metadata": {},
   "outputs": [
    {
     "name": "stdout",
     "output_type": "stream",
     "text": [
      "I don't have access to external content such as specific courses from Hugging Face, including their definitions. However, a typical formal definition of an AI agent in the context of agent-based systems often begins along the lines of:\n",
      "\n",
      "\"An agent is a system that leverages sensors and actuators to perceive its environment and take actions to achieve specific goals.\" \n",
      "\n",
      "If you need the exact phrasing from Hugging Face's course, I recommend checking their official resources or course materials directly.\n"
     ]
    }
   ],
   "source": [
    "response = get_chat_response(llm, \"what's the formal definition of ai agent according to huggingface's course on agents? it starts with 'An Agent is a system that leverages'\")\n",
    "print(response)"
   ]
  },
  {
   "cell_type": "markdown",
   "metadata": {},
   "source": [
    "this model also doesn't have access to the Internet"
   ]
  },
  {
   "cell_type": "markdown",
   "metadata": {},
   "source": [
    "## Not widely-known facts"
   ]
  },
  {
   "cell_type": "code",
   "execution_count": 13,
   "metadata": {},
   "outputs": [
    {
     "name": "stdout",
     "output_type": "stream",
     "text": [
      "I don't have the ability to recall specific sections or content verbatim from copyrighted documents like the original BERT paper. However, I can provide a summary or discuss the key ideas and concepts presented in the paper. \"BERT\" stands for Bidirectional Encoder Representations from Transformers, and it introduced a new method for pre-training language representations. If you need specific information or a summary about related work in the context of BERT, feel free to ask!\n"
     ]
    }
   ],
   "source": [
    "response = get_chat_response(llm, \"Don't you remember what the original BERT paper's section '2 Related Work' starts with? Just in case, it's v2 of 24th of May 2019 on arxiv\")\n",
    "print(response)"
   ]
  },
  {
   "cell_type": "markdown",
   "metadata": {},
   "source": [
    "even having this paper (most likely) in the training dataset, the model doesn't train or learn the training data word by word"
   ]
  },
  {
   "cell_type": "markdown",
   "metadata": {},
   "source": [
    "## Internal data"
   ]
  },
  {
   "cell_type": "code",
   "execution_count": 14,
   "metadata": {},
   "outputs": [
    {
     "name": "stdout",
     "output_type": "stream",
     "text": [
      "I don't have access to your specific video or its description. You can easily find out the number of chapters by watching your video or checking the description if it includes time stamps for different sections. If you provide more details about your video, I may be able to help you generate content or discuss chapters related to the kedro-mlflow plugin.\n"
     ]
    }
   ],
   "source": [
    "response = get_chat_response(llm, \"How many chapters are there in the description of my video about kedro-mlflow plugin?\")\n",
    "print(response)"
   ]
  },
  {
   "cell_type": "markdown",
   "metadata": {},
   "source": [
    "# Augmented generation"
   ]
  },
  {
   "cell_type": "markdown",
   "metadata": {},
   "source": [
    "## YouTube description example"
   ]
  },
  {
   "cell_type": "code",
   "execution_count": 15,
   "metadata": {},
   "outputs": [
    {
     "name": "stdout",
     "output_type": "stream",
     "text": [
      "Based on the provided video description, there are **10 chapters** listed.\n"
     ]
    }
   ],
   "source": [
    "prompt = \"\"\"\n",
    "How many chapters are there in the description of my video about kedro-mlflow plugin?\n",
    "\n",
    "Below is the description of the video:\n",
    "Dive into the power of the Kedro-MLflow plugin — a seamless integration of Kedro’s robust pipeline management with MLflow’s comprehensive experiment tracking and model registry. In this video, we explore how combining these two frameworks can resolve the reproducibility challenges that often plague modern ML solutions.\n",
    "\n",
    "Chapters:\n",
    "00:00 – Introduction\n",
    "01:29 – Use-Case Study: The Spaceflights Tutorial\n",
    "05:49 – Solution Pipeline Overview\n",
    "11:03 – Defining the Reproducibility Problem\n",
    "14:21 – Exploring Kedro-viz\n",
    "19:40 – Kedro Project Structure\n",
    "23:37 – Deep Dive: ETL Application\n",
    "27:17 – Deep Dive: ML Application\n",
    "27:44 – Kedro-MLflow Plugin in Action\n",
    "37:43 – Advanced Usage: Pipeline as a Model\n",
    "39:43 – Testing the Inference Pipeline\n",
    "48:42 – Kedro Context in Jupyter Notebook\n",
    "56:21 – Conclusion\n",
    "\n",
    "Links:\n",
    "• Tutorial used in the video: https://github.com/OlegBEZb/kedro_mlf...\n",
    "• Kedro-MLflow plugin: https://github.com/Galileo-Galilei/ke...\n",
    "• MLflow: https://mlflow.org/docs/latest/index....\n",
    "• Kedro: https://kedro.org/\n",
    "• First-party plugins maintained by the Kedro team: https://github.com/kedro-org/kedro-pl...\n",
    "• Original Kedro-MLflow Tutorial which I used a lot: https://github.com/Galileo-Galilei/ke...\n",
    "• Kedro spaceflights tutorial: https://docs.kedro.org/en/stable/tuto...\n",
    "\n",
    "Connect with Me:\n",
    " • Telegram: https://t.me/DeepStuffChannel\"\"\"\n",
    "\n",
    "response = get_chat_response(llm, prompt)\n",
    "print(response)"
   ]
  },
  {
   "cell_type": "markdown",
   "metadata": {},
   "source": [
    "## \"Understanding the planning of LLM agents\" paper example"
   ]
  },
  {
   "cell_type": "code",
   "execution_count": 16,
   "metadata": {},
   "outputs": [
    {
     "name": "stdout",
     "output_type": "stream",
     "text": [
      "The main directions in the taxonomy of LLM-Agent planning are:\n",
      "\n",
      "1. Task Decomposition\n",
      "2. Plan Selection\n",
      "3. External Module\n",
      "4. Reflection\n",
      "5. Memory\n"
     ]
    }
   ],
   "source": [
    "# here is just roughly copied the first page of the paper or so\n",
    "prompt = \"\"\"\n",
    "What is the Taxonomy on LLM-Agent planning? Answer by just listing the main directions.\n",
    "\n",
    "Below is the excerpt from the paper:\n",
    "As Large Language Models (LLMs) have shown\n",
    "significant intelligence, the progress to leverage\n",
    "LLMs as planning modules of autonomous agents\n",
    "has attracted more attention. This survey provides\n",
    "the first systematic view of LLM-based agents\n",
    "planning, covering recent works aiming to improve\n",
    "planning ability. We provide a taxonomy of ex-\n",
    "isting works on LLM-Agent planning, which can\n",
    "be categorized into Task Decomposition, Plan Se-\n",
    "lection, External Module, Reflection and Memory.\n",
    "Comprehensive analyses are conducted for each di-\n",
    "rection, and further challenges for the field of re-\n",
    "search are discussed.\n",
    "1 Introduction\n",
    "Autonomous agents have been recognized as intelligent en-\n",
    "tities capable of accomplishing specific tasks, via perceiving\n",
    "the environment, planning, and executing actions. Planning,\n",
    "as one of the most critical capabilities for agents, requires\n",
    "complicated understanding, reasoning, and decision-making\n",
    "progress [Ghallab et al., 2004].Despite the abstract concept of planning, a general for-\n",
    "mulation of the planning tasks can be described as follows.\n",
    "Given time step t, with the environment denoted as E, theaction space as A, the task goal as g, and the action at step\n",
    "t as at∈ A, the planning procedure can be expressed as the\n",
    "generation of a sequence of actions:\n",
    "p = (a0, a1, ··· , at) = plan(E, g; Θ, P).\n",
    "where Θand P represent the parameters of the LLM and the\n",
    "prompts for the task, respectively.\n",
    "Conventional works mainly rely on symbolic methods or\n",
    "reinforcement learning-based methods, such as Planning Do-\n",
    "main Definition Language (PDDL) [Aeronautiques et al.,\n",
    "1998; Haslum et al., 2019] or policy learning [He et al., 2015;\n",
    "Yao et al., 2020a]. However, those conventional methods\n",
    "have several limitations. Symbolic methods require conver-\n",
    "sion from flexible natural language-described problems into\n",
    "symbolic modeling, which may require human experts’ ef-\n",
    "forts. Usually, this kind of method lacks error tolerance, re-\n",
    "sulting in failures even if there are only a few errors. Re-\n",
    "inforcement learning (RL) methods are often combined with\n",
    "∗Defu Lian is the corresponding author.Planning\n",
    "Ability\n",
    "Selection\n",
    "Decomposition\n",
    "External\n",
    "Planner Reflection\n",
    "CoT ReAct\n",
    "VisualChatGPT Plan andSolve\n",
    "PoT\n",
    "Progprompt HuggingGPT\n",
    "Memory\n",
    "Figure 1: Taxonomy on LLM-Agent planning.\n",
    "deep models, which serve as the policy network or reward\n",
    "model. While RL algorithms often require a large number\n",
    "of samples (interactions with the environment) to learn an ef-\n",
    "fective policy, this can be impractical or costly in scenarios\n",
    "where collecting data is time-consuming or expensive.\n",
    "In recent years, the emergence of Large Language Models\n",
    "(LLMs) has marked a paradigm shift. LLMs have achieved\n",
    "remarkable success across various domains, showcasing sig-\n",
    "nificant intelligence in reasoning, tool usage, planning, and\n",
    "instruction-following. The surprising intelligence of LLMs\n",
    "sheds light on employing LLMs as the cognitive core of\n",
    "agents, thereby offering the potential to improve planning\n",
    "ability. Numerous methodologies have been developed to\n",
    "harness the potential of LLMs for agent planning. While ex-\n",
    "isting surveys have attempted to summarize techniques for\n",
    "LLMs [Zhao et al., 2023a], LLMs for decision-making [Yang\n",
    "et al., 2023a], reasoning [Sun et al., 2023], tool learning [Qin\n",
    "et al., 2023], and autonomous agents [Wang et al., 2023a],\n",
    "they often lack a detailed analysis of planning ability within\n",
    "the literature. In this survey, we analyze the latest research\n",
    "works and discuss the advantages and limitations, aiming to\n",
    "provide a systematic view of the planning ability of LLM-\n",
    "based agents. Existing methods are further categorized into\n",
    "five representative directions, with each direction undergo-\n",
    "ing comprehensive analysis. Furthermore, we have evaluated\n",
    "arXiv:2402.02716v1  [cs.AI]  5 Feb 2024\n",
    "several representative methods on four benchmarks. To the\n",
    "best of our knowledge, this is the first work that comprehen-\n",
    "sively analyzes LLM-based agents from the planning abili-\n",
    "ties.\n",
    "The subsequent sections of this paper are organized as fol-\n",
    "lows. In Section 2, we categorize the works into five main-\n",
    "stream directions and analyze their ideas regarding planning\n",
    "ability. Sections 3 to 7 provide detailed discussions and anal-\n",
    "ysis of each direction. Finally, Section 9 concludes the sur-\n",
    "vey, offering insights into future directions in this field.\"\"\"\n",
    "\n",
    "response = get_chat_response(llm, prompt)\n",
    "print(response)"
   ]
  },
  {
   "cell_type": "markdown",
   "metadata": {},
   "source": [
    "would be nice if these quotes would be found for us automatically, right?"
   ]
  },
  {
   "cell_type": "markdown",
   "metadata": {},
   "source": [
    "# Traditional Retrieval-Augmented Generation"
   ]
  },
  {
   "cell_type": "markdown",
   "metadata": {},
   "source": [
    "There are some confusing statements on the web the traditional RAG may use various tools like search engine and calculator. In this tutorial I insist that traditional RAG works only with the retrieval component\\tool. So we will concentrate on a collection of documents and about it's incorporation into the LLM"
   ]
  },
  {
   "cell_type": "markdown",
   "metadata": {},
   "source": [
    "## Load documents"
   ]
  },
  {
   "cell_type": "code",
   "execution_count": 18,
   "metadata": {},
   "outputs": [],
   "source": [
    "from langchain_community.document_loaders import BSHTMLLoader, PyPDFLoader\n",
    "\n",
    "def load_documents(file_paths: list) -> list:\n",
    "    \"\"\"\n",
    "    Reads a collection of documents from a list of file paths.\n",
    "    Depending on the file type, different processing is applied:\n",
    "    \n",
    "      - HTML files (.html, .htm): Uses BSHTMLLoader. Multiple sections (if any) are combined.\n",
    "      - PDF files (.pdf): Uses PyPDFLoader and concatenates all pages.\n",
    "      - TXT files (.txt): Reads the file directly.\n",
    "    \n",
    "    Each file produces one document.\n",
    "    \n",
    "    Parameters:\n",
    "        file_paths (list): List of file paths to documents.\n",
    "    \n",
    "    Returns:\n",
    "        list: A list of document-like dictionaries with keys 'page_content' and 'metadata'.\n",
    "    \"\"\"\n",
    "    documents = []\n",
    "    \n",
    "    for file_path in file_paths:\n",
    "        ext = os.path.splitext(file_path)[1].lower()\n",
    "        \n",
    "        if ext in [\".html\", \".htm\"]:\n",
    "            loader = BSHTMLLoader(file_path)\n",
    "            docs = loader.load()  # loader.load() returns a list of document objects\n",
    "            # Combine all sections into one string.\n",
    "            combined_text = \"\\n\".join([doc.page_content for doc in docs])\n",
    "            documents.append({\n",
    "                \"page_content\": combined_text,\n",
    "                \"metadata\": {\"source\": file_path}\n",
    "            })\n",
    "        \n",
    "        elif ext == \".pdf\":\n",
    "            loader = PyPDFLoader(file_path)\n",
    "            pages = list(loader.lazy_load())  # Collect all pages\n",
    "            # Concatenate text from all pages.\n",
    "            combined_text = \"\\n\".join([page.page_content for page in pages])\n",
    "            documents.append({\n",
    "                \"page_content\": combined_text,\n",
    "                \"metadata\": {\"source\": file_path}\n",
    "            })\n",
    "        \n",
    "        elif ext == \".txt\":\n",
    "            with open(file_path, \"r\", encoding=\"utf-8\") as f:\n",
    "                content = f.read()\n",
    "            documents.append({\n",
    "                \"page_content\": content,\n",
    "                \"metadata\": {\"source\": file_path}\n",
    "            })\n",
    "        \n",
    "        else:\n",
    "            print(f\"File type {ext} is not supported. Skipping {file_path}\")\n",
    "    \n",
    "    return documents"
   ]
  },
  {
   "cell_type": "code",
   "execution_count": 19,
   "metadata": {},
   "outputs": [
    {
     "data": {
      "text/plain": [
       "['Gemini 2.0 model updates_ 2.0 Flash, Flash-Lite, Pro Experimental.html',\n",
       " 'AGENTIC RETRIEVAL-AUGMENTED GENERATION: A SURVEY ON AGENTIC RAG.pdf',\n",
       " 'Tackling the ML Reproducibility Curse with the Kedro-MLflow Plugin description.txt',\n",
       " 'New tools for building agents _ OpenAI.html',\n",
       " 'Understanding the planning of LLM agents: A survey.pdf',\n",
       " 'Introducing GPT-4.5 _ OpenAI.html',\n",
       " 'OpenAI o3-mini _ OpenAI.html',\n",
       " 'RAG, AI Agents, and Agentic RAG_ An In-Depth Review and Comparative Analysis _ DigitalOcean.html',\n",
       " 'Building Effective AI Agents _ Anthropic _ Anthropic.html']"
      ]
     },
     "execution_count": 19,
     "metadata": {},
     "output_type": "execute_result"
    }
   ],
   "source": [
    "os.listdir(\"documents\")"
   ]
  },
  {
   "cell_type": "code",
   "execution_count": 20,
   "metadata": {},
   "outputs": [
    {
     "data": {
      "text/plain": [
       "9"
      ]
     },
     "execution_count": 20,
     "metadata": {},
     "output_type": "execute_result"
    }
   ],
   "source": [
    "file_paths = [\"documents/\" + file for file in os.listdir(\"documents\")]\n",
    "documents = load_documents(file_paths)\n",
    "len(documents)"
   ]
  },
  {
   "cell_type": "code",
   "execution_count": 22,
   "metadata": {},
   "outputs": [
    {
     "data": {
      "text/plain": [
       "[{'source': 'documents/Gemini 2.0 model updates_ 2.0 Flash, Flash-Lite, Pro Experimental.html'},\n",
       " {'source': 'documents/AGENTIC RETRIEVAL-AUGMENTED GENERATION: A SURVEY ON AGENTIC RAG.pdf'},\n",
       " {'source': 'documents/Tackling the ML Reproducibility Curse with the Kedro-MLflow Plugin description.txt'},\n",
       " {'source': 'documents/New tools for building agents _ OpenAI.html'},\n",
       " {'source': 'documents/Understanding the planning of LLM agents: A survey.pdf'},\n",
       " {'source': 'documents/Introducing GPT-4.5 _ OpenAI.html'},\n",
       " {'source': 'documents/OpenAI o3-mini _ OpenAI.html'},\n",
       " {'source': 'documents/RAG, AI Agents, and Agentic RAG_ An In-Depth Review and Comparative Analysis _ DigitalOcean.html'},\n",
       " {'source': 'documents/Building Effective AI Agents _ Anthropic _ Anthropic.html'}]"
      ]
     },
     "execution_count": 22,
     "metadata": {},
     "output_type": "execute_result"
    }
   ],
   "source": [
    "[d[\"metadata\"] for d in documents]"
   ]
  },
  {
   "cell_type": "code",
   "execution_count": 26,
   "metadata": {},
   "outputs": [
    {
     "data": {
      "text/plain": [
       "[21985, 104947, 1335, 20549, 50608, 22005, 11975, 45840, 18777]"
      ]
     },
     "execution_count": 26,
     "metadata": {},
     "output_type": "execute_result"
    }
   ],
   "source": [
    "[len(d[\"page_content\"]) for d in documents]"
   ]
  },
  {
   "cell_type": "code",
   "execution_count": 27,
   "metadata": {},
   "outputs": [
    {
     "data": {
      "text/plain": [
       "[1503, 13894, 167, 2826, 7574, 3060, 1570, 5945, 2652]"
      ]
     },
     "execution_count": 27,
     "metadata": {},
     "output_type": "execute_result"
    }
   ],
   "source": [
    "[len(d[\"page_content\"].split()) for d in documents]"
   ]
  },
  {
   "cell_type": "markdown",
   "metadata": {},
   "source": [
    "I very important topic which we omit for now is the document size. It's a rare situation in real cases that you will be able to deal with the whole documents. Usually the documents are split into pieces according to some logic suitable for a specific usecase.  \n",
    "Different chunking strategies: https://medium.com/@anuragmishra_27746/five-levels-of-chunking-strategies-in-rag-notes-from-gregs-video-7b735895694d"
   ]
  },
  {
   "cell_type": "markdown",
   "metadata": {},
   "source": [
    "## Keyword search (manual)\n",
    "\n",
    "1. Tokenize documents\n",
    "2. Collect a vocabulary of all unique tokens\n",
    "3. Represent documents as vectors of the size of vocabulary. The presence of the Nth word in the document is marked with the number of such occurances. The absence - with 0.\n",
    "4. To find the document nearest to the input query:\n",
    "    1. Encode the query into vector in the same way as we encoded all documents\n",
    "    2. Calculate the similarity of the query vector with all document vectors and retrieve the closest"
   ]
  },
  {
   "cell_type": "code",
   "execution_count": 28,
   "metadata": {},
   "outputs": [],
   "source": [
    "from collections import Counter\n",
    "\n",
    "# Simple function to tokenize text (lowercase & split words)\n",
    "def tokenize(text):\n",
    "    return text.lower().split()"
   ]
  },
  {
   "cell_type": "code",
   "execution_count": 29,
   "metadata": {},
   "outputs": [
    {
     "data": {
      "text/plain": [
       "['hello', \"i'm\", 'oleg']"
      ]
     },
     "execution_count": 29,
     "metadata": {},
     "output_type": "execute_result"
    }
   ],
   "source": [
    "tokenize(\"Hello I'm Oleg\")"
   ]
  },
  {
   "cell_type": "code",
   "execution_count": 30,
   "metadata": {},
   "outputs": [],
   "source": [
    "tokenized_documents = [tokenize(d[\"page_content\"]) for d in documents]"
   ]
  },
  {
   "cell_type": "code",
   "execution_count": 31,
   "metadata": {},
   "outputs": [
    {
     "data": {
      "text/plain": [
       "[1503, 13894, 167, 2826, 7574, 3060, 1570, 5945, 2652]"
      ]
     },
     "execution_count": 31,
     "metadata": {},
     "output_type": "execute_result"
    }
   ],
   "source": [
    "[len(d) for d in tokenized_documents]"
   ]
  },
  {
   "cell_type": "code",
   "execution_count": 34,
   "metadata": {},
   "outputs": [
    {
     "data": {
      "text/plain": [
       "'\\n\\n\\n\\nGemini 2.0 model updates: 2.0 Flash, Flash-Lite, Pro Experimental\\n\\n\\n\\n\\n\\n\\n\\n\\n\\n\\n\\n\\n\\n\\n\\n\\n\\n\\n\\n\\n\\n\\n\\n\\n\\n\\n\\n\\n\\n\\n'"
      ]
     },
     "execution_count": 34,
     "metadata": {},
     "output_type": "execute_result"
    }
   ],
   "source": [
    "documents[0][\"page_content\"][:100]"
   ]
  },
  {
   "cell_type": "code",
   "execution_count": 32,
   "metadata": {},
   "outputs": [
    {
     "data": {
      "text/plain": [
       "['gemini',\n",
       " '2.0',\n",
       " 'model',\n",
       " 'updates:',\n",
       " '2.0',\n",
       " 'flash,',\n",
       " 'flash-lite,',\n",
       " 'pro',\n",
       " 'experimental',\n",
       " '[{\"model\":']"
      ]
     },
     "execution_count": 32,
     "metadata": {},
     "output_type": "execute_result"
    }
   ],
   "source": [
    "tokenized_documents[0][:10]"
   ]
  },
  {
   "cell_type": "code",
   "execution_count": 35,
   "metadata": {},
   "outputs": [
    {
     "data": {
      "text/plain": [
       "9614"
      ]
     },
     "execution_count": 35,
     "metadata": {},
     "output_type": "execute_result"
    }
   ],
   "source": [
    "from functools import reduce\n",
    "\n",
    "# Create a union set of elements from tokenized_documents\n",
    "vocab = reduce(lambda x, y: x.union(y), map(set, tokenized_documents))\n",
    "vocab = list(vocab)\n",
    "len(vocab)"
   ]
  },
  {
   "cell_type": "code",
   "execution_count": 36,
   "metadata": {},
   "outputs": [
    {
     "data": {
      "text/plain": [
       "['years,',\n",
       " 'deployment.',\n",
       " 'platform2025authorsopenai',\n",
       " 'conversation.comparative',\n",
       " 'resourcesnewscustomer',\n",
       " 'duberstein,',\n",
       " 'prompt:',\n",
       " 'grow.',\n",
       " 'strengths',\n",
       " 'usa,']"
      ]
     },
     "execution_count": 36,
     "metadata": {},
     "output_type": "execute_result"
    }
   ],
   "source": [
    "vocab[:10]"
   ]
  },
  {
   "cell_type": "code",
   "execution_count": 37,
   "metadata": {},
   "outputs": [],
   "source": [
    "# Create count vectors for each document\n",
    "doc_vectors = []\n",
    "for tokens in tokenized_documents:\n",
    "    counts = Counter(tokens)\n",
    "    # Create a vector that counts each word in the vocabulary\n",
    "    vector = [counts[word] for word in vocab]\n",
    "    doc_vectors.append(vector)"
   ]
  },
  {
   "cell_type": "code",
   "execution_count": 46,
   "metadata": {},
   "outputs": [
    {
     "data": {
      "text/plain": [
       "{'source': 'documents/Building Effective AI Agents _ Anthropic _ Anthropic.html'}"
      ]
     },
     "execution_count": 46,
     "metadata": {},
     "output_type": "execute_result"
    }
   ],
   "source": [
    "documents[-1][\"metadata\"]"
   ]
  },
  {
   "cell_type": "code",
   "execution_count": 45,
   "metadata": {},
   "outputs": [
    {
     "data": {
      "text/plain": [
       "True"
      ]
     },
     "execution_count": 45,
     "metadata": {},
     "output_type": "execute_result"
    }
   ],
   "source": [
    "\"resourcesnewscustomer\" in tokens"
   ]
  },
  {
   "cell_type": "code",
   "execution_count": 42,
   "metadata": {},
   "outputs": [
    {
     "data": {
      "text/plain": [
       "[0, 0, 0, 0, 1, 0, 0, 0, 0, 0]"
      ]
     },
     "execution_count": 42,
     "metadata": {},
     "output_type": "execute_result"
    }
   ],
   "source": [
    "vector[:10]"
   ]
  },
  {
   "cell_type": "code",
   "execution_count": 43,
   "metadata": {},
   "outputs": [
    {
     "data": {
      "text/plain": [
       "['years,',\n",
       " 'deployment.',\n",
       " 'platform2025authorsopenai',\n",
       " 'conversation.comparative',\n",
       " 'resourcesnewscustomer',\n",
       " 'duberstein,',\n",
       " 'prompt:',\n",
       " 'grow.',\n",
       " 'strengths',\n",
       " 'usa,']"
      ]
     },
     "execution_count": 43,
     "metadata": {},
     "output_type": "execute_result"
    }
   ],
   "source": [
    "vocab[:10]"
   ]
  },
  {
   "cell_type": "code",
   "execution_count": 52,
   "metadata": {},
   "outputs": [
    {
     "data": {
      "text/plain": [
       "'pusCommitments TransparencyResponsible scaling policySecurity and complianceSolutionsCodingLearning resourcesNewsCustomer storiesEngineering at AnthropicCompanyAbout usCareersHelp and securityStatusAv'"
      ]
     },
     "execution_count": 52,
     "metadata": {},
     "output_type": "execute_result"
    }
   ],
   "source": [
    "documents[-1][\"page_content\"][18488-100:18488+100]"
   ]
  },
  {
   "cell_type": "code",
   "execution_count": 54,
   "metadata": {},
   "outputs": [
    {
     "data": {
      "text/plain": [
       "(9, 9614)"
      ]
     },
     "execution_count": 54,
     "metadata": {},
     "output_type": "execute_result"
    }
   ],
   "source": [
    "len(doc_vectors), len(doc_vectors[0])"
   ]
  },
  {
   "cell_type": "code",
   "execution_count": 56,
   "metadata": {},
   "outputs": [
    {
     "name": "stdout",
     "output_type": "stream",
     "text": [
      "\n",
      "Query Vector:\n",
      "[0, 0, 0, 0, 0, 0, 0, 0, 0, 0, 0, 0, 0, 0, 0, 0, 0, 0, 0, 0, 0, 0, 0, 0, 0, 0, 0, 0, 0, 0, 0, 0, 0, 0, 0, 0, 0, 0, 0, 0, 0, 0, 0, 0, 0, 0, 0, 0, 0, 0, 0, 0, 0, 0, 0, 0, 0, 0, 0, 0, 0, 0, 0, 0, 0, 0, 0, 0, 0, 0, 0, 0, 0, 0, 0, 0, 0, 0, 0, 0, 0, 0, 0, 0, 0, 0, 0, 0, 0, 0, 0, 0, 0, 0, 0, 0, 0, 0, 0, 0, 0, 0, 0, 0, 0, 0, 0, 0, 0, 0, 0, 0, 0, 0, 0, 0, 0, 0, 0, 0, 0, 0, 0, 0, 0, 0, 0, 0, 0, 0, 0, 0, 0, 0, 0, 0, 0, 0, 0, 0, 0, 0, 0, 0, 0, 0, 0, 0, 0, 0, 0, 0, 0, 0, 0, 0, 0, 0, 0, 0, 0, 0, 0, 0, 0, 0, 0, 0, 0, 0, 0, 0, 0, 0, 0, 0, 0, 0, 0, 0, 0, 0, 0, 0, 0, 0, 0, 0, 0, 0, 0, 0, 0, 0, 0, 0, 0, 0, 0, 0, 0, 0, 0, 0, 0, 0, 0, 0, 0, 0, 0, 0, 0, 0, 0, 0, 0, 0, 0, 0, 0, 0, 0, 0, 0, 0, 0, 0, 0, 0, 0, 0, 0, 0, 0, 0, 0, 0, 0, 0, 0, 0, 0, 0, 0, 0, 0, 0, 0, 0, 0, 0, 0, 0, 0, 0, 0, 0, 0, 0, 0, 0, 0, 0, 0, 0, 0, 0, 0, 0, 0, 0, 0, 0, 0, 0, 0, 0, 0, 0, 0, 0, 0, 0, 0, 0, 0, 0, 0, 0, 0, 0, 0, 0, 0, 0, 0, 0, 0, 0, 0, 0, 0, 0, 0, 0, 0, 0, 0, 0, 0, 0, 0, 0, 0, 0, 0, 0, 0, 0, 0, 0, 0, 0, 0, 0, 0, 0, 0, 0, 0, 0, 0, 0, 0, 0, 0, 0, 0, 0, 0, 0, 0, 0, 0, 0, 0, 0, 0, 0, 0, 0, 0, 0, 0, 0, 0, 0, 0, 0, 0, 0, 0, 0, 0, 0, 0, 0, 0, 0, 0, 0, 0, 0, 0, 0, 0, 0, 0, 0, 0, 0, 0, 0, 0, 0, 0, 0, 0, 0, 0, 0, 0, 0, 0, 0, 0, 0, 0, 0, 0, 0, 0, 0, 0, 0, 0, 0, 0, 0, 0, 0, 0, 0, 0, 0, 0, 0, 0, 0, 0, 0, 0, 0, 0, 0, 0, 0, 0, 0, 0, 0, 0, 0, 0, 0, 0, 0, 0, 0, 0, 0, 0, 0, 0, 0, 0, 0, 0, 0, 0, 0, 0, 0, 0, 0, 0, 0, 0, 0, 0, 0, 0, 0, 0, 0, 0, 0, 0, 0, 0, 0, 0, 0, 0, 0, 0, 0, 0, 0, 0, 0, 0, 0, 0, 0, 0, 0, 0, 0, 0, 0, 0, 0, 0, 0, 0, 0, 0, 0, 0, 0, 0, 0, 0, 0, 0, 0, 0, 0, 0, 0, 0, 0, 0, 0, 0, 0, 0, 0, 0, 0, 0, 0, 0, 0, 0, 0, 0, 0, 0, 0, 0, 0, 0, 0, 0, 0, 0, 0, 0, 0, 0, 0, 0, 0, 0, 0, 0, 0, 0, 0, 0, 0, 0, 0, 0, 0, 0, 0, 0, 0, 0, 0, 0, 0, 0, 0, 0, 0, 0, 0, 0, 0, 0, 0, 0, 0, 0, 0, 0, 0, 0, 0, 0, 0, 0, 0, 0, 0, 0, 0, 0, 0, 0, 0, 0, 0, 0, 0, 0, 0, 0, 0, 0, 0, 0, 0, 0, 0, 0, 0, 0, 0, 0, 0, 0, 0, 0, 0, 0, 0, 0, 0, 0, 0, 0, 0, 0, 0, 0, 0, 0, 0, 0, 0, 0, 0, 0, 0, 0, 0, 0, 0, 0, 0, 0, 0, 0, 0, 0, 0, 0, 0, 0, 0, 0, 0, 0, 0, 0, 0, 0, 0, 0, 0, 0, 0, 0, 0, 0, 0, 0, 0, 0, 0, 0, 0, 0, 0, 0, 0, 0, 0, 0, 0, 0, 0, 0, 0, 0, 0, 0, 0, 0, 0, 0, 0, 0, 0, 0, 0, 0, 0, 0, 0, 0, 0, 0, 0, 0, 0, 0, 0, 0, 0, 0, 0, 0, 0, 0, 0, 0, 0, 0, 0, 0, 0, 0, 0, 0, 0, 0, 0, 0, 0, 0, 0, 0, 0, 0, 0, 0, 0, 0, 0, 0, 0, 0, 0, 0, 0, 0, 0, 0, 0, 0, 0, 0, 0, 0, 0, 0, 0, 0, 0, 0, 0, 0, 0, 0, 0, 0, 0, 0, 0, 0, 0, 0, 0, 0, 0, 0, 0, 0, 0, 0, 0, 0, 0, 0, 0, 0, 0, 0, 0, 0, 0, 0, 0, 0, 0, 0, 0, 0, 0, 0, 0, 0, 0, 0, 0, 0, 0, 0, 0, 0, 0, 0, 0, 0, 0, 0, 0, 0, 0, 0, 0, 0, 0, 0, 0, 0, 0, 0, 0, 0, 0, 0, 0, 0, 0, 0, 0, 0, 0, 0, 0, 0, 0, 0, 0, 0, 0, 0, 0, 0, 0, 0, 0, 0, 0, 0, 0, 0, 0, 0, 0, 0, 0, 0, 0, 0, 0, 0, 0, 0, 0, 0, 0, 0, 0, 0, 0, 0, 0, 0, 0, 0, 0, 0, 0, 0, 0, 0, 0, 0, 0, 0, 0, 0, 0, 0, 0, 0, 0, 0, 0, 0, 0, 0, 0, 0, 0, 0, 0, 0, 0, 0, 0, 0, 0, 0, 0, 0, 0, 0, 0, 0, 0, 0, 0, 0, 0, 0, 0, 0, 0, 0, 0, 0, 0, 0, 0, 0, 0, 0, 0, 0, 0, 0, 0, 0, 0, 0, 0, 0, 0, 0, 0, 0, 0, 0, 0, 0, 0, 0, 0, 0, 0, 0, 0, 0, 0, 0, 0, 0, 0, 0, 0, 0, 0, 0, 0, 0, 0, 0, 0, 0, 0, 0, 0, 0, 0, 0, 0, 0, 0, 0, 0, 0, 0, 0, 0, 0, 0, 0, 0, 0, 0, 0, 0, 0, 0, 0, 0, 0, 0, 0, 0, 0, 0, 0, 0, 0, 0, 0, 0, 0, 0, 0, 0, 0, 0, 0, 0, 0, 0, 0, 0, 0, 0, 0, 0, 0, 0, 0, 0, 0, 0, 0, 0, 0, 0, 0, 0, 0, 0, 0, 0, 0, 0, 0, 0, 0, 0, 0, 0, 0, 0, 0, 0, 0, 0, 0, 0, 0, 0, 0, 0, 0, 0, 0, 0, 0, 0, 0, 0, 0, 0, 0, 0, 0, 0, 0, 0, 0, 0, 0, 0, 0, 0, 0, 0, 0, 0, 0, 0, 0, 0, 0, 0, 0, 0, 0, 0, 0, 0, 0, 0, 0, 0, 0, 0, 0, 0, 0, 0, 0, 0, 0, 0, 0, 0, 0, 0, 0, 0, 0, 0, 0, 0, 0, 0, 0, 0, 0, 0, 0, 0, 0, 0, 0, 0, 0, 0, 0, 0, 0, 0, 0, 0, 0, 0, 0, 0, 0, 0, 0, 0, 0, 0, 0, 0, 0, 0, 0, 0, 0, 0, 0, 0, 0, 0, 0, 0, 0, 0, 0, 0, 0, 0, 0, 0, 0, 0, 0, 0, 0, 0, 0, 0, 0, 0, 0, 0, 0, 0, 0, 0, 0, 0, 0, 0, 0, 0, 0, 0, 0, 0, 0, 0, 0, 0, 0, 0, 0, 0, 0, 0, 0, 0, 0, 0, 0, 0, 0, 0, 0, 0, 0, 0, 0, 0, 0, 0, 0, 0, 0, 0, 0, 0, 0, 0, 0, 0, 0, 0, 0, 0, 0, 0, 0, 0, 0, 0, 0, 0, 0, 0, 0, 0, 0, 0, 0, 0, 0, 0, 0, 0, 0, 0, 0, 0, 0, 0, 0, 0, 0, 0, 0, 0, 0, 0, 0, 0, 0, 0, 0, 0, 0, 0, 0, 0, 0, 0, 0, 0, 0, 0, 0, 0, 0, 0, 0, 0, 0, 0, 0, 0, 0, 0, 0, 0, 0, 0, 0, 0, 0, 0, 0, 0, 0, 0, 0, 0, 0, 0, 0, 0, 0, 0, 0, 0, 0, 0, 0, 0, 0, 0, 0, 0, 0, 0, 0, 0, 0, 0, 0, 0, 0, 0, 0, 0, 0, 0, 0, 0, 0, 0, 0, 0, 0, 0, 0, 0, 0, 0, 0, 0, 0, 0, 0, 0, 0, 0, 0, 0, 0, 0, 0, 0, 0, 0, 0, 0, 0, 0, 0, 0, 0, 0, 0, 0, 0, 0, 0, 0, 0, 0, 0, 0, 0, 0, 0, 0, 0, 0, 0, 0, 0, 0, 0, 0, 0, 0, 0, 0, 0, 0, 0, 0, 0, 0, 0, 0, 0, 0, 0, 0, 0, 0, 0, 0, 0, 0, 0, 0, 0, 0, 0, 0, 0, 0, 0, 0, 0, 0, 0, 0, 0, 0, 0, 0, 0, 0, 0, 0, 0, 0, 0, 0, 0, 0, 0, 0, 0, 0, 0, 0, 0, 0, 0, 0, 0, 0, 0, 0, 0, 0, 0, 0, 0, 0, 0, 0, 0, 0, 0, 0, 0, 0, 0, 0, 0, 0, 0, 0, 0, 0, 0, 0, 0, 0, 0, 0, 0, 0, 0, 0, 0, 0, 0, 0, 0, 0, 0, 0, 0, 0, 0, 0, 0, 0, 0, 0, 0, 0, 0, 0, 0, 0, 0, 0, 0, 0, 0, 0, 0, 0, 0, 0, 0, 0, 0, 0, 0, 0, 0, 0, 0, 0, 0, 0, 0, 0, 0, 0, 0, 0, 0, 0, 0, 0, 0, 0, 0, 0, 0, 0, 0, 0, 0, 0, 0, 0, 0, 0, 0, 0, 0, 0, 0, 0, 0, 0, 0, 0, 0, 0, 0, 0, 0, 0, 0, 0, 0, 0, 0, 0, 0, 0, 0, 0, 0, 0, 0, 0, 0, 0, 0, 0, 0, 0, 0, 0, 0, 0, 0, 0, 0, 0, 0, 0, 0, 0, 0, 0, 0, 0, 0, 0, 0, 0, 0, 0, 0, 0, 0, 0, 0, 0, 0, 0, 0, 0, 0, 0, 0, 0, 0, 0, 0, 0, 0, 0, 0, 0, 0, 0, 0, 0, 0, 0, 0, 0, 0, 0, 0, 0, 0, 0, 0, 0, 0, 0, 0, 0, 0, 0, 0, 0, 0, 0, 0, 0, 0, 0, 0, 0, 0, 0, 0, 0, 0, 0, 0, 0, 0, 0, 0, 0, 0, 0, 0, 0, 0, 0, 0, 0, 0, 0, 0, 0, 0, 0, 0, 0, 0, 0, 0, 0, 0, 0, 0, 0, 0, 0, 0, 0, 0, 0, 0, 0, 0, 0, 0, 0, 0, 0, 0, 0, 0, 0, 0, 0, 0, 0, 0, 0, 0, 0, 0, 0, 0, 0, 0, 0, 0, 0, 0, 0, 0, 0, 0, 0, 0, 0, 0, 0, 0, 0, 0, 0, 0, 0, 0, 0, 0, 0, 0, 0, 0, 0, 0, 0, 0, 0, 0, 0, 0, 0, 0, 0, 0, 0, 0, 0, 0, 0, 0, 0, 0, 0, 0, 0, 0, 0, 0, 0, 0, 0, 0, 0, 0, 0, 0, 0, 0, 0, 0, 0, 0, 0, 0, 0, 0, 0, 0, 0, 0, 0, 0, 0, 0, 0, 0, 0, 0, 0, 0, 0, 0, 0, 0, 0, 0, 0, 0, 0, 0, 0, 0, 0, 0, 0, 0, 0, 0, 0, 0, 0, 0, 0, 0, 0, 0, 0, 0, 0, 0, 0, 0, 0, 0, 0, 0, 0, 0, 0, 0, 0, 0, 0, 0, 0, 0, 0, 0, 0, 0, 0, 0, 0, 0, 0, 0, 0, 0, 0, 0, 0, 0, 0, 0, 0, 0, 0, 0, 0, 0, 0, 0, 0, 0, 0, 0, 0, 0, 0, 0, 0, 0, 0, 0, 0, 0, 0, 0, 0, 0, 0, 0, 0, 0, 0, 0, 0, 0, 0, 0, 0, 0, 0, 0, 0, 0, 0, 0, 0, 0, 0, 0, 0, 0, 0, 0, 0, 0, 0, 0, 0, 0, 0, 0, 0, 0, 0, 0, 0, 0, 0, 0, 0, 0, 0, 0, 0, 0, 0, 0, 0, 0, 0, 0, 0, 0, 0, 0, 0, 0, 0, 0, 0, 0, 0, 0, 0, 0, 0, 0, 0, 0, 0, 0, 0, 0, 0, 0, 0, 0, 0, 0, 0, 0, 0, 0, 0, 0, 0, 0, 0, 0, 0, 0, 0, 0, 0, 0, 0, 0, 0, 0, 0, 0, 0, 0, 0, 0, 0, 0, 0, 0, 0, 0, 0, 0, 0, 0, 0, 0, 0, 0, 0, 0, 0, 0, 0, 0, 0, 0, 0, 0, 0, 0, 0, 0, 0, 0, 0, 0, 0, 0, 0, 0, 0, 0, 0, 0, 0, 0, 0, 0, 0, 0, 0, 0, 0, 0, 0, 0, 0, 0, 0, 0, 0, 0, 0, 0, 0, 0, 0, 0, 0, 0, 0, 0, 0, 0, 0, 0, 0, 0, 0, 0, 0, 0, 0, 0, 0, 0, 0, 0, 0, 0, 0, 0, 0, 0, 0, 0, 0, 0, 0, 0, 0, 0, 0, 0, 0, 0, 0, 0, 0, 0, 0, 0, 0, 0, 0, 0, 0, 0, 0, 0, 0, 0, 0, 0, 0, 0, 0, 0, 0, 0, 0, 0, 0, 0, 0, 0, 0, 0, 0, 0, 0, 0, 0, 0, 0, 0, 0, 0, 0, 0, 0, 0, 0, 0, 0, 0, 0, 0, 0, 0, 0, 0, 0, 0, 0, 0, 0, 0, 0, 0, 0, 0, 0, 0, 0, 0, 0, 0, 0, 0, 0, 0, 0, 0, 0, 0, 0, 0, 0, 0, 0, 0, 0, 0, 0, 0, 0, 0, 0, 0, 0, 0, 0, 0, 0, 0, 0, 0, 0, 0, 0, 0, 0, 0, 0, 0, 0, 0, 0, 0, 0, 0, 0, 0, 0, 0, 0, 0, 0, 0, 0, 0, 0, 0, 0, 0, 0, 0, 0, 0, 0, 0, 0, 0, 0, 0, 0, 0, 0, 0, 0, 0, 0, 0, 0, 0, 0, 0, 0, 0, 0, 0, 0, 0, 0, 0, 0, 0, 0, 0, 0, 0, 0, 0, 0, 0, 0, 0, 0, 0, 0, 0, 0, 0, 0, 0, 0, 0, 0, 0, 0, 0, 0, 0, 0, 0, 0, 0, 0, 0, 0, 0, 0, 0, 0, 0, 0, 0, 0, 0, 0, 0, 0, 0, 0, 0, 0, 0, 0, 0, 0, 0, 0, 0, 0, 0, 0, 0, 0, 0, 0, 0, 0, 0, 0, 0, 0, 0, 0, 0, 0, 0, 0, 0, 0, 0, 0, 0, 0, 0, 0, 0, 0, 0, 0, 0, 0, 0, 0, 0, 0, 0, 0, 0, 0, 0, 0, 0, 0, 0, 0, 0, 0, 0, 0, 0, 0, 0, 0, 0, 0, 0, 0, 0, 0, 0, 0, 0, 0, 0, 0, 0, 0, 0, 0, 0, 0, 0, 0, 0, 0, 0, 0, 0, 0, 0, 0, 0, 0, 0, 0, 0, 0, 0, 0, 0, 0, 0, 0, 0, 0, 0, 0, 0, 0, 0, 0, 0, 0, 0, 0, 0, 0, 0, 0, 0, 0, 0, 0, 0, 0, 0, 0, 0, 0, 0, 0, 0, 0, 0, 0, 0, 0, 0, 0, 0, 0, 0, 0, 0, 0, 0, 0, 0, 0, 0, 0, 0, 0, 0, 0, 0, 0, 0, 0, 0, 0, 0, 0, 0, 0, 0, 0, 0, 0, 0, 0, 0, 0, 0, 0, 0, 0, 0, 0, 0, 0, 0, 0, 0, 0, 0, 0, 0, 0, 0, 0, 0, 0, 0, 0, 0, 0, 0, 0, 0, 0, 0, 0, 0, 0, 0, 0, 0, 0, 0, 0, 0, 0, 0, 0, 0, 0, 0, 0, 0, 0, 0, 0, 0, 0, 0, 0, 0, 0, 0, 0, 0, 0, 0, 0, 0, 0, 0, 0, 0, 0, 0, 0, 0, 0, 0, 0, 0, 0, 0, 0, 0, 0, 0, 0, 0, 0, 0, 0, 0, 0, 0, 0, 0, 0, 0, 0, 0, 0, 0, 0, 0, 0, 0, 0, 0, 0, 0, 0, 0, 0, 0, 0, 0, 0, 0, 0, 0, 0, 0, 0, 0, 0, 0, 0, 0, 0, 0, 0, 0, 0, 0, 0, 0, 0, 0, 0, 0, 0, 0, 0, 0, 0, 0, 0, 0, 0, 0, 0, 0, 0, 0, 0, 0, 0, 0, 0, 0, 0, 0, 0, 0, 0, 0, 0, 0, 0, 0, 0, 0, 0, 0, 0, 0, 0, 0, 0, 0, 0, 0, 0, 0, 0, 0, 0, 0, 0, 0, 0, 0, 0, 0, 0, 0, 0, 0, 0, 0, 0, 0, 0, 0, 0, 0, 0, 0, 0, 0, 0, 0, 0, 0, 0, 0, 0, 0, 0, 0, 0, 0, 0, 0, 0, 0, 0, 0, 0, 0, 0, 0, 0, 0, 0, 0, 0, 0, 0, 0, 0, 0, 0, 0, 0, 0, 0, 0, 0, 0, 0, 0, 0, 0, 0, 0, 0, 0, 0, 0, 0, 0, 0, 0, 0, 0, 0, 0, 0, 0, 0, 0, 0, 0, 0, 0, 0, 0, 0, 0, 0, 0, 0, 0, 0, 0, 0, 0, 0, 0, 0, 0, 0, 0, 0, 0, 0, 0, 0, 0, 0, 0, 0, 0, 0, 0, 0, 0, 0, 0, 0, 0, 0, 0, 0, 0, 0, 0, 0, 0, 0, 0, 0, 0, 0, 0, 0, 0, 0, 0, 0, 0, 0, 0, 0, 0, 0, 0, 0, 0, 0, 0, 0, 0, 0, 0, 0, 0, 0, 0, 0, 0, 0, 0, 0, 0, 0, 0, 0, 0, 0, 0, 0, 0, 0, 0, 0, 0, 0, 0, 0, 0, 0, 0, 0, 0, 0, 0, 0, 0, 0, 0, 0, 0, 0, 0, 0, 0, 0, 0, 0, 0, 0, 0, 0, 0, 0, 0, 0, 0, 0, 0, 0, 0, 0, 0, 0, 0, 0, 0, 0, 0, 0, 0, 0, 0, 0, 0, 0, 0, 0, 0, 0, 0, 0, 0, 0, 0, 0, 0, 0, 0, 0, 0, 0, 0, 0, 0, 0, 0, 0, 0, 0, 0, 0, 0, 0, 0, 0, 0, 0, 0, 0, 0, 0, 0, 0, 0, 0, 0, 0, 0, 0, 0, 0, 0, 0, 0, 0, 0, 0, 0, 0, 0, 0, 0, 0, 0, 0, 0, 0, 0, 0, 0, 0, 0, 0, 0, 0, 0, 0, 0, 0, 0, 0, 0, 0, 0, 0, 0, 0, 0, 0, 0, 0, 0, 0, 0, 0, 0, 0, 0, 0, 0, 0, 0, 0, 0, 0, 0, 0, 0, 0, 0, 0, 0, 0, 0, 0, 0, 0, 0, 0, 0, 0, 0, 0, 0, 0, 0, 0, 0, 0, 0, 0, 0, 0, 0, 0, 0, 0, 0, 0, 0, 0, 0, 0, 0, 0, 0, 0, 0, 0, 0, 0, 0, 0, 0, 0, 0, 0, 0, 0, 0, 0, 0, 0, 0, 0, 0, 0, 0, 0, 0, 0, 0, 0, 0, 0, 0, 0, 0, 0, 0, 0, 0, 0, 0, 0, 0, 0, 0, 0, 0, 0, 0, 0, 0, 0, 0, 0, 0, 0, 0, 0, 0, 0, 0, 0, 0, 0, 0, 0, 0, 0, 0, 0, 0, 0, 0, 0, 0, 0, 0, 0, 0, 0, 0, 0, 0, 0, 0, 0, 0, 0, 0, 0, 0, 0, 0, 0, 0, 0, 0, 0, 0, 0, 0, 0, 0, 0, 0, 0, 0, 0, 0, 0, 0, 0, 0, 0, 0, 0, 0, 0, 0, 0, 0, 0, 0, 0, 0, 0, 0, 0, 0, 0, 0, 0, 0, 0, 0, 0, 0, 0, 0, 0, 0, 0, 0, 0, 0, 0, 0, 0, 0, 0, 0, 0, 0, 0, 0, 0, 0, 0, 0, 0, 0, 0, 0, 0, 0, 0, 0, 0, 0, 0, 0, 0, 0, 0, 0, 0, 0, 0, 0, 0, 0, 0, 0, 0, 0, 0, 0, 0, 0, 0, 0, 0, 0, 0, 0, 0, 0, 0, 0, 0, 0, 0, 0, 0, 0, 0, 0, 0, 0, 0, 0, 0, 0, 0, 0, 0, 0, 0, 0, 0, 0, 0, 0, 0, 0, 0, 0, 0, 0, 0, 0, 0, 0, 0, 0, 0, 0, 0, 0, 0, 0, 0, 0, 0, 0, 0, 0, 0, 0, 0, 0, 0, 0, 0, 0, 0, 0, 0, 0, 0, 0, 0, 0, 0, 0, 0, 0, 0, 0, 0, 0, 0, 0, 0, 0, 0, 0, 0, 0, 0, 0, 0, 0, 0, 0, 0, 0, 0, 0, 0, 0, 0, 0, 0, 0, 0, 0, 0, 0, 0, 0, 0, 0, 0, 0, 0, 0, 0, 0, 0, 0, 0, 0, 0, 0, 0, 0, 0, 0, 0, 0, 0, 0, 0, 0, 0, 0, 0, 0, 0, 0, 0, 0, 0, 0, 0, 0, 0, 0, 0, 0, 0, 0, 0, 0, 0, 0, 0, 0, 0, 0, 0, 0, 0, 0, 0, 0, 0, 0, 0, 0, 0, 0, 0, 0, 0, 0, 0, 0, 0, 0, 0, 0, 0, 0, 0, 0, 0, 0, 0, 0, 0, 0, 0, 0, 0, 0, 0, 0, 0, 0, 0, 0, 0, 0, 0, 0, 0, 0, 0, 0, 0, 0, 0, 0, 0, 0, 0, 0, 0, 0, 0, 0, 0, 0, 0, 0, 0, 0, 0, 0, 0, 0, 0, 0, 0, 0, 0, 0, 0, 0, 0, 0, 0, 0, 0, 0, 0, 0, 0, 0, 0, 0, 0, 0, 0, 0, 0, 0, 0, 0, 0, 0, 0, 0, 0, 0, 0, 0, 0, 0, 0, 0, 0, 0, 0, 0, 0, 0, 0, 0, 0, 0, 0, 0, 0, 0, 0, 0, 0, 0, 0, 0, 0, 0, 0, 0, 0, 0, 0, 0, 0, 0, 0, 0, 0, 0, 0, 0, 0, 0, 0, 0, 0, 0, 0, 0, 0, 0, 0, 0, 0, 0, 0, 0, 0, 0, 0, 0, 0, 0, 0, 0, 0, 0, 1, 0, 0, 0, 0, 0, 0, 0, 0, 0, 0, 0, 0, 0, 0, 0, 0, 0, 0, 0, 0, 0, 0, 0, 0, 0, 0, 0, 0, 0, 0, 0, 0, 0, 0, 0, 0, 0, 0, 0, 0, 0, 0, 0, 0, 0, 0, 0, 0, 0, 0, 0, 0, 0, 0, 0, 0, 0, 0, 0, 0, 0, 0, 0, 0, 0, 0, 0, 0, 0, 0, 0, 0, 0, 0, 0, 0, 0, 0, 0, 0, 0, 0, 0, 0, 0, 0, 0, 0, 0, 0, 0, 0, 0, 0, 0, 0, 0, 0, 0, 0, 0, 0, 0, 0, 0, 0, 0, 0, 0, 0, 0, 0, 0, 0, 0, 0, 0, 0, 0, 0, 0, 0, 0, 0, 0, 0, 0, 0, 0, 0, 0, 0, 0, 0, 0, 0, 0, 0, 0, 0, 0, 0, 0, 0, 0, 0, 0, 0, 0, 0, 0, 0, 0, 0, 0, 0, 0, 0, 0, 0, 0, 0, 0, 0, 0, 0, 0, 0, 0, 0, 0, 0, 0, 0, 0, 0, 0, 0, 0, 0, 0, 0, 0, 0, 0, 0, 0, 0, 0, 0, 0, 0, 0, 0, 0, 0, 0, 0, 0, 0, 0, 0, 0, 0, 0, 0, 0, 0, 0, 0, 0, 0, 0, 0, 0, 0, 0, 0, 0, 0, 0, 0, 0, 0, 0, 0, 0, 0, 0, 0, 0, 0, 0, 0, 0, 0, 0, 0, 0, 0, 0, 0, 0, 0, 0, 0, 0, 0, 0, 0, 0, 0, 0, 0, 0, 0, 0, 0, 0, 0, 0, 0, 0, 0, 0, 0, 0, 0, 0, 0, 0, 0, 0, 0, 0, 0, 0, 0, 0, 0, 0, 0, 0, 0, 0, 0, 0, 0, 0, 0, 0, 0, 0, 0, 0, 0, 0, 0, 0, 0, 0, 0, 0, 0, 0, 0, 0, 0, 0, 0, 0, 0, 0, 0, 0, 0, 0, 0, 0, 0, 0, 0, 0, 0, 0, 0, 0, 0, 0, 0, 0, 0, 0, 0, 0, 0, 0, 0, 0, 0, 0, 0, 0, 0, 0, 0, 0, 0, 0, 0, 0, 0, 0, 0, 0, 0, 0, 0, 0, 0, 0, 0, 0, 0, 0, 0, 0, 0, 0, 0, 0, 0, 0, 0, 0, 0, 0, 0, 0, 0, 0, 0, 0, 0, 0, 0, 0, 0, 0, 0, 0, 0, 0, 0, 0, 0, 0, 0, 0, 0, 0, 0, 0, 0, 0, 0, 0, 0, 0, 0, 0, 0, 0, 0, 0, 0, 0, 0, 0, 0, 0, 0, 0, 0, 0, 0, 0, 0, 0, 0, 0, 0, 0, 0, 0, 0, 0, 0, 0, 0, 0, 0, 0, 0, 0, 0, 0, 0, 0, 0, 0, 0, 1, 0, 0, 0, 0, 0, 0, 0, 0, 0, 0, 0, 0, 0, 0, 0, 0, 0, 0, 0, 0, 0, 0, 0, 0, 0, 0, 0, 0, 0, 0, 0, 0, 0, 0, 0, 0, 0, 0, 0, 0, 0, 0, 0, 0, 0, 0, 0, 0, 0, 0, 0, 0, 0, 0, 0, 0, 0, 0, 0, 0, 0, 0, 0, 0, 0, 0, 0, 0, 0, 0, 0, 0, 0, 0, 0, 0, 0, 0, 0, 0, 0, 0, 0, 0, 0, 0, 0, 0, 0, 0, 0, 0, 0, 0, 0, 0, 0, 0, 0, 0, 0, 0, 0, 0, 0, 0, 0, 0, 0, 0, 0, 0, 0, 0, 0, 0, 0, 0, 0, 0, 0, 0, 0, 0, 0, 0, 0, 0, 0, 0, 0, 0, 0, 0, 0, 0, 0, 0, 0, 0, 0, 0, 0, 0, 0, 0, 0, 0, 0, 0, 0, 0, 0, 0, 0, 0, 0, 0, 0, 0, 0, 0, 0, 0, 0, 0, 0, 0, 0, 0, 0, 0, 0, 0, 0, 0, 0, 0, 0, 0, 0, 0, 0, 0, 0, 0, 0, 0, 0, 0, 0, 0, 0, 0, 0, 0, 0, 0, 0, 0, 0, 0, 0, 0, 0, 0, 0, 0, 0, 0, 0, 0, 0, 0, 0, 0, 0, 0, 0, 0, 0, 0, 0, 0, 0, 0, 0, 0, 0, 0, 0, 0, 0, 0, 0, 0, 0, 0, 0, 0, 0, 0, 0, 0, 0, 0, 0, 0, 0, 0, 0, 0, 0, 0, 0, 0, 0, 0, 0, 0, 0, 0, 0, 0, 0, 0, 0, 0, 0, 0, 0, 0, 0, 0, 0, 0, 0, 0, 0, 0, 0, 0, 0, 0, 0, 0, 0, 0, 0, 0, 0, 0, 0, 0, 0, 0, 0, 0, 0, 0, 0, 0, 0, 0, 0, 0, 0, 0, 0, 0, 0, 0, 0, 0, 0, 0, 0, 0, 0, 0, 0, 0, 0, 0, 0, 0, 0, 0, 0, 0, 0, 0, 0, 0, 0, 0, 0, 0, 0, 0, 0, 0, 0, 0, 0, 0, 0, 0, 0, 0, 0, 0, 0, 0, 0, 0, 0, 0, 0, 0, 0, 0, 0, 0, 0, 0, 0, 0, 0, 0, 0, 0, 0, 0, 0, 0, 0, 0, 0, 0, 0, 0, 0, 0, 0, 0, 0, 0, 0, 0, 0, 0, 0, 0, 0, 0, 0, 0, 0, 0, 0, 0, 0, 0, 0, 0, 0, 0, 0, 0, 0, 0, 0, 0, 0, 0, 0, 0, 0, 0, 0, 0, 0, 0, 0, 0, 0, 0, 0, 0, 0, 0, 0, 0, 0, 0, 0, 0, 0, 0, 0, 0, 0, 0, 0, 0, 0, 0, 0, 0, 0, 0, 0, 0, 0, 0, 0, 0, 0, 0, 0, 0, 0, 0, 0, 0, 0, 0, 0, 0, 0, 0, 0, 0, 0, 0, 0, 0, 0, 0, 0, 0, 0, 0, 0, 0, 0, 0, 0, 0, 0, 0, 0, 0, 0, 0, 0, 0, 0, 0, 0, 0, 0, 0, 0, 0, 0, 0, 0, 0, 0, 0, 0, 0, 0, 0, 0, 0, 0, 0, 0, 0, 0, 0, 0, 0, 0, 0, 0, 0, 0, 0, 0, 0, 0, 0, 0, 0, 0, 0, 0, 0, 0, 0, 0, 0, 0, 0, 0, 0, 0, 0, 0, 0, 0, 0, 0, 0, 0, 0, 0, 0, 0, 0, 0, 0, 0, 0, 0, 0, 0, 0, 0, 0, 0, 0, 0, 0, 0, 0, 0, 0, 0, 0, 0, 0, 0, 0, 0, 0, 0, 0, 0, 0, 0, 0, 0, 0, 0, 0, 0, 0, 0, 0, 0, 0, 0, 0, 0, 0, 0, 0, 0, 0, 0, 0, 0, 0, 0, 0, 0, 0, 0, 0, 0, 0, 0, 0, 0, 0, 0, 0, 0, 0, 0, 0, 0, 0, 0, 0, 0, 0, 0, 0, 0, 0, 0, 0, 0, 0, 0, 0, 0, 0, 0, 0, 0, 0, 0, 0, 0, 0, 0, 0, 0, 0, 0, 0, 0, 0, 0, 0, 0, 0, 0, 0, 0, 0, 0, 0, 0, 0, 0, 0, 0, 0, 0, 0, 0, 0, 0, 0, 0, 0, 0, 0, 0, 0, 0, 0, 0, 0, 0, 0, 0, 0, 0, 0, 0, 0, 0, 0, 0, 0, 0, 0, 0, 0, 0, 0, 0, 0, 0, 0, 0, 0, 0, 0, 0, 0, 0, 0, 0, 0, 0, 0, 0, 0, 0, 0, 0, 0, 0, 0, 0, 0, 0, 0, 0, 0, 0, 0, 0, 0, 0, 0, 0, 0, 0, 0, 0, 0, 0, 0, 0, 0, 0, 0, 0, 0, 0, 0, 0, 0, 0, 0, 0, 0, 0, 0, 0, 0, 0, 0, 0, 0, 0, 0, 0, 0, 0, 0, 0, 0, 0, 0, 0, 0, 0, 0, 0, 0, 0, 0, 0, 0, 0, 0, 0, 0, 0, 0, 0, 0, 0, 0, 0, 0, 0, 0, 0, 0, 0, 0, 0, 0, 0, 0, 0, 0, 0, 0, 0, 0, 0, 0, 0, 0, 0, 0, 0, 0, 0, 0, 0, 0, 0, 0, 0, 0, 0, 0, 0, 0, 0, 0, 0, 0, 0, 0, 0, 0, 0, 0, 0, 0, 0, 0, 0, 0, 0, 0, 0, 0, 0, 0, 0, 0, 0, 0, 0, 0, 0, 0, 0, 0, 0, 0, 0, 0, 0, 0, 0, 0, 0, 0, 0, 0, 0, 0, 0, 0, 0, 0, 0, 0, 0, 0, 0, 0, 0, 0, 0, 0, 0, 0, 0, 0, 0, 0, 0, 0, 0, 0, 0, 0, 0, 0, 0, 0, 0, 0, 0, 0, 0, 0, 0, 0, 0, 0, 0, 0, 0, 0, 0, 0, 0, 0, 0, 0, 0, 0, 0, 0, 0, 0, 0, 0, 0, 0, 0, 0, 0, 0, 0, 0, 0, 0, 0, 0, 0, 0, 0, 0, 0, 0, 0, 0, 0, 0, 0, 0, 0, 0, 0, 0, 0, 0, 0, 0, 0, 0, 0, 0, 0, 0, 0, 0, 0, 0, 0, 0, 0, 0, 0, 0, 0, 0, 0, 0, 0, 0, 0, 0, 0, 0, 0, 0, 0, 0, 0, 0, 0, 0, 0, 0, 0, 0, 0, 0, 0, 0, 0, 0, 0, 0, 0, 0, 0, 0, 0, 0, 0, 0, 0, 0, 0, 0, 0, 0, 0, 0, 0, 0, 0, 0, 0, 0, 0, 0, 0, 0, 0, 0, 0, 0, 0, 0, 0, 0, 0, 0, 0, 0, 0, 0, 0, 0, 0, 0, 0, 0, 0, 0, 0, 0, 0, 0, 0, 0, 0, 0, 0, 0, 0, 0, 0, 0, 0, 0, 0, 0, 0, 0, 0, 0, 0, 0, 0, 0, 0, 0, 0, 0, 0, 0, 0, 0, 0, 0, 0, 0, 0, 0, 0, 0, 0, 0, 0, 0, 0, 0, 0, 0, 0, 0, 0, 0, 0, 0, 0, 0, 0, 0, 0, 0, 0, 0, 0, 0, 0, 0, 0, 0, 0, 0, 0, 0, 0, 0, 0, 0, 0, 1, 0, 0, 0, 0, 0, 0, 0, 0, 0, 0, 0, 0, 0, 0, 0, 0, 0, 0, 0, 0, 0, 0, 0, 0, 0, 0, 0, 0, 0, 0, 0, 0, 0, 0, 0, 0, 0, 0, 0, 0, 0, 0, 0, 0, 0, 0, 0, 0, 0, 0, 0, 0, 0, 0, 0, 0, 0, 0, 0, 0, 0, 0, 0, 0, 0, 0, 0, 0, 0, 0, 0, 0, 0, 0, 0, 0, 0, 0, 0, 0, 0, 0, 0, 0, 0, 0, 0, 0, 0, 0, 0, 0, 0, 0, 0, 0, 0, 0, 0, 0, 0, 0, 0, 0, 0, 0, 0, 0, 0, 0, 0, 0, 0, 0, 0, 0, 0, 0, 0, 0, 0, 0, 0, 0, 0, 0, 0, 0, 0, 0, 0, 0, 0, 0, 0, 0, 0, 0, 0, 0, 0, 0, 0, 0, 0, 0, 0, 0, 0, 0, 0, 0, 0, 0, 0, 0, 0, 0, 0, 0, 0, 0, 0, 0, 0, 0, 0, 0, 0, 0, 0, 0, 0, 0, 0, 0, 0, 0, 0, 0, 0, 0, 0, 0, 0, 0, 0, 0, 0, 0, 0, 0, 0, 0, 0, 0, 0, 0, 0, 0, 0, 0, 0, 0, 0, 0, 0, 0, 0, 0, 0, 0, 0, 0, 0, 0, 0, 0, 0, 0, 0, 0, 0, 0, 0, 0, 0, 0, 0, 0, 0, 0, 0, 0, 0, 0, 0, 0, 0, 0, 0, 0, 0, 0, 0, 0, 0, 0, 0, 0, 0, 0, 0, 0, 0, 0, 0, 0, 0, 0, 0, 0, 0, 0, 0, 0, 0, 0, 0, 0, 0, 0, 0, 0, 0, 0, 0, 0, 0, 0, 0, 0, 0, 0, 0, 0, 0, 0, 0, 0, 0, 0, 0, 0, 0, 0, 0, 0, 0, 0, 0, 0, 0, 0, 0, 0, 0, 0, 0, 0, 0, 0, 0, 0, 0, 0, 0, 0, 0, 0, 0, 0, 0, 0, 0, 0, 0, 0, 0, 0, 0, 0, 0, 0, 0, 0, 0, 0, 0, 0, 0, 0, 0, 0, 0, 0, 0, 0, 0, 0, 0, 0, 0, 0, 0, 0, 0, 0, 0, 0, 0, 0, 0, 0, 0, 0, 0, 0, 0, 0, 0, 0, 0, 0, 0, 0, 0, 0, 0, 0, 0, 0, 0, 0, 0, 0, 0, 0, 0, 0, 0, 0, 0, 0, 0, 0, 0, 0, 0, 0, 0, 0, 0, 0, 0, 0, 0, 0, 0, 0, 0, 0, 0, 0, 0, 0, 0, 0, 0, 0, 0, 0, 0, 0, 0, 0, 0, 0, 0, 0, 0, 0, 0, 0, 0, 0, 0, 0, 0, 0, 0, 0, 0, 0, 0, 0, 0, 0, 0, 0, 0, 0, 0, 0, 0, 0, 0, 0, 0, 0, 0, 0, 0, 0, 0, 0, 0, 0, 0, 0, 0, 0, 0, 0, 0, 0, 0, 0, 0, 0, 0, 0, 0, 0, 0, 0, 0, 0, 0, 0, 0, 0, 0, 0, 0, 0, 0, 0, 0, 0, 0, 0, 0, 0, 0, 0, 0, 0, 0, 0, 0, 0, 0, 0, 0, 0, 0, 0, 0, 0, 0, 0, 0, 0, 0, 0, 0, 0, 0, 0, 0, 0, 0, 0, 0, 0, 0, 0, 0, 0, 0, 0, 0, 0, 0, 0, 0, 0, 0, 0, 0, 0, 0, 0, 0, 0, 0, 0, 0, 0, 0, 0, 0, 0, 0, 0, 0, 0, 0, 0, 0, 0, 0, 0, 0, 0, 0, 0, 0, 0, 0, 0, 0, 0, 0, 0, 0, 0, 0, 0, 0, 0, 0, 0, 0, 0, 0, 0, 0, 0, 0, 0, 0, 0, 0, 0, 0, 0, 0, 0, 0, 0, 0, 0, 0, 0, 0, 0, 0, 0, 0, 0, 0, 0, 0, 0, 0, 0, 0, 0, 0, 0, 0, 0, 0, 0, 0, 0, 0, 0, 0, 0, 0, 0, 0, 0, 0, 0, 0, 0, 0, 0, 0, 0, 0, 0, 0, 0, 0, 0, 0, 0, 0, 0, 0, 0, 0, 0, 0, 0, 0, 0, 0, 0, 0, 0, 0, 0, 0, 0, 0, 0, 0, 0, 0, 0, 0, 0, 0, 0, 0, 0, 0, 0, 0, 0, 0, 0, 0, 0, 0, 0, 0, 0, 0, 0, 0, 0, 0, 0, 0, 0, 0, 0, 0, 0, 0, 0, 0, 0, 0, 0, 0, 0, 0, 0, 0, 0, 0, 0, 0, 0, 0, 0, 0, 0, 0, 0, 0, 0, 0, 0, 0, 0, 0, 0, 0, 0, 0, 0, 0, 0, 0, 0, 0, 0, 0, 0, 0, 0, 0, 0, 0, 0, 0, 0, 0, 0, 0, 0, 0, 0, 0, 0, 0, 0, 0, 0, 0, 0, 0, 0, 0, 0, 0, 0, 0, 0, 0, 0, 0, 0, 0, 0, 0, 0, 0, 0, 0, 0, 0, 0, 0, 0, 0, 0, 0, 0, 0, 0, 0, 0, 0, 0, 0, 0, 0, 0, 0, 0, 0, 0, 0, 0, 0, 0, 0, 0, 0, 0, 0, 0, 0, 0, 0, 0, 0, 0, 0, 0, 0, 0, 0, 0, 0, 0, 0, 0, 0, 0, 0, 0, 0, 0, 0, 0, 0, 0, 0, 0, 0, 0, 0, 0, 0, 0, 0, 0, 0, 0, 0, 0, 0, 0, 0, 0, 0, 0, 0, 0, 0, 0, 0, 0, 0, 0, 0, 0, 0, 0, 0, 0, 0, 0, 0, 0, 0, 0, 0, 0, 0, 0, 0, 0, 0, 0, 0, 0, 0, 0, 0, 0, 0, 0, 0, 0, 0, 0, 0, 0, 0, 0, 0, 0, 0, 0, 0, 0, 0, 0, 0, 0, 0, 0, 0, 0, 0, 0, 0, 0, 0, 0, 0, 0, 0, 0, 0, 0, 0, 0, 0, 0, 0, 0, 0, 0, 0, 0, 0, 0, 0, 0, 0, 0, 0, 0, 0, 0, 0, 0, 0, 0, 0, 0, 0, 0, 0, 0, 0, 0, 0, 0, 0, 0, 0, 0, 0, 0, 0, 0, 0, 0, 0, 0, 0, 0, 0, 0, 0, 0, 0, 0, 0, 0, 0, 0, 0, 0, 0, 0, 0, 0, 0, 0, 0, 0, 0, 0, 0, 0, 0, 0, 0, 0, 0, 0, 0, 0, 0, 0, 0, 0, 0, 0, 0, 0, 0, 0, 0, 0, 0, 0, 0, 0, 0, 0, 0, 0, 0, 0, 0, 0, 0, 0, 0, 0, 0, 0, 0, 0, 0, 0, 0, 0, 0, 0, 0, 0, 0, 0, 0, 0, 0, 0, 0, 0, 0, 0, 0, 0, 0, 0, 0, 0, 0, 0, 0, 0, 0, 0, 0, 0, 0, 0, 0, 0, 0, 0, 0, 0, 0, 0, 0, 0, 0, 0, 0, 0, 0, 0, 0, 0, 0, 0, 0, 0, 0, 0, 0, 0, 0, 0, 0, 0, 0, 0, 0, 0, 0, 0, 0, 0, 0, 0, 0, 0, 0, 0, 0, 0, 0, 0, 0, 0, 0, 0, 0, 0, 0, 0, 0, 0, 0, 0, 0, 0, 0, 0, 0, 0, 0, 0, 0, 0, 0, 0, 0, 0, 0, 0, 0, 0, 0, 0, 0, 0, 0, 0, 0, 0, 0, 0, 0, 0, 0, 0, 0, 0, 0, 0, 0, 0, 0, 0, 0, 0, 0, 0, 0, 0, 0, 0, 0, 0, 0, 0, 0, 0, 0, 0, 0, 0, 0, 0, 0, 0, 0, 0, 0, 0, 0, 0, 0, 0, 0, 0, 0, 0, 0, 0, 0, 0, 0, 0, 0, 0, 0, 0, 0, 0, 0, 0, 0, 0, 0, 0, 0, 0, 0, 0, 0, 0, 0, 0, 0, 0, 0, 0, 0, 0, 0, 0, 0, 0, 0, 0, 0, 0, 0, 0, 0, 0, 0, 0, 0, 0, 0, 0, 0, 0, 0, 0, 0, 0, 0, 0, 0, 0, 0, 0, 0, 0, 0, 0, 0, 0, 0, 0, 0, 0, 0, 0, 0, 0, 0, 0, 0, 0, 0, 0, 0, 0, 0, 0, 0, 0, 0, 0, 0, 0, 0, 0, 0, 0, 0, 0, 0, 0, 0, 0, 0, 0, 0, 0, 0, 0, 0, 0, 0, 0, 0, 0, 0, 0, 0, 0, 0, 0, 0, 0, 0, 0, 0, 0, 0, 0, 0, 0, 0, 0, 0, 0, 0, 0, 0, 0, 0, 0, 0, 0, 0, 0, 0, 0, 0, 0, 0, 0, 0, 0, 0, 0, 0, 0, 0, 0, 0, 0, 0, 0, 0, 0, 0, 0, 0, 0, 0, 0, 0, 0, 0, 0, 0, 0, 0, 0, 0, 0, 0, 0, 0, 0, 0, 0, 0, 0, 0, 0, 0, 0, 0, 0, 0, 0, 0, 0, 0, 0, 0, 0, 0, 0, 0, 0, 0, 0, 0, 0, 0, 0, 0, 0, 0, 0, 0, 0, 0, 0, 0, 0, 0, 0, 0, 0, 0, 0, 0, 0, 0, 0, 0, 0, 0, 0, 0, 0, 0, 0, 0, 0, 0, 0, 0, 0, 0, 0, 0, 0, 0, 0, 0, 0, 0, 0, 0, 0, 0, 0, 0, 0, 0, 0, 0, 0, 0, 0, 0, 0, 0, 0, 0, 0, 0, 0, 0, 0, 0, 0, 0, 0, 0, 0, 0, 0, 0, 0, 0, 0, 0, 0, 0, 0, 0, 0, 0, 0, 0, 0, 0, 0, 0, 0, 0, 0, 0, 0, 0, 0, 0, 0, 0, 0, 0, 0, 0, 0, 0, 0, 0, 0, 0, 0, 0, 0, 0, 0, 0, 0, 0, 0, 0, 0, 0, 0, 0, 0, 0, 0, 0, 0, 0, 0, 0, 0, 0, 0, 0, 0, 0, 0, 0, 0, 0, 0, 0, 0, 0, 0, 0, 0, 0, 0, 0, 0, 0, 0, 0, 0, 0, 0, 0, 0, 0, 0, 0, 0, 0, 0, 0, 0, 0, 0, 0, 0, 0, 0, 0, 0, 0, 0, 0, 0, 0, 0, 0, 0, 0, 0, 0, 0, 0, 0, 0, 0, 0, 0, 0, 0, 0, 0, 0, 0, 0, 0, 0, 0, 0, 0, 0, 0, 0, 0, 0, 0, 0, 0, 0, 0, 0, 0, 0, 0, 0, 0, 0, 0, 0, 0, 0, 0, 0, 0, 0, 0, 0, 0, 0, 0, 0, 0, 0, 0, 0, 0, 0, 0, 0, 0, 0, 0, 0, 0, 0, 0, 0, 0, 0, 0, 0, 0, 0, 0, 0, 0, 0, 0, 0, 0, 0, 0, 0, 0, 0, 0, 0, 0, 0, 0, 0, 0, 0, 0, 0, 0, 0, 0, 0, 0, 0, 0, 0, 0, 0, 0, 0, 0, 0, 0, 0, 0, 0, 0, 0, 0, 0, 0, 0, 0, 0, 0, 0, 0, 0, 0, 0, 0, 0, 0, 0, 0, 0, 0, 0, 0, 0, 0, 0, 0, 0, 0, 0, 0, 0, 0, 0, 0, 0, 0, 0, 0, 0, 0, 0, 0, 0, 0, 0, 0, 0, 0, 0, 0, 0, 0, 0, 0, 0, 0, 0, 0, 0, 0, 0, 0, 0, 0, 0, 0, 0, 0, 0, 0, 0, 0, 0, 0, 0, 0, 0, 0, 0, 0, 0, 0, 0, 0, 0, 0, 0, 0, 0, 0, 0, 0, 0, 0, 0, 0, 0, 0, 0, 0, 0, 0, 0, 0, 0, 0, 0, 0, 0, 0, 0, 0, 0, 0, 0, 0, 0, 0, 0, 0, 0, 0, 0, 0, 0, 0, 0, 0, 0, 0, 0, 0, 0, 0, 0, 0, 0, 0, 0, 0, 0, 0, 0, 0, 0, 0, 0, 0, 0, 0, 0, 0, 0, 0, 0, 0, 0, 0, 0, 0, 0, 0, 0, 0, 0, 0, 0, 0, 0, 0, 0, 0, 1, 0, 0, 0, 0, 0, 0, 0, 0, 0, 0, 0, 0, 0, 0, 0, 0, 0, 0, 0, 0, 0, 0, 0, 0, 0, 0, 0, 0, 0, 0, 0, 0, 0, 0, 0, 0, 0, 0, 0, 0, 0, 0, 0, 0, 0, 0, 0, 0, 0, 0, 0, 0, 0, 0, 0, 0, 0, 0, 0, 0, 0, 0, 0, 0, 0, 0, 0, 0, 0, 0, 0, 0, 0, 0, 0, 0, 0, 0, 0, 0, 0, 0, 0, 0, 0, 0, 0, 0, 0, 0, 0, 0, 0, 0, 0, 0, 0, 0, 0, 0, 0, 0, 0, 0, 0, 0, 0, 0, 0, 0, 0, 0, 0, 0, 0, 0, 0, 0, 0, 0, 0, 0, 0, 0, 0, 0, 0, 0, 0, 0, 0, 0, 0, 0, 0, 0, 0, 0, 0, 0, 0, 0, 0, 0, 0, 0, 0, 0, 0, 0, 0, 0, 0, 0, 0, 0, 0, 0, 0, 0, 0, 0, 0, 0, 0, 0, 0, 0, 0, 0, 0, 0, 0, 0, 0, 0, 0, 0, 0, 0, 0, 0, 0, 0, 0, 0, 0, 0, 0, 0, 0, 0, 0, 0, 0, 0, 0, 0, 0, 0, 0, 0, 0, 0, 0, 0, 0, 0, 0, 0, 0, 0, 0, 0, 0, 0, 0, 0, 0, 0, 0, 0, 0, 0, 0, 0, 0, 0, 0, 0, 0, 0, 0, 0, 0, 0, 0, 0, 0, 0, 0, 0, 0, 0, 0, 0, 0, 0, 0, 0, 0, 0, 0, 0, 0, 0, 0, 0, 0, 0, 0, 0, 0, 0, 0, 0, 0, 0, 0, 0, 0, 0, 0, 0, 0, 0, 0, 0, 0, 0, 0, 0, 0, 0, 0, 0, 0, 0, 0, 0, 0, 0, 0, 0, 0, 0, 0, 0, 0, 0, 0, 0, 0, 0, 0, 0, 0, 0, 0, 0, 0, 0, 0, 0, 0, 0, 0, 0, 0, 0, 0, 0, 0, 0, 0, 0, 0, 0, 0, 0, 0, 0, 0, 0, 0, 0, 0, 0, 0, 0, 0, 0, 0, 0, 0, 0, 0, 0, 0, 0, 0, 0, 0, 0, 0, 0, 0, 0, 0, 0, 0, 0, 0, 0, 0, 0, 0, 0, 0, 0, 0, 0, 0, 0, 0, 0, 0, 0, 0, 0, 0, 0, 0, 0, 0, 0, 0, 0, 0, 0, 0, 0, 0, 0, 0, 0, 0, 0, 0, 0, 0, 0, 0, 0, 0, 0, 0, 0, 0, 0, 0, 0, 0, 0, 0, 0, 0, 0, 0, 0, 0, 0, 0, 0, 0, 0, 0, 0, 0, 0, 0, 0, 0, 0, 0, 0, 0, 0, 0, 0, 0, 0, 0, 0, 0, 0, 0, 0, 0, 0, 0, 0, 0, 0, 0, 0, 0, 0, 0, 0, 0, 0, 0, 0, 0, 0, 0, 0, 0, 0, 0, 0, 0, 0, 0, 0, 0, 0, 0, 0, 0, 0, 0, 0, 0, 0, 0, 0, 0, 0, 0, 0, 0, 0, 0, 0, 0, 0, 0, 0, 0, 0, 0, 0, 0, 0, 0, 0, 0, 0, 0, 0, 0, 0, 0, 0, 0, 0, 0, 0, 0, 0, 0, 0, 0, 0, 0, 0, 0, 0, 0, 0, 0, 0, 0, 0, 0, 0, 0, 0, 0, 0, 0, 0, 0, 0, 0, 0, 0, 0, 0, 0, 0, 0, 0, 0, 0, 0, 0, 0, 0, 0, 0, 0, 0, 0, 0, 0, 0, 0, 0, 0, 0, 0, 0, 0, 0, 0, 0, 0, 0, 0, 0, 0, 0, 0, 0, 0, 0, 0, 0, 0, 0, 0, 0, 0, 0, 0, 0, 0, 0, 0, 0, 0, 0, 0, 0, 0, 0, 0, 0, 0, 0, 0, 0, 0, 0, 0, 0, 0, 0, 0, 0, 0, 0, 0, 0, 0, 0, 0, 0, 0, 0, 0, 0, 0, 0, 0, 0, 0, 0, 0, 0, 0, 0, 0, 0, 0, 0, 0, 0, 0, 0, 0, 0, 0, 0, 0, 0, 0, 0, 0, 0, 0, 0, 0, 0, 0, 0, 0, 0, 0, 0, 0, 0, 0, 0, 0, 0, 0, 0, 0, 0, 0, 0, 0, 0, 0, 0, 0, 0, 0, 0, 0, 0, 0, 0, 0, 0, 0, 0, 0, 0, 0, 0, 0, 0, 0, 0, 0, 0, 0, 0, 0, 0, 0, 0, 0, 0, 0, 0, 0, 0, 0, 0, 0, 0, 0, 0, 0, 0, 0, 0, 0, 0, 0, 0, 0, 0, 0, 0, 0, 0, 0, 0, 0, 0, 0, 0, 0, 0, 0, 0, 0, 0, 0, 0, 0, 0, 0, 0, 0, 0, 0, 0, 0, 0, 0, 0, 0, 0, 0, 0, 0, 0, 0, 0, 0, 0, 0, 0, 0, 0, 0, 0, 0, 0, 0, 0, 0, 0, 0, 0, 0, 0, 0, 0, 0, 0, 0, 0, 0, 0, 0, 0, 0, 0, 0, 0, 0, 0, 0, 0, 0, 0, 0, 0, 0, 0, 0, 0, 0, 0, 0, 0, 0, 0, 0, 0, 0, 0, 0, 0, 0, 0, 0, 0, 0, 0, 0, 0, 0, 0, 0, 0, 0, 0, 0, 0, 0, 0, 0, 0, 0, 0, 0, 0, 0, 0, 0, 0, 0, 0, 0, 0, 0, 0, 0, 0, 0, 0, 0, 0, 0, 0, 0, 0, 0, 0, 0, 0, 0, 0, 0, 0, 0, 0, 0, 0, 0, 0, 0, 0, 0, 0, 0, 0, 0, 0, 0, 0, 0, 0, 0, 0, 0, 0, 0, 0, 0, 0, 0, 0, 0, 0, 0, 0, 0, 0, 0, 0, 0, 0, 0, 0, 0, 0, 0, 0, 0, 0, 0, 0, 0, 0, 0, 0, 0, 0, 0, 0, 0, 0, 0, 0, 0, 0, 0, 0, 0, 0, 0, 0, 0, 0, 0, 0, 0, 0, 0, 0, 0, 0, 0, 0, 0, 0, 0, 0, 0, 0, 0, 0, 0, 0, 0, 0, 0, 0, 0, 0, 0, 0, 0, 0, 0, 0, 0, 0, 0, 0, 0, 0, 0, 0, 0, 0, 0, 0, 0, 0, 0, 0, 0, 0, 0, 0, 0, 0, 0, 0, 0, 0, 0, 0, 0, 0, 0, 0, 0, 0, 0, 0, 0, 0, 0, 0, 0, 0, 0, 0, 0, 0, 0, 0, 0, 0, 0, 0, 0, 0, 0, 0, 0, 0, 0, 0, 0, 0, 0, 0, 0, 0, 0, 0, 0, 0, 0, 0, 0, 0, 0, 0, 0, 0, 0, 0, 0, 0, 0, 0, 0, 0, 0, 0, 0, 0, 0, 0, 0, 0, 0, 0, 0, 0, 0, 0, 0, 0, 0, 0, 0, 0, 0, 0, 0, 0, 0, 0, 0, 0, 0, 0, 0, 0, 0, 0, 0, 0, 0, 0, 0, 0, 0, 0, 0, 0, 0, 0, 0, 0, 0, 0, 0, 0, 0, 0, 0, 0, 0, 0, 0, 0, 0, 0, 0, 0, 0, 0, 0, 0, 0, 0, 0, 0, 0, 0, 0, 0, 0, 0, 0, 0, 0, 0, 0, 0, 0, 0, 0, 0, 0, 0, 0, 0, 0, 0, 0, 0, 0, 0, 0, 0, 0, 0, 0, 0, 0, 0, 0, 0, 0, 0, 0, 0, 0, 0, 0, 0, 0, 0, 0, 0, 0, 0, 0, 0, 0, 0, 0, 0, 0, 0, 0, 0, 0, 0, 0, 0, 0, 0, 0, 0, 0, 0, 0, 0, 0, 0, 0, 0, 0, 0, 0, 0, 0, 0, 0, 0, 0, 0, 0, 0, 0, 0, 0, 0, 0, 0, 0, 0, 0, 0, 0, 0, 0, 0, 0, 0, 0, 0, 0, 0, 0, 0, 0, 0, 0, 0, 0, 0, 0, 0, 0, 0, 0, 0, 0, 0, 0, 0, 0, 0, 0, 0, 0, 0, 0, 0, 0, 0, 0, 0, 0, 0, 0, 0, 0, 0, 0, 0, 0, 0, 0, 0, 0, 0, 0, 0, 0, 0, 0, 0, 0, 0, 0, 0, 0, 0, 0, 0, 0, 0, 0, 0, 0, 0, 0, 0, 0, 0, 0, 0, 0, 0, 0, 0, 0, 0, 0, 0, 0, 0, 0, 0, 0, 0, 0, 0, 0, 0, 0, 0, 0, 0, 0, 0, 0, 0, 0, 0, 0, 0, 0, 0, 0, 0, 0, 0, 0, 0, 0, 0, 0, 0, 0, 0, 0, 0, 0, 0, 0, 0, 0, 0, 0, 0, 0, 0, 0, 0, 0, 0, 0, 0, 0, 0, 0, 0, 0, 0, 0, 0, 0, 0, 0, 0, 0, 0, 0, 0, 0, 0, 0, 0, 0, 0, 0, 0, 0, 0, 0, 0, 0, 0, 0, 0, 0, 0, 0, 0, 0, 0, 0, 0, 0, 0, 0, 0, 0, 0, 0, 0, 0, 0, 0, 0, 0, 0, 0, 0, 0, 0, 0, 0, 0, 0, 0, 0, 0, 0, 0, 0, 0, 0, 0, 0, 0, 0, 0, 0, 0, 1, 0, 0, 0, 0, 0, 0, 0, 0, 0, 0, 0, 0, 0, 0, 0, 0, 0, 0, 0, 0, 0, 0, 0, 0, 0, 0, 0, 0, 0, 0, 0, 0, 0, 0, 0, 0, 0, 0, 0, 0, 0, 0, 0, 0, 0, 0, 0, 0, 0, 0, 0, 0, 0, 0, 0, 0, 0, 0, 0, 0, 0, 0, 0, 0, 0, 0, 0, 0, 0, 0, 0, 0, 0, 0, 0, 0, 0, 0, 0, 0, 0, 0, 0, 0, 0, 0, 0, 0, 0, 0, 0, 0, 0, 0, 0, 0, 0, 0, 0, 0, 0, 0, 0, 0, 0, 0, 0, 0, 0, 0, 0, 0, 0, 0, 0, 0, 0, 0, 0, 0, 0, 0, 0, 0, 0, 0, 0, 0, 0, 0, 0, 0, 0, 0, 0, 0, 0, 0, 0, 0, 0, 0, 0, 0, 0, 0, 0, 0, 0, 0, 0, 0, 0, 0, 0, 0, 0, 0, 0, 0, 0, 0, 0, 0, 0, 0, 0, 0, 0, 0, 0, 0, 0, 0, 0, 0, 0, 0, 0, 0, 0, 0, 0, 0, 0, 0, 0, 0, 0, 0, 0, 0, 0, 0, 0, 0, 0, 0, 0, 0, 0, 0, 0, 0, 0, 0, 0, 0, 0, 0, 0, 0, 0, 0, 0, 0, 0, 0, 0, 0, 0, 0, 0, 0, 0, 0, 0, 0, 0, 0, 0, 0, 0, 0, 0, 0, 0, 0, 0, 0, 0, 0, 0, 0, 0, 0, 0, 0, 0, 0, 0, 0, 0, 0, 0, 0, 0, 0, 0, 0, 0, 0, 0, 0, 0, 0, 0, 0, 0, 0, 0, 0, 0, 0, 0, 0, 0, 0, 0, 0, 0, 0, 0, 0, 0, 0, 0, 0, 0, 0, 0, 0, 0, 0, 0, 0, 0, 0, 0, 0, 0, 0, 0, 0, 0, 0, 0, 0, 0, 0, 0, 0, 0, 0, 0, 0, 0, 0, 0, 0, 0, 0, 0, 0, 0, 0, 0, 0, 0, 0, 0, 0, 0, 0, 0, 0, 0, 0, 0, 0, 0, 0, 0, 0, 0, 0, 0, 0, 0, 0, 0, 0, 0, 0, 0, 0, 0, 0, 0, 0, 0, 0, 0, 0, 0, 0, 0, 0, 0, 0, 0, 0, 0, 0, 0, 0, 0, 0, 0, 0, 0, 0, 0, 0, 0, 0, 0, 0, 0, 0, 0, 0, 0, 0, 0, 0, 0, 0, 0, 0, 0, 0, 0, 0, 0, 0, 0, 0, 0, 0, 0, 0, 0, 0, 0, 0, 0, 0, 0, 0, 0, 0, 0, 0, 0, 0, 0, 0, 0, 0, 0, 0, 0, 0, 0, 0, 0, 0, 0, 0, 0, 0, 0, 0, 0, 0, 0, 0, 0, 0, 0, 0, 0, 0, 0, 0, 0, 0, 0, 0, 0, 0, 0, 0, 0, 0, 0, 0, 0, 0, 0, 0, 0, 0, 0, 0, 0, 0, 0, 0, 0, 0, 0, 0, 0, 0, 0, 0, 0, 0, 0, 0, 0, 0, 0, 0, 0, 0, 0, 0, 0, 0, 0, 0, 0, 0, 0, 0, 0, 0, 0, 0, 0, 0, 0, 0, 0, 0, 0, 0, 0, 0, 0, 0, 0, 0, 0, 0, 0, 0, 0, 0, 0, 0, 0, 0, 0, 0, 0, 0, 0, 0, 0, 0, 0, 0, 0, 0, 0, 0, 0, 0, 0, 0, 0, 0, 0, 0, 0, 0, 0, 0, 0, 0, 0, 0, 0, 0, 0, 0, 0, 0, 0, 0, 0, 0, 0, 0, 0, 0, 0, 0, 0, 0, 0, 0, 0, 0, 0, 0, 0, 0, 0, 0, 0, 0, 0, 0, 0, 0, 0, 0, 0, 0, 0, 0, 0, 0, 0, 0, 0, 0, 0, 0, 0, 0, 0, 0, 0, 0, 0, 0, 0, 0, 0, 0, 0, 0, 0, 0, 0, 0, 0, 0, 0, 0, 0, 0, 0, 0, 0, 0, 0, 0, 0, 0, 0, 0, 0, 0, 0, 0, 0, 0, 0, 0, 0, 0, 0, 0, 0, 0, 0, 0, 0, 0, 0, 0, 0, 0, 0, 0, 0, 0, 0, 0, 0, 0, 0, 0, 0, 0, 0, 0, 0, 0, 0, 0, 0, 0, 0, 0, 0, 0, 0, 0, 0, 0, 0, 0, 0, 0, 0, 0, 0, 0, 0, 0, 0, 0, 0, 0, 0, 0, 0, 0, 0, 0, 0, 0, 0, 0, 0, 0, 0, 0, 0, 0, 0, 0, 0, 0, 0, 0, 0, 0, 0, 0, 0, 0, 0, 0, 0, 0, 0, 0, 0, 0, 0, 0, 0, 0, 0, 0, 0, 0, 0, 0, 0, 0, 0, 0, 0, 0, 0, 0, 0, 0, 0, 0, 0, 0, 0, 0, 0, 0, 0, 0, 0, 0, 0, 0, 0, 0, 0, 0, 0, 0, 0, 0, 0, 0, 0, 0, 0, 0, 0, 0, 0, 0, 0, 0, 0, 0, 0, 0, 0, 0, 0, 0, 0, 0, 0, 0, 0, 0, 0, 0, 0, 0, 0, 0, 0, 0, 0, 0, 0, 0, 0, 0, 0, 0, 0, 0, 0, 0, 0, 0, 0, 0, 0, 0, 0, 0, 0, 0, 0, 0, 0, 0, 0, 0, 0, 0, 0, 0, 0, 0, 0, 0, 0, 0, 0, 0, 0, 0, 0, 0, 0, 0, 0, 0, 0, 0, 0, 0, 0, 0, 0, 0, 0, 0, 0, 0, 0, 0, 0, 0, 0, 0, 0, 0, 0, 0, 0, 0, 0, 0, 0, 0, 0, 0, 0, 0, 0, 0, 0, 0, 0, 0, 0, 0, 0, 0, 0, 0, 0, 0, 0, 0, 0, 0, 0, 0, 0, 0, 0, 0, 0, 0, 0, 0, 0, 0, 0, 0, 0, 0, 0, 0, 0, 0, 0, 0, 0, 0, 0, 0, 0, 0, 0, 0, 0, 0, 0, 0, 0, 0, 0, 0, 0, 0, 0, 0, 0, 0, 0, 0, 0, 0, 0, 0, 0, 0, 0, 0, 0, 0, 0, 0, 0, 0, 0, 0, 0, 0, 0, 0, 0, 0, 0, 0, 0, 0, 0, 0, 0, 0, 0, 0, 0, 0, 0, 0, 0, 0, 0]\n"
     ]
    }
   ],
   "source": [
    "# Process a query using the same vocabulary\n",
    "query = \"New features of gpt 4.5\"\n",
    "query_tokens = tokenize(query)\n",
    "query_counts = Counter(query_tokens)\n",
    "query_vector = [query_counts[word] for word in vocab]\n",
    "\n",
    "print(\"\\nQuery Vector:\")\n",
    "print(query_vector)"
   ]
  },
  {
   "cell_type": "code",
   "execution_count": 267,
   "metadata": {},
   "outputs": [
    {
     "data": {
      "text/plain": [
       "0.0"
      ]
     },
     "execution_count": 267,
     "metadata": {},
     "output_type": "execute_result"
    }
   ],
   "source": [
    "# Define a simple cosine similarity function\n",
    "def cosine_similarity(v1, v2):\n",
    "    dot_product = sum(a * b for a, b in zip(v1, v2))\n",
    "    norm1 = math.sqrt(sum(a * a for a in v1))\n",
    "    norm2 = math.sqrt(sum(b * b for b in v2))\n",
    "    if norm1 == 0 or norm2 == 0:\n",
    "        return 0.0\n",
    "    return dot_product / (norm1 * norm2)\n",
    "\n",
    "\n",
    "cosine_similarity([1, 0, 1], [0, 1, 0])"
   ]
  },
  {
   "cell_type": "code",
   "execution_count": 58,
   "metadata": {},
   "outputs": [
    {
     "data": {
      "text/plain": [
       "1.0"
      ]
     },
     "execution_count": 58,
     "metadata": {},
     "output_type": "execute_result"
    }
   ],
   "source": [
    "cosine_similarity([1, 0], [2, 0])"
   ]
  },
  {
   "cell_type": "code",
   "execution_count": 59,
   "metadata": {},
   "outputs": [
    {
     "data": {
      "text/plain": [
       "1.0"
      ]
     },
     "execution_count": 59,
     "metadata": {},
     "output_type": "execute_result"
    }
   ],
   "source": [
    "cosine_similarity([1, 0], [3, 0])"
   ]
  },
  {
   "cell_type": "code",
   "execution_count": 60,
   "metadata": {},
   "outputs": [
    {
     "data": {
      "text/plain": [
       "0.0"
      ]
     },
     "execution_count": 60,
     "metadata": {},
     "output_type": "execute_result"
    }
   ],
   "source": [
    "cosine_similarity([1, 0], [0, 1])"
   ]
  },
  {
   "cell_type": "code",
   "execution_count": 61,
   "metadata": {},
   "outputs": [
    {
     "data": {
      "text/plain": [
       "0.4999999999999999"
      ]
     },
     "execution_count": 61,
     "metadata": {},
     "output_type": "execute_result"
    }
   ],
   "source": [
    "cosine_similarity([1, 0, 1], [0, 1, 1])"
   ]
  },
  {
   "cell_type": "code",
   "execution_count": 62,
   "metadata": {},
   "outputs": [
    {
     "data": {
      "text/plain": [
       "0.9999999999999998"
      ]
     },
     "execution_count": 62,
     "metadata": {},
     "output_type": "execute_result"
    }
   ],
   "source": [
    "cosine_similarity([1, 0, 1], [1, 0, 1])"
   ]
  },
  {
   "cell_type": "code",
   "execution_count": 63,
   "metadata": {},
   "outputs": [
    {
     "name": "stdout",
     "output_type": "stream",
     "text": [
      "[3611, 4064, 5228, 7143, 8606]\n"
     ]
    }
   ],
   "source": [
    "non_zero_indices = [i for i, value in enumerate(query_vector) if value != 0]\n",
    "print(non_zero_indices)"
   ]
  },
  {
   "cell_type": "code",
   "execution_count": 65,
   "metadata": {},
   "outputs": [
    {
     "data": {
      "text/plain": [
       "'New features of gpt 4.5'"
      ]
     },
     "execution_count": 65,
     "metadata": {},
     "output_type": "execute_result"
    }
   ],
   "source": [
    "query"
   ]
  },
  {
   "cell_type": "code",
   "execution_count": 64,
   "metadata": {},
   "outputs": [
    {
     "name": "stdout",
     "output_type": "stream",
     "text": [
      "['gpt', 'features', '4.5', 'new', 'of']\n"
     ]
    }
   ],
   "source": [
    "non_zero_vocab_elements = [vocab[i] for i in non_zero_indices]\n",
    "print(non_zero_vocab_elements)"
   ]
  },
  {
   "cell_type": "code",
   "execution_count": 66,
   "metadata": {},
   "outputs": [],
   "source": [
    "# Function to find the nearest document based on a query string\n",
    "def find_nearest_document(query, vocab, doc_vectors):\n",
    "    query_tokens = tokenize(query)\n",
    "    query_counts = Counter(query_tokens)\n",
    "    # Build the query vector based on the vocabulary\n",
    "    query_vector = [query_counts[word] for word in vocab]\n",
    "    best_index = None\n",
    "    best_similarity = -1  # Initialize with a value lower than any possible similarity\n",
    "\n",
    "    # Compare query vector with each document vector\n",
    "    for idx, doc_vector in enumerate(doc_vectors):\n",
    "        similarity = cosine_similarity(query_vector, doc_vector)\n",
    "        if similarity > best_similarity:\n",
    "            best_similarity = similarity\n",
    "            best_index = idx\n",
    "\n",
    "    return best_index, best_similarity"
   ]
  },
  {
   "cell_type": "markdown",
   "metadata": {},
   "source": [
    "### Example with the new features of GPT-4.5"
   ]
  },
  {
   "cell_type": "code",
   "execution_count": null,
   "metadata": {},
   "outputs": [
    {
     "name": "stdout",
     "output_type": "stream",
     "text": [
      "\n",
      "Best matching document index: 5\n",
      "Similarity score: 0.2213121463225094\n"
     ]
    }
   ],
   "source": [
    "# Test the function with a query\n",
    "query = \"New features of gpt-4.5\"\n",
    "best_idx, best_sim = find_nearest_document(query, vocab, doc_vectors)\n",
    "print(\"\\nBest matching document index:\", best_idx)\n",
    "print(\"Similarity score:\", best_sim)"
   ]
  },
  {
   "cell_type": "code",
   "execution_count": 69,
   "metadata": {},
   "outputs": [
    {
     "data": {
      "text/plain": [
       "{'source': 'documents/Introducing GPT-4.5 _ OpenAI.html'}"
      ]
     },
     "execution_count": 69,
     "metadata": {},
     "output_type": "execute_result"
    }
   ],
   "source": [
    "documents[best_idx][\"metadata\"]"
   ]
  },
  {
   "cell_type": "code",
   "execution_count": 70,
   "metadata": {},
   "outputs": [
    {
     "data": {
      "text/plain": [
       "['new', 'features', 'of', 'gpt-4.5']"
      ]
     },
     "execution_count": 70,
     "metadata": {},
     "output_type": "execute_result"
    }
   ],
   "source": [
    "[t for t in tokenize(query) if t in set(tokenized_documents[best_idx])]"
   ]
  },
  {
   "cell_type": "markdown",
   "metadata": {},
   "source": [
    "### Example with the utility-based agents"
   ]
  },
  {
   "cell_type": "code",
   "execution_count": 71,
   "metadata": {},
   "outputs": [
    {
     "name": "stdout",
     "output_type": "stream",
     "text": [
      "\n",
      "Best matching document index: 7\n",
      "Similarity score: 0.17038091753393353\n"
     ]
    }
   ],
   "source": [
    "# Test the function with a query\n",
    "query = \"What was the article talking about utility-based agents? There was something about utility functions\"\n",
    "best_idx, best_sim = find_nearest_document(query, vocab, doc_vectors)\n",
    "print(\"\\nBest matching document index:\", best_idx)\n",
    "# print(\"Best matching document:\", documents[best_idx])\n",
    "print(\"Similarity score:\", best_sim)"
   ]
  },
  {
   "cell_type": "code",
   "execution_count": 72,
   "metadata": {},
   "outputs": [
    {
     "data": {
      "text/plain": [
       "['the',\n",
       " 'article',\n",
       " 'about',\n",
       " 'utility-based',\n",
       " 'there',\n",
       " 'about',\n",
       " 'utility',\n",
       " 'functions']"
      ]
     },
     "execution_count": 72,
     "metadata": {},
     "output_type": "execute_result"
    }
   ],
   "source": [
    "[t for t in tokenize(query) if t in set(tokenized_documents[best_idx])]"
   ]
  },
  {
   "cell_type": "code",
   "execution_count": 73,
   "metadata": {},
   "outputs": [
    {
     "data": {
      "text/plain": [
       "{'source': 'documents/RAG, AI Agents, and Agentic RAG_ An In-Depth Review and Comparative Analysis _ DigitalOcean.html'}"
      ]
     },
     "execution_count": 73,
     "metadata": {},
     "output_type": "execute_result"
    }
   ],
   "source": [
    "documents[best_idx][\"metadata\"]"
   ]
  },
  {
   "cell_type": "markdown",
   "metadata": {},
   "source": [
    "## Keyword search using sklearn\n",
    "\n",
    "This took pretty much coding. Let's automate the text transformation into a vector"
   ]
  },
  {
   "cell_type": "code",
   "execution_count": 74,
   "metadata": {},
   "outputs": [],
   "source": [
    "from sklearn.feature_extraction.text import CountVectorizer\n",
    "\n",
    "# this is a vectorized version of the same function we already created ourselves\n",
    "from sklearn.metrics.pairwise import cosine_similarity"
   ]
  },
  {
   "cell_type": "code",
   "execution_count": 77,
   "metadata": {},
   "outputs": [],
   "source": [
    "# Initialize and fit the CountVectorizer on the documents\n",
    "vectorizer = CountVectorizer(tokenizer=lambda x: x.split())\n",
    "doc_vectors = vectorizer.fit_transform(d[\"page_content\"] for d in documents)"
   ]
  },
  {
   "cell_type": "code",
   "execution_count": 78,
   "metadata": {},
   "outputs": [
    {
     "data": {
      "text/plain": [
       "(9, 9614)"
      ]
     },
     "execution_count": 78,
     "metadata": {},
     "output_type": "execute_result"
    }
   ],
   "source": [
    "doc_vectors.shape"
   ]
  },
  {
   "cell_type": "code",
   "execution_count": 84,
   "metadata": {},
   "outputs": [],
   "source": [
    "def find_nearest_document_using_sklearn(query, vectorizer, doc_vectors):\n",
    "    # Transform the query into a vector using the same vocabulary\n",
    "    query_vector = vectorizer.transform([query])\n",
    "    # Compute cosine similarity between the query and all document vectors\n",
    "    similarities = cosine_similarity(query_vector, doc_vectors)\n",
    "    best_idx = similarities.argmax()\n",
    "    best_sim = similarities[0, best_idx]\n",
    "    return best_idx, best_sim"
   ]
  },
  {
   "cell_type": "markdown",
   "metadata": {},
   "source": [
    "### Example with the utility-based agents"
   ]
  },
  {
   "cell_type": "code",
   "execution_count": 85,
   "metadata": {},
   "outputs": [
    {
     "name": "stdout",
     "output_type": "stream",
     "text": [
      "Best matching document index: 7\n",
      "Similarity score: 0.1703809175339335\n"
     ]
    }
   ],
   "source": [
    "# Test the function with a query\n",
    "query = \"What was the article talking about utility-based agents? There was something about utility functions\"\n",
    "best_idx, best_sim = find_nearest_document_using_sklearn(query, vectorizer, doc_vectors)\n",
    "\n",
    "print(\"Best matching document index:\", best_idx)\n",
    "print(\"Similarity score:\", best_sim)"
   ]
  },
  {
   "cell_type": "code",
   "execution_count": 86,
   "metadata": {},
   "outputs": [
    {
     "data": {
      "text/plain": [
       "array([[0.17038092]])"
      ]
     },
     "execution_count": 86,
     "metadata": {},
     "output_type": "execute_result"
    }
   ],
   "source": [
    "cosine_similarity(vectorizer.transform([query]), doc_vectors[best_idx])"
   ]
  },
  {
   "cell_type": "markdown",
   "metadata": {},
   "source": [
    "the same similarity as we achieved manually"
   ]
  },
  {
   "cell_type": "code",
   "execution_count": 89,
   "metadata": {},
   "outputs": [
    {
     "data": {
      "text/plain": [
       "8549"
      ]
     },
     "execution_count": 89,
     "metadata": {},
     "output_type": "execute_result"
    }
   ],
   "source": [
    "id_of_the_token = vectorizer.vocabulary_[\"the\"]\n",
    "id_of_the_token"
   ]
  },
  {
   "cell_type": "code",
   "execution_count": 90,
   "metadata": {},
   "outputs": [
    {
     "data": {
      "text/plain": [
       "np.int64(281)"
      ]
     },
     "execution_count": 90,
     "metadata": {},
     "output_type": "execute_result"
    }
   ],
   "source": [
    "doc_vectors[best_idx].toarray()[0][id_of_the_token]"
   ]
  },
  {
   "cell_type": "markdown",
   "metadata": {},
   "source": [
    "In the article, the token \"the\" appears 281 times. Our approach treats the words in the \"Bag of Words\" manner and it doesn't know the order of them - just the number of occurances. Let's increase the amount of \"the\" and see what happens"
   ]
  },
  {
   "cell_type": "code",
   "execution_count": 92,
   "metadata": {},
   "outputs": [
    {
     "data": {
      "text/plain": [
       "array([[0.22240246]])"
      ]
     },
     "execution_count": 92,
     "metadata": {},
     "output_type": "execute_result"
    }
   ],
   "source": [
    "cosine_similarity(vectorizer.transform([query]), vectorizer.transform([documents[best_idx][\"page_content\"] + \" the\" * 281]))"
   ]
  },
  {
   "cell_type": "code",
   "execution_count": 93,
   "metadata": {},
   "outputs": [
    {
     "data": {
      "text/plain": [
       "np.int64(561)"
      ]
     },
     "execution_count": 93,
     "metadata": {},
     "output_type": "execute_result"
    }
   ],
   "source": [
    "vectorizer.transform([documents[best_idx][\"page_content\"] + \"the \" * 281]).toarray()[0][id_of_the_token]   "
   ]
  },
  {
   "cell_type": "markdown",
   "metadata": {},
   "source": [
    "We have increased the amount of \"the\" and got increase in similarity. Doesn't make sense"
   ]
  },
  {
   "cell_type": "markdown",
   "metadata": {},
   "source": [
    "## TF-IDF"
   ]
  },
  {
   "cell_type": "code",
   "execution_count": 97,
   "metadata": {},
   "outputs": [
    {
     "data": {
      "text/plain": [
       "(9, 9614)"
      ]
     },
     "execution_count": 97,
     "metadata": {},
     "output_type": "execute_result"
    }
   ],
   "source": [
    "from sklearn.feature_extraction.text import TfidfVectorizer\n",
    "\n",
    "vectorizer = TfidfVectorizer(tokenizer=lambda x: x.split())\n",
    "doc_vectors = vectorizer.fit_transform(d[\"page_content\"] for d in documents)\n",
    "doc_vectors.shape"
   ]
  },
  {
   "cell_type": "code",
   "execution_count": 98,
   "metadata": {},
   "outputs": [
    {
     "name": "stdout",
     "output_type": "stream",
     "text": [
      "Best matching document index: 7\n",
      "Similarity score: 0.12364720000734203\n"
     ]
    }
   ],
   "source": [
    "query = \"What was the article talking about utility-based agents? There was something about utility functions\"\n",
    "best_idx, best_sim = find_nearest_document_using_sklearn(query, vectorizer, doc_vectors)\n",
    "\n",
    "print(\"Best matching document index:\", best_idx)\n",
    "print(\"Similarity score:\", best_sim)"
   ]
  },
  {
   "cell_type": "markdown",
   "metadata": {},
   "source": [
    "### boost term \"the\""
   ]
  },
  {
   "cell_type": "code",
   "execution_count": 99,
   "metadata": {},
   "outputs": [
    {
     "data": {
      "text/plain": [
       "8549"
      ]
     },
     "execution_count": 99,
     "metadata": {},
     "output_type": "execute_result"
    }
   ],
   "source": [
    "id_of_the_token = vectorizer.vocabulary_[\"the\"]\n",
    "id_of_the_token"
   ]
  },
  {
   "cell_type": "code",
   "execution_count": 100,
   "metadata": {},
   "outputs": [
    {
     "data": {
      "text/plain": [
       "np.float64(0.5131062785708985)"
      ]
     },
     "execution_count": 100,
     "metadata": {},
     "output_type": "execute_result"
    }
   ],
   "source": [
    "doc_vectors[best_idx].toarray()[0][id_of_the_token]"
   ]
  },
  {
   "cell_type": "code",
   "execution_count": 101,
   "metadata": {},
   "outputs": [
    {
     "data": {
      "text/plain": [
       "array([[0.14432805]])"
      ]
     },
     "execution_count": 101,
     "metadata": {},
     "output_type": "execute_result"
    }
   ],
   "source": [
    "cosine_similarity(vectorizer.transform([query]), vectorizer.transform([documents[best_idx][\"page_content\"] + \" the\" * 281]))"
   ]
  },
  {
   "cell_type": "code",
   "execution_count": 102,
   "metadata": {},
   "outputs": [
    {
     "data": {
      "text/plain": [
       "np.float64(0.7670628122326831)"
      ]
     },
     "execution_count": 102,
     "metadata": {},
     "output_type": "execute_result"
    }
   ],
   "source": [
    "vectorizer.transform([documents[best_idx][\"page_content\"] + \" the\" * 281]).toarray()[0][id_of_the_token]"
   ]
  },
  {
   "cell_type": "markdown",
   "metadata": {},
   "source": [
    "both similarity and feature value (TF-IDF score) do not increase as much as for count vectorizer"
   ]
  },
  {
   "cell_type": "markdown",
   "metadata": {},
   "source": [
    "### boost term \"utility\""
   ]
  },
  {
   "cell_type": "code",
   "execution_count": 103,
   "metadata": {},
   "outputs": [
    {
     "data": {
      "text/plain": [
       "9011"
      ]
     },
     "execution_count": 103,
     "metadata": {},
     "output_type": "execute_result"
    }
   ],
   "source": [
    "id_of_the_token = vectorizer.vocabulary_[\"utility\"]\n",
    "id_of_the_token"
   ]
  },
  {
   "cell_type": "code",
   "execution_count": 104,
   "metadata": {},
   "outputs": [
    {
     "data": {
      "text/plain": [
       "np.float64(0.042883525934867904)"
      ]
     },
     "execution_count": 104,
     "metadata": {},
     "output_type": "execute_result"
    }
   ],
   "source": [
    "doc_vectors[best_idx].toarray()[0][id_of_the_token]"
   ]
  },
  {
   "cell_type": "code",
   "execution_count": 105,
   "metadata": {},
   "outputs": [
    {
     "data": {
      "text/plain": [
       "np.float64(0.46124473258736176)"
      ]
     },
     "execution_count": 105,
     "metadata": {},
     "output_type": "execute_result"
    }
   ],
   "source": [
    "vectorizer.transform([documents[best_idx][\"page_content\"] + \" utility\" * 100]).toarray()[0][id_of_the_token]"
   ]
  },
  {
   "cell_type": "code",
   "execution_count": 106,
   "metadata": {},
   "outputs": [
    {
     "data": {
      "text/plain": [
       "array([[0.25924899]])"
      ]
     },
     "execution_count": 106,
     "metadata": {},
     "output_type": "execute_result"
    }
   ],
   "source": [
    "cosine_similarity(vectorizer.transform([query]), vectorizer.transform([documents[best_idx][\"page_content\"] + \" utility\" * 100]))"
   ]
  },
  {
   "cell_type": "markdown",
   "metadata": {},
   "source": [
    "We generally expect common words to have TF‑IDF scores near 0 (or very low values if a smoothing constant is added), while rare, informative words can yield much higher scores. This behavior is what makes TF‑IDF effective for highlighting discriminative keywords in text. In our example we have too few documents and therefore the actual TF-IDF scores are not very helpful. But the dynamics of the final similarity when changing common and rare words is visible."
   ]
  },
  {
   "cell_type": "markdown",
   "metadata": {},
   "source": [
    "## RAG powered by TF-IDF"
   ]
  },
  {
   "cell_type": "code",
   "execution_count": 107,
   "metadata": {},
   "outputs": [],
   "source": [
    "vectorizer = TfidfVectorizer(tokenizer=lambda x: x.split())\n",
    "doc_vectors = vectorizer.fit_transform(d[\"page_content\"] for d in documents)"
   ]
  },
  {
   "cell_type": "code",
   "execution_count": 108,
   "metadata": {},
   "outputs": [],
   "source": [
    "query = \"What are the Gemini 2.0 model updates as of Feb 05, 2025? Answer shortly\""
   ]
  },
  {
   "cell_type": "code",
   "execution_count": 109,
   "metadata": {},
   "outputs": [
    {
     "name": "stdout",
     "output_type": "stream",
     "text": [
      "Best matching document index: 0\n",
      "Similarity score: 0.3373848437673668\n"
     ]
    }
   ],
   "source": [
    "best_idx, best_sim = find_nearest_document_using_sklearn(query, vectorizer, doc_vectors)\n",
    "print(\"Best matching document index:\", best_idx)\n",
    "print(\"Similarity score:\", best_sim)"
   ]
  },
  {
   "cell_type": "code",
   "execution_count": 118,
   "metadata": {},
   "outputs": [
    {
     "data": {
      "text/plain": [
       "<Compressed Sparse Row sparse matrix of dtype 'float64'\n",
       "\twith 14308 stored elements and shape (9, 9614)>"
      ]
     },
     "execution_count": 118,
     "metadata": {},
     "output_type": "execute_result"
    }
   ],
   "source": [
    "doc_vectors"
   ]
  },
  {
   "cell_type": "code",
   "execution_count": 110,
   "metadata": {},
   "outputs": [
    {
     "data": {
      "text/plain": [
       "{'source': 'documents/Gemini 2.0 model updates_ 2.0 Flash, Flash-Lite, Pro Experimental.html'}"
      ]
     },
     "execution_count": 110,
     "metadata": {},
     "output_type": "execute_result"
    }
   ],
   "source": [
    "documents[best_idx][\"metadata\"]"
   ]
  },
  {
   "cell_type": "code",
   "execution_count": 111,
   "metadata": {},
   "outputs": [
    {
     "name": "stdout",
     "output_type": "stream",
     "text": [
      "\n",
      "{user_query}\n",
      "\n",
      "Below is the name of the document retrieved by the TF-IDF-based document search:\n",
      "{retrieved_document_name}\n",
      "\n",
      "Below is the text retrieved by the TF-IDF-based document search:\n",
      "{retrieved_text}\n",
      "\n"
     ]
    }
   ],
   "source": [
    "prompt = \"\"\"\n",
    "{user_query}\n",
    "\n",
    "Below is the name of the document retrieved by the TF-IDF-based document search:\n",
    "{retrieved_document_name}\n",
    "\n",
    "Below is the text retrieved by the TF-IDF-based document search:\n",
    "{retrieved_text}\n",
    "\"\"\"\n",
    "print(prompt)"
   ]
  },
  {
   "cell_type": "code",
   "execution_count": 113,
   "metadata": {},
   "outputs": [
    {
     "name": "stdout",
     "output_type": "stream",
     "text": [
      "\n",
      "What are the Gemini 2.0 model updates as of Feb 05, 2025? Answer shortly\n",
      "\n",
      "Below is the name of the document retrieved by the TF-IDF-based document search:\n",
      "documents/Gemini 2.0 model updates_ 2.0 Flash, Flash-Lite, Pro Experimental.html\n",
      "\n",
      "Below is the text retrieved by the TF-IDF-based document search:\n",
      "\n",
      "\n",
      "\n",
      "\n",
      "Gemini 2.0 model updates: 2.0 Flash, Flash-Lite, Pro Experimental\n",
      "\n",
      "\n",
      "\n",
      "\n",
      "\n",
      "\n",
      "\n",
      "\n",
      "\n",
      "\n",
      "\n",
      "\n",
      "\n",
      "\n",
      "\n",
      "\n",
      "\n",
      "\n",
      "\n",
      "\n",
      "\n",
      "\n",
      "\n",
      "\n",
      "\n",
      "\n",
      "\n",
      "\n",
      "\n",
      "\n",
      "\n",
      "\n",
      "\n",
      "\n",
      "\n",
      "\n",
      "\n",
      "\n",
      "\n",
      "\n",
      "\n",
      "\n",
      "\n",
      "\n",
      "\n",
      "\n",
      "\n",
      "\n",
      "\n",
      "\n",
      "\n",
      "\n",
      "\n",
      "\n",
      "\n",
      "\n",
      "\n",
      "\n",
      "\n",
      "\n",
      "\n",
      "\n",
      "\n",
      "      [{\"model\": \"blogsurvey.survey\", \"pk\": 5, \"fields\": {\"name\": \"Sentiment Change - All Articles - Nov 2024\", \"survey_id\": \"sentiment-change-all-articles-nov-2024_241031\", \"scroll_depth_trigger\": 75, \"previous_survey\": null, \"display_rate\": 50, \"thank_message\": \"Thank you!\", \"thank_emoji\": \"✅\", \"questions\": \"[{\\\"id\\\": \\\"c32a4772-5575-4985-814a-afd8d15d5d6d\\\", \\\"type\\\": \\\"simple_question\\\", \\\"value\\\": {\\\"question\\\": \\\"After reading this article, how has your perception of Google changed?\\\", \\\"responses\\\": [{\\\"id\\\": \\\"cb111cda-60ba-4ac5-8260-17c5326e485b\\\", \\\"type\\\": \\\"item\\\", \\\"value\\\": \\\"Gotten better\\\"}, {\\\"id\\\": \\\"d8864abb-689a-4b52-b021-449af0b0a7c6\\\", \\\"type\\\": \\\"item\\\", \\\"value\\\": \\\"Gotten worse\\\"}, {\\\"id\\\": \\\"f169d98d-1731-4efc-be90-3cd379a2a63e\\\", \\\"type\\\": \\\"item\\\", \\\"value\\\": \\\"Stayed the same\\\"}, {\\\"id\\\": \\\"701d8c63-affe-4f44-85f0-71538a310d65\\\", \\\"type\\\": \\\"item\\\", \\\"value\\\": \\\"Don't know\\\"}]}}]\", \"target_article_pages\": true}}]\n",
      "    \n",
      "\n",
      "\n",
      "\n",
      "\n",
      "\n",
      "\n",
      "\n",
      "\n",
      "\n",
      "\n",
      "\n",
      "\n",
      "\n",
      "\n",
      "\n",
      "\n",
      "\n",
      "\n",
      "Skip to main content\n",
      "\n",
      "\n",
      "\n",
      "\n",
      "\n",
      "        The Keyword\n",
      "      \n",
      "\n",
      "\n",
      "\n",
      "\n",
      "    Gemini 2.0 is now available to everyone\n",
      "  \n",
      "\n",
      "\n",
      "\n",
      "\n",
      "\n",
      "\n",
      "Share\n",
      "\n",
      "\n",
      "\n",
      "\n",
      "\n",
      "\n",
      "Twitter\n",
      "\n",
      "\n",
      "\n",
      "\n",
      "\n",
      "Facebook\n",
      "\n",
      "\n",
      "\n",
      "\n",
      "\n",
      "LinkedIn\n",
      "\n",
      "\n",
      "\n",
      "\n",
      "\n",
      "Mail\n",
      "\n",
      "\n",
      "\n",
      "\n",
      "\n",
      "\n",
      "Copy link\n",
      "\n",
      "\n",
      "\n",
      "\n",
      "\n",
      "\n",
      "\n",
      "\n",
      "\n",
      "\n",
      "\n",
      "\n",
      "\n",
      "\n",
      "\n",
      "\n",
      "               Home\n",
      "            \n",
      "\n",
      "\n",
      "\n",
      "              Product news\n",
      "              \n",
      "\n",
      "\n",
      "\n",
      "\n",
      "\n",
      "\n",
      "\n",
      "\n",
      "\n",
      "\n",
      "\n",
      "\n",
      "    Product news\n",
      "  \n",
      "\n",
      "\n",
      "\n",
      "            Android, Chrome & Play\n",
      "            \n",
      "\n",
      "\n",
      "\n",
      "\n",
      "\n",
      "\n",
      "\n",
      "\n",
      "                  Android\n",
      "                  \n",
      "                \n",
      "\n",
      "\n",
      "\n",
      "                  Chrome\n",
      "                  \n",
      "                \n",
      "\n",
      "\n",
      "\n",
      "                  Chromebooks\n",
      "                  \n",
      "                \n",
      "\n",
      "\n",
      "\n",
      "                  Google Play\n",
      "                  \n",
      "                \n",
      "\n",
      "\n",
      "\n",
      "                  Wear OS\n",
      "                  \n",
      "                \n",
      "\n",
      "\n",
      "\n",
      "                   See all\n",
      "                \n",
      "\n",
      "\n",
      "\n",
      "\n",
      "\n",
      "            Platforms & Devices\n",
      "            \n",
      "\n",
      "\n",
      "\n",
      "\n",
      "\n",
      "\n",
      "\n",
      "\n",
      "                  Fitbit\n",
      "                  \n",
      "                \n",
      "\n",
      "\n",
      "\n",
      "                  Google Nest\n",
      "                  \n",
      "                \n",
      "\n",
      "\n",
      "\n",
      "                  Pixel\n",
      "                  \n",
      "                \n",
      "\n",
      "\n",
      "\n",
      "                   See all\n",
      "                \n",
      "\n",
      "\n",
      "\n",
      "\n",
      "\n",
      "            Explore & Get Answers\n",
      "            \n",
      "\n",
      "\n",
      "\n",
      "\n",
      "\n",
      "\n",
      "\n",
      "\n",
      "                  Gemini\n",
      "                  \n",
      "                \n",
      "\n",
      "\n",
      "\n",
      "                  Maps\n",
      "                  \n",
      "                \n",
      "\n",
      "\n",
      "\n",
      "                  News\n",
      "                  \n",
      "                \n",
      "\n",
      "\n",
      "\n",
      "                  Search\n",
      "                  \n",
      "                \n",
      "\n",
      "\n",
      "\n",
      "                  Shopping\n",
      "                  \n",
      "                \n",
      "\n",
      "\n",
      "\n",
      "                   See all\n",
      "                \n",
      "\n",
      "\n",
      "\n",
      "\n",
      "\n",
      "            Connect & Communicate\n",
      "            \n",
      "\n",
      "\n",
      "\n",
      "\n",
      "\n",
      "\n",
      "\n",
      "\n",
      "                  Classroom\n",
      "                  \n",
      "                \n",
      "\n",
      "\n",
      "\n",
      "                  Photos\n",
      "                  \n",
      "                \n",
      "\n",
      "\n",
      "\n",
      "                  Registry\n",
      "                  \n",
      "                \n",
      "\n",
      "\n",
      "\n",
      "                  Translate\n",
      "                  \n",
      "                \n",
      "\n",
      "\n",
      "\n",
      "\n",
      "\n",
      "            In the Cloud\n",
      "            \n",
      "\n",
      "\n",
      "\n",
      "\n",
      "\n",
      "\n",
      "\n",
      "\n",
      "                  Google Workspace\n",
      "                  \n",
      "                \n",
      "\n",
      "\n",
      "\n",
      "                  More on the Cloud Blog\n",
      "                  \n",
      "                    \n",
      "\n",
      "\n",
      "\n",
      "\n",
      "\n",
      "\n",
      "                  Google Cloud\n",
      "                  \n",
      "                \n",
      "\n",
      "\n",
      "\n",
      "                   See all\n",
      "                \n",
      "\n",
      "\n",
      "\n",
      "\n",
      "\n",
      "      See all product updates\n",
      "    \n",
      "\n",
      "\n",
      "\n",
      "\n",
      "\n",
      "            Android, Chrome & Play\n",
      "          \n",
      "\n",
      "\n",
      "\n",
      "                    Android\n",
      "\n",
      "                    \n",
      "                  \n",
      "\n",
      "\n",
      "\n",
      "                    Chrome\n",
      "\n",
      "                    \n",
      "                  \n",
      "\n",
      "\n",
      "\n",
      "                    Chromebooks\n",
      "\n",
      "                    \n",
      "                  \n",
      "\n",
      "\n",
      "\n",
      "                    Google Play\n",
      "\n",
      "                    \n",
      "                  \n",
      "\n",
      "\n",
      "\n",
      "                    Wear OS\n",
      "\n",
      "                    \n",
      "                  \n",
      "\n",
      "\n",
      "\n",
      "            See all\n",
      "            \n",
      "\n",
      "\n",
      "\n",
      "\n",
      "\n",
      "\n",
      "            Platforms & Devices\n",
      "          \n",
      "\n",
      "\n",
      "\n",
      "                    Fitbit\n",
      "\n",
      "                    \n",
      "                  \n",
      "\n",
      "\n",
      "\n",
      "                    Google Nest\n",
      "\n",
      "                    \n",
      "                  \n",
      "\n",
      "\n",
      "\n",
      "                    Pixel\n",
      "\n",
      "                    \n",
      "                  \n",
      "\n",
      "\n",
      "\n",
      "            See all\n",
      "            \n",
      "\n",
      "\n",
      "\n",
      "\n",
      "\n",
      "\n",
      "            Explore & Get Answers\n",
      "          \n",
      "\n",
      "\n",
      "\n",
      "                    Gemini\n",
      "\n",
      "                    \n",
      "                  \n",
      "\n",
      "\n",
      "\n",
      "                    Maps\n",
      "\n",
      "                    \n",
      "                  \n",
      "\n",
      "\n",
      "\n",
      "                    News\n",
      "\n",
      "                    \n",
      "                  \n",
      "\n",
      "\n",
      "\n",
      "                    Search\n",
      "\n",
      "                    \n",
      "                  \n",
      "\n",
      "\n",
      "\n",
      "                    Shopping\n",
      "\n",
      "                    \n",
      "                  \n",
      "\n",
      "\n",
      "\n",
      "            See all\n",
      "            \n",
      "\n",
      "\n",
      "\n",
      "\n",
      "\n",
      "\n",
      "            Connect & Communicate\n",
      "          \n",
      "\n",
      "\n",
      "\n",
      "                    Classroom\n",
      "\n",
      "                    \n",
      "                  \n",
      "\n",
      "\n",
      "\n",
      "                    Photos\n",
      "\n",
      "                    \n",
      "                  \n",
      "\n",
      "\n",
      "\n",
      "                    Registry\n",
      "\n",
      "                    \n",
      "                  \n",
      "\n",
      "\n",
      "\n",
      "                    Translate\n",
      "\n",
      "                    \n",
      "                  \n",
      "\n",
      "\n",
      "\n",
      "\n",
      "\n",
      "            In the Cloud\n",
      "          \n",
      "\n",
      "\n",
      "\n",
      "                    Google Workspace\n",
      "\n",
      "                    \n",
      "                  \n",
      "\n",
      "\n",
      "\n",
      "                    More on the Cloud Blog\n",
      "\n",
      "                    \n",
      "                      \n",
      "\n",
      "\n",
      "\n",
      "\n",
      "\n",
      "\n",
      "                    Google Cloud\n",
      "\n",
      "                    \n",
      "                  \n",
      "\n",
      "\n",
      "\n",
      "            See all\n",
      "            \n",
      "\n",
      "\n",
      "\n",
      "\n",
      "\n",
      "\n",
      "\n",
      "        See all product updates\n",
      "        \n",
      "\n",
      "\n",
      "\n",
      "\n",
      "\n",
      "\n",
      "\n",
      "\n",
      "\n",
      "\n",
      "\n",
      "\n",
      "\n",
      "              Company news\n",
      "              \n",
      "\n",
      "\n",
      "\n",
      "\n",
      "\n",
      "\n",
      "\n",
      "\n",
      "\n",
      "\n",
      "\n",
      "\n",
      "    Company news\n",
      "  \n",
      "\n",
      "\n",
      "\n",
      "            Outreach & initiatives\n",
      "            \n",
      "\n",
      "\n",
      "\n",
      "\n",
      "\n",
      "\n",
      "\n",
      "\n",
      "                  Arts & Culture\n",
      "                  \n",
      "                \n",
      "\n",
      "\n",
      "\n",
      "                  Education\n",
      "                  \n",
      "                \n",
      "\n",
      "\n",
      "\n",
      "                  Entrepreneurs\n",
      "                  \n",
      "                \n",
      "\n",
      "\n",
      "\n",
      "                  Public Policy\n",
      "                  \n",
      "                \n",
      "\n",
      "\n",
      "\n",
      "                  Sustainability\n",
      "                  \n",
      "                \n",
      "\n",
      "\n",
      "\n",
      "                   See all\n",
      "                \n",
      "\n",
      "\n",
      "\n",
      "\n",
      "\n",
      "            Technology\n",
      "            \n",
      "\n",
      "\n",
      "\n",
      "\n",
      "\n",
      "\n",
      "\n",
      "\n",
      "                  AI\n",
      "                  \n",
      "                \n",
      "\n",
      "\n",
      "\n",
      "                  Developers\n",
      "                  \n",
      "                \n",
      "\n",
      "\n",
      "\n",
      "                  Health\n",
      "                  \n",
      "                \n",
      "\n",
      "\n",
      "\n",
      "                  Google DeepMind\n",
      "                  \n",
      "                \n",
      "\n",
      "\n",
      "\n",
      "                  Google Labs\n",
      "                  \n",
      "                \n",
      "\n",
      "\n",
      "\n",
      "                  Safety and security\n",
      "                  \n",
      "                \n",
      "\n",
      "\n",
      "\n",
      "                   See all\n",
      "                \n",
      "\n",
      "\n",
      "\n",
      "\n",
      "\n",
      "            Inside Google\n",
      "            \n",
      "\n",
      "\n",
      "\n",
      "\n",
      "\n",
      "\n",
      "\n",
      "\n",
      "                  Data centers and infrastructure\n",
      "                  \n",
      "                \n",
      "\n",
      "\n",
      "\n",
      "                  Doodles\n",
      "                  \n",
      "                \n",
      "\n",
      "\n",
      "\n",
      "                  Googlers\n",
      "                  \n",
      "                \n",
      "\n",
      "\n",
      "\n",
      "                  Life at Google\n",
      "                  \n",
      "                \n",
      "\n",
      "\n",
      "\n",
      "                   See all\n",
      "                \n",
      "\n",
      "\n",
      "\n",
      "\n",
      "\n",
      "            Around the globe\n",
      "            \n",
      "\n",
      "\n",
      "\n",
      "\n",
      "\n",
      "\n",
      "\n",
      "\n",
      "                  Google in Asia\n",
      "                  \n",
      "                \n",
      "\n",
      "\n",
      "\n",
      "                  Google in Europe\n",
      "                  \n",
      "                \n",
      "\n",
      "\n",
      "\n",
      "                  Google in Latin America\n",
      "                  \n",
      "                \n",
      "\n",
      "\n",
      "\n",
      "                   See all\n",
      "                \n",
      "\n",
      "\n",
      "\n",
      "\n",
      "\n",
      "            Authors\n",
      "            \n",
      "\n",
      "\n",
      "\n",
      "\n",
      "\n",
      "\n",
      "\n",
      "\n",
      "                  Sundar Pichai, CEO\n",
      "                  \n",
      "                \n",
      "\n",
      "\n",
      "\n",
      "                  Ruth Porat, President & Chief Investment Officer\n",
      "                  \n",
      "                \n",
      "\n",
      "\n",
      "\n",
      "                  Kent Walker, SVP\n",
      "                  \n",
      "                \n",
      "\n",
      "\n",
      "\n",
      "                  James Manyika, SVP\n",
      "                  \n",
      "                \n",
      "\n",
      "\n",
      "\n",
      "                   See all\n",
      "                \n",
      "\n",
      "\n",
      "\n",
      "\n",
      "\n",
      "\n",
      "\n",
      "\n",
      "\n",
      "            Outreach & initiatives\n",
      "          \n",
      "\n",
      "\n",
      "\n",
      "                    Arts & Culture\n",
      "\n",
      "                    \n",
      "                  \n",
      "\n",
      "\n",
      "\n",
      "                    Education\n",
      "\n",
      "                    \n",
      "                  \n",
      "\n",
      "\n",
      "\n",
      "                    Entrepreneurs\n",
      "\n",
      "                    \n",
      "                  \n",
      "\n",
      "\n",
      "\n",
      "                    Public Policy\n",
      "\n",
      "                    \n",
      "                  \n",
      "\n",
      "\n",
      "\n",
      "                    Sustainability\n",
      "\n",
      "                    \n",
      "                  \n",
      "\n",
      "\n",
      "\n",
      "            See all\n",
      "            \n",
      "\n",
      "\n",
      "\n",
      "\n",
      "\n",
      "\n",
      "            Technology\n",
      "          \n",
      "\n",
      "\n",
      "\n",
      "                    AI\n",
      "\n",
      "                    \n",
      "                  \n",
      "\n",
      "\n",
      "\n",
      "                    Developers\n",
      "\n",
      "                    \n",
      "                  \n",
      "\n",
      "\n",
      "\n",
      "                    Health\n",
      "\n",
      "                    \n",
      "                  \n",
      "\n",
      "\n",
      "\n",
      "                    Google DeepMind\n",
      "\n",
      "                    \n",
      "                  \n",
      "\n",
      "\n",
      "\n",
      "                    Google Labs\n",
      "\n",
      "                    \n",
      "                  \n",
      "\n",
      "\n",
      "\n",
      "                    Safety and security\n",
      "\n",
      "                    \n",
      "                  \n",
      "\n",
      "\n",
      "\n",
      "            See all\n",
      "            \n",
      "\n",
      "\n",
      "\n",
      "\n",
      "\n",
      "\n",
      "            Inside Google\n",
      "          \n",
      "\n",
      "\n",
      "\n",
      "                    Data centers and infrastructure\n",
      "\n",
      "                    \n",
      "                  \n",
      "\n",
      "\n",
      "\n",
      "                    Doodles\n",
      "\n",
      "                    \n",
      "                  \n",
      "\n",
      "\n",
      "\n",
      "                    Googlers\n",
      "\n",
      "                    \n",
      "                  \n",
      "\n",
      "\n",
      "\n",
      "                    Life at Google\n",
      "\n",
      "                    \n",
      "                  \n",
      "\n",
      "\n",
      "\n",
      "            See all\n",
      "            \n",
      "\n",
      "\n",
      "\n",
      "\n",
      "\n",
      "\n",
      "            Around the globe\n",
      "          \n",
      "\n",
      "\n",
      "\n",
      "                    Google in Asia\n",
      "\n",
      "                    \n",
      "                  \n",
      "\n",
      "\n",
      "\n",
      "                    Google in Europe\n",
      "\n",
      "                    \n",
      "                  \n",
      "\n",
      "\n",
      "\n",
      "                    Google in Latin America\n",
      "\n",
      "                    \n",
      "                  \n",
      "\n",
      "\n",
      "\n",
      "            See all\n",
      "            \n",
      "\n",
      "\n",
      "\n",
      "\n",
      "\n",
      "\n",
      "            Authors\n",
      "          \n",
      "\n",
      "\n",
      "\n",
      "                    Sundar Pichai, CEO\n",
      "\n",
      "                    \n",
      "                  \n",
      "\n",
      "\n",
      "\n",
      "                    Ruth Porat, President & Chief Investment Officer\n",
      "\n",
      "                    \n",
      "                  \n",
      "\n",
      "\n",
      "\n",
      "                    Kent Walker, SVP\n",
      "\n",
      "                    \n",
      "                  \n",
      "\n",
      "\n",
      "\n",
      "                    James Manyika, SVP\n",
      "\n",
      "                    \n",
      "                  \n",
      "\n",
      "\n",
      "\n",
      "            See all\n",
      "            \n",
      "\n",
      "\n",
      "\n",
      "\n",
      "\n",
      "\n",
      "\n",
      "\n",
      "\n",
      "\n",
      "\n",
      "\n",
      "\n",
      "\n",
      "               Feed\n",
      "            \n",
      "\n",
      "\n",
      "\n",
      "\n",
      "\n",
      "    Subscribe\n",
      "\n",
      "\n",
      "\n",
      "\n",
      "\n",
      "\n",
      "\n",
      "    Subscribe\n",
      "\n",
      "\n",
      "\n",
      "\n",
      "\n",
      "\n",
      "\n",
      "\n",
      "\n",
      "\n",
      "\n",
      "\n",
      "\n",
      "\n",
      "\n",
      "\n",
      "\n",
      "            The Keyword\n",
      "          \n",
      "\n",
      "\n",
      "\n",
      "\n",
      "\n",
      "\n",
      "\n",
      "               Home\n",
      "            \n",
      "\n",
      "\n",
      "\n",
      "              Product news\n",
      "              \n",
      "\n",
      "\n",
      "\n",
      "\n",
      "\n",
      "\n",
      "\n",
      "\n",
      "\n",
      "\n",
      "\n",
      "\n",
      "    Product news\n",
      "  \n",
      "\n",
      "\n",
      "\n",
      "            Android, Chrome & Play\n",
      "            \n",
      "\n",
      "\n",
      "\n",
      "\n",
      "\n",
      "\n",
      "\n",
      "\n",
      "                  Android\n",
      "                  \n",
      "                \n",
      "\n",
      "\n",
      "\n",
      "                  Chrome\n",
      "                  \n",
      "                \n",
      "\n",
      "\n",
      "\n",
      "                  Chromebooks\n",
      "                  \n",
      "                \n",
      "\n",
      "\n",
      "\n",
      "                  Google Play\n",
      "                  \n",
      "                \n",
      "\n",
      "\n",
      "\n",
      "                  Wear OS\n",
      "                  \n",
      "                \n",
      "\n",
      "\n",
      "\n",
      "                   See all\n",
      "                \n",
      "\n",
      "\n",
      "\n",
      "\n",
      "\n",
      "            Platforms & Devices\n",
      "            \n",
      "\n",
      "\n",
      "\n",
      "\n",
      "\n",
      "\n",
      "\n",
      "\n",
      "                  Fitbit\n",
      "                  \n",
      "                \n",
      "\n",
      "\n",
      "\n",
      "                  Google Nest\n",
      "                  \n",
      "                \n",
      "\n",
      "\n",
      "\n",
      "                  Pixel\n",
      "                  \n",
      "                \n",
      "\n",
      "\n",
      "\n",
      "                   See all\n",
      "                \n",
      "\n",
      "\n",
      "\n",
      "\n",
      "\n",
      "            Explore & Get Answers\n",
      "            \n",
      "\n",
      "\n",
      "\n",
      "\n",
      "\n",
      "\n",
      "\n",
      "\n",
      "                  Gemini\n",
      "                  \n",
      "                \n",
      "\n",
      "\n",
      "\n",
      "                  Maps\n",
      "                  \n",
      "                \n",
      "\n",
      "\n",
      "\n",
      "                  News\n",
      "                  \n",
      "                \n",
      "\n",
      "\n",
      "\n",
      "                  Search\n",
      "                  \n",
      "                \n",
      "\n",
      "\n",
      "\n",
      "                  Shopping\n",
      "                  \n",
      "                \n",
      "\n",
      "\n",
      "\n",
      "                   See all\n",
      "                \n",
      "\n",
      "\n",
      "\n",
      "\n",
      "\n",
      "            Connect & Communicate\n",
      "            \n",
      "\n",
      "\n",
      "\n",
      "\n",
      "\n",
      "\n",
      "\n",
      "\n",
      "                  Classroom\n",
      "                  \n",
      "                \n",
      "\n",
      "\n",
      "\n",
      "                  Photos\n",
      "                  \n",
      "                \n",
      "\n",
      "\n",
      "\n",
      "                  Registry\n",
      "                  \n",
      "                \n",
      "\n",
      "\n",
      "\n",
      "                  Translate\n",
      "                  \n",
      "                \n",
      "\n",
      "\n",
      "\n",
      "\n",
      "\n",
      "            In the Cloud\n",
      "            \n",
      "\n",
      "\n",
      "\n",
      "\n",
      "\n",
      "\n",
      "\n",
      "\n",
      "                  Google Workspace\n",
      "                  \n",
      "                \n",
      "\n",
      "\n",
      "\n",
      "                  More on the Cloud Blog\n",
      "                  \n",
      "                    \n",
      "\n",
      "\n",
      "\n",
      "\n",
      "\n",
      "\n",
      "                  Google Cloud\n",
      "                  \n",
      "                \n",
      "\n",
      "\n",
      "\n",
      "                   See all\n",
      "                \n",
      "\n",
      "\n",
      "\n",
      "\n",
      "\n",
      "      See all product updates\n",
      "    \n",
      "\n",
      "\n",
      "\n",
      "\n",
      "              Company news\n",
      "              \n",
      "\n",
      "\n",
      "\n",
      "\n",
      "\n",
      "\n",
      "\n",
      "\n",
      "\n",
      "\n",
      "\n",
      "\n",
      "    Company news\n",
      "  \n",
      "\n",
      "\n",
      "\n",
      "            Outreach & initiatives\n",
      "            \n",
      "\n",
      "\n",
      "\n",
      "\n",
      "\n",
      "\n",
      "\n",
      "\n",
      "                  Arts & Culture\n",
      "                  \n",
      "                \n",
      "\n",
      "\n",
      "\n",
      "                  Education\n",
      "                  \n",
      "                \n",
      "\n",
      "\n",
      "\n",
      "                  Entrepreneurs\n",
      "                  \n",
      "                \n",
      "\n",
      "\n",
      "\n",
      "                  Public Policy\n",
      "                  \n",
      "                \n",
      "\n",
      "\n",
      "\n",
      "                  Sustainability\n",
      "                  \n",
      "                \n",
      "\n",
      "\n",
      "\n",
      "                   See all\n",
      "                \n",
      "\n",
      "\n",
      "\n",
      "\n",
      "\n",
      "            Technology\n",
      "            \n",
      "\n",
      "\n",
      "\n",
      "\n",
      "\n",
      "\n",
      "\n",
      "\n",
      "                  AI\n",
      "                  \n",
      "                \n",
      "\n",
      "\n",
      "\n",
      "                  Developers\n",
      "                  \n",
      "                \n",
      "\n",
      "\n",
      "\n",
      "                  Health\n",
      "                  \n",
      "                \n",
      "\n",
      "\n",
      "\n",
      "                  Google DeepMind\n",
      "                  \n",
      "                \n",
      "\n",
      "\n",
      "\n",
      "                  Google Labs\n",
      "                  \n",
      "                \n",
      "\n",
      "\n",
      "\n",
      "                  Safety and security\n",
      "                  \n",
      "                \n",
      "\n",
      "\n",
      "\n",
      "                   See all\n",
      "                \n",
      "\n",
      "\n",
      "\n",
      "\n",
      "\n",
      "            Inside Google\n",
      "            \n",
      "\n",
      "\n",
      "\n",
      "\n",
      "\n",
      "\n",
      "\n",
      "\n",
      "                  Data centers and infrastructure\n",
      "                  \n",
      "                \n",
      "\n",
      "\n",
      "\n",
      "                  Doodles\n",
      "                  \n",
      "                \n",
      "\n",
      "\n",
      "\n",
      "                  Googlers\n",
      "                  \n",
      "                \n",
      "\n",
      "\n",
      "\n",
      "                  Life at Google\n",
      "                  \n",
      "                \n",
      "\n",
      "\n",
      "\n",
      "                   See all\n",
      "                \n",
      "\n",
      "\n",
      "\n",
      "\n",
      "\n",
      "            Around the globe\n",
      "            \n",
      "\n",
      "\n",
      "\n",
      "\n",
      "\n",
      "\n",
      "\n",
      "\n",
      "                  Google in Asia\n",
      "                  \n",
      "                \n",
      "\n",
      "\n",
      "\n",
      "                  Google in Europe\n",
      "                  \n",
      "                \n",
      "\n",
      "\n",
      "\n",
      "                  Google in Latin America\n",
      "                  \n",
      "                \n",
      "\n",
      "\n",
      "\n",
      "                   See all\n",
      "                \n",
      "\n",
      "\n",
      "\n",
      "\n",
      "\n",
      "            Authors\n",
      "            \n",
      "\n",
      "\n",
      "\n",
      "\n",
      "\n",
      "\n",
      "\n",
      "\n",
      "                  Sundar Pichai, CEO\n",
      "                  \n",
      "                \n",
      "\n",
      "\n",
      "\n",
      "                  Ruth Porat, President & Chief Investment Officer\n",
      "                  \n",
      "                \n",
      "\n",
      "\n",
      "\n",
      "                  Kent Walker, SVP\n",
      "                  \n",
      "                \n",
      "\n",
      "\n",
      "\n",
      "                  James Manyika, SVP\n",
      "                  \n",
      "                \n",
      "\n",
      "\n",
      "\n",
      "                   See all\n",
      "                \n",
      "\n",
      "\n",
      "\n",
      "\n",
      "\n",
      "\n",
      "\n",
      "\n",
      "               Feed\n",
      "            \n",
      "\n",
      "\n",
      "\n",
      "\n",
      "\n",
      "Press corner\n",
      "\n",
      "\n",
      "\n",
      "            RSS feed\n",
      "          \n",
      "\n",
      "\n",
      "\n",
      "\n",
      "\n",
      "    Subscribe\n",
      "\n",
      "\n",
      "\n",
      "\n",
      "\n",
      "\n",
      "\n",
      "\n",
      "\n",
      "\n",
      "\n",
      "\n",
      "\n",
      "\n",
      "\n",
      "\n",
      "\n",
      "\n",
      "\n",
      "Breadcrumb\n",
      "\n",
      "\n",
      "\n",
      "\n",
      "\n",
      "\n",
      "\n",
      "\n",
      "\n",
      "\n",
      "\n",
      "\n",
      "\n",
      "              Technology\n",
      "          \n",
      "\n",
      "\n",
      "\n",
      "\n",
      "\n",
      "\n",
      "              Google DeepMind\n",
      "          \n",
      "\n",
      "\n",
      "\n",
      "\n",
      "\n",
      "\n",
      "\n",
      "\n",
      "\n",
      "\n",
      "\n",
      "Gemini 2.0 is now available to everyone\n",
      "\n",
      "\n",
      "\n",
      "\n",
      "\n",
      "\n",
      "\n",
      "Feb 05, 2025\n",
      "·\n",
      "[[read-time]] min read\n",
      "\n",
      "\n",
      "\n",
      "\n",
      "\n",
      "\n",
      "Share\n",
      "\n",
      "\n",
      "\n",
      "\n",
      "\n",
      "\n",
      "Twitter\n",
      "\n",
      "\n",
      "\n",
      "\n",
      "\n",
      "Facebook\n",
      "\n",
      "\n",
      "\n",
      "\n",
      "\n",
      "LinkedIn\n",
      "\n",
      "\n",
      "\n",
      "\n",
      "\n",
      "Mail\n",
      "\n",
      "\n",
      "\n",
      "\n",
      "\n",
      "\n",
      "Copy link\n",
      "\n",
      "\n",
      "\n",
      "\n",
      "\n",
      "\n",
      "\n",
      "\n",
      "\n",
      "\n",
      "\n",
      "\n",
      "\n",
      "\n",
      "\n",
      "\n",
      "\n",
      "\n",
      "\n",
      "\n",
      "\n",
      "\n",
      "Koray Kavukcuoglu\n",
      "\n",
      "      CTO, Google DeepMind, on behalf of the Gemini team\n",
      "    \n",
      "\n",
      "\n",
      "\n",
      "\n",
      "\n",
      "\n",
      "\n",
      "\n",
      "\n",
      "Share\n",
      "\n",
      "\n",
      "\n",
      "\n",
      "\n",
      "\n",
      "Twitter\n",
      "\n",
      "\n",
      "\n",
      "\n",
      "\n",
      "Facebook\n",
      "\n",
      "\n",
      "\n",
      "\n",
      "\n",
      "LinkedIn\n",
      "\n",
      "\n",
      "\n",
      "\n",
      "\n",
      "Mail\n",
      "\n",
      "\n",
      "\n",
      "\n",
      "\n",
      "\n",
      "Copy link\n",
      "\n",
      "\n",
      "\n",
      "\n",
      "\n",
      "\n",
      "\n",
      "\n",
      "\n",
      "\n",
      "\n",
      "\n",
      "\n",
      "\n",
      "\n",
      "\n",
      "\n",
      "\n",
      "\n",
      "\n",
      "\n",
      "\n",
      "\n",
      "\n",
      "\n",
      "\n",
      "\n",
      "\n",
      "\n",
      "\n",
      "\n",
      "In December, we kicked off the agentic era by releasing an experimental version of Gemini 2.0 Flash — our highly efficient workhorse model for developers with low latency and enhanced performance. Earlier this year, we updated 2.0 Flash Thinking Experimental in Google AI Studio, which improved its performance by combining Flash’s speed with the ability to reason through more complex problems.And last week, we made an updated 2.0 Flash available to all users of the Gemini app on desktop and mobile, helping everyone discover new ways to create, interact and collaborate with Gemini.Today, we’re making the updated Gemini 2.0 Flash generally available via the Gemini API in Google AI Studio and Vertex AI. Developers can now build production applications with 2.0 Flash.We’re also releasing an experimental version of Gemini 2.0 Pro, our best model yet for coding performance and complex prompts. It is available in Google AI Studio and Vertex AI, and in the Gemini app for Gemini Advanced users.We’re releasing a new model, Gemini 2.0 Flash-Lite, our most cost-efficient model yet, in public preview in Google AI Studio and Vertex AI.Finally, 2.0 Flash Thinking Experimental will be available to Gemini app users in the model dropdown on desktop and mobile.All of these models will feature multimodal input with text output on release, with more modalities ready for general availability in the coming months. More information, including specifics about pricing, can be found in the Google for Developers blog. Looking ahead, we’re working on more updates and improved capabilities for the Gemini 2.0 family of models.2.0 Flash: a new update for general availabilityFirst introduced at I/O 2024, the Flash series of models is popular with developers as a powerful workhorse model, optimal for high-volume, high-frequency tasks at scale and highly capable of multimodal reasoning across vast amounts of information with a context window of 1 million tokens. We’ve been thrilled to see its reception by the developer community.2.0 Flash is now generally available to more people across our AI products, alongside improved performance in key benchmarks, with image generation and text-to-speech coming soon.Try Gemini 2.0 Flash in the Gemini app or the Gemini API in Google AI Studio and Vertex AI. Pricing details can be found in the Google for Developers blog.2.0 Pro Experimental: our best model yet for coding performance and complex promptsAs we’ve continued to share early, experimental versions of Gemini 2.0 like Gemini-Exp-1206, we’ve gotten excellent feedback from developers about its strengths and best use cases, like coding.Today, we’re releasing an experimental version of Gemini 2.0 Pro that responds to that feedback. It has the strongest coding performance and ability to handle complex prompts, with better understanding and reasoning of world knowledge, than any model we’ve released so far. It comes with our largest context window at 2 million tokens, which enables it to comprehensively analyze and understand vast amounts of information, as well as the ability to call tools like Google Search and code execution.\n",
      "\n",
      "\n",
      "\n",
      "\n",
      "\n",
      "\n",
      "\n",
      "\n",
      "\n",
      "Gemini 2.0 Pro is available now as an experimental model to developers in Google AI Studio and Vertex AI and to Gemini Advanced users in the model drop-down on desktop and mobile.2.0 Flash-Lite: our most cost-efficient model yetWe’ve gotten a lot of positive feedback on the price and speed of 1.5 Flash. We wanted to keep improving quality, while still maintaining cost and speed. So today, we’re introducing 2.0 Flash-Lite, a new model that has better quality than 1.5 Flash, at the same speed and cost. It outperforms 1.5 Flash on the majority of benchmarks.Like 2.0 Flash, it has a 1 million token context window and multimodal input. For example, it can generate a relevant one-line caption for around 40,000 unique photos, costing less than a dollar in Google AI Studio’s paid tier.Gemini 2.0 Flash-Lite is available in Google AI Studio and Vertex AI in public preview.Our responsibility and safety workAs the Gemini model family becomes more capable, we’ll continue to invest in robust measures that enable safe and secure use. For example, our Gemini 2.0 lineup was built with new reinforcement learning techniques that use Gemini itself to critique its responses. This resulted in more accurate and targeted feedback and improved the model's ability to handle sensitive prompts, in turn.We’re also leveraging automated red teaming to assess safety and security risks, including those posed by risks from indirect prompt injection, a type of cybersecurity attack which involves attackers hiding malicious instructions in data that is likely to be retrieved by an AI system.\n",
      "\n",
      "\n",
      "\n",
      "\n",
      "POSTED IN:\n",
      "\n",
      "\n",
      "\n",
      "\n",
      "\n",
      "\n",
      "\n",
      "Google DeepMind\n",
      "\n",
      "\n",
      "  \n",
      "\n",
      "\n",
      "\n",
      "\n",
      "\n",
      "Gemini Models\n",
      "\n",
      "\n",
      "  \n",
      "\n",
      "\n",
      "\n",
      "\n",
      "\n",
      "\n",
      "\n",
      "\n",
      "\n",
      "\n",
      "\n",
      "\n",
      "\n",
      "\n",
      "            Related stories\n",
      "          \n",
      "\n",
      "\n",
      "\n",
      "\n",
      "\n",
      "\n",
      "\n",
      "\n",
      "\n",
      "\n",
      "\n",
      "\n",
      "\n",
      "\n",
      "\n",
      "\n",
      "\n",
      "Health\n",
      "How Gemini is improving care in Japanese hospitals\n",
      "\n",
      "\n",
      "\n",
      "                  By\n",
      "                  \n",
      "                    \n",
      "                    \n",
      "                    Dr. Shohei Harase\n",
      "                    \n",
      "\n",
      " Mar 18, 2025\n",
      "\n",
      "\n",
      "\n",
      "\n",
      "\n",
      "\n",
      "\n",
      "\n",
      "\n",
      "\n",
      "\n",
      "\n",
      "\n",
      "\n",
      "\n",
      "\n",
      "\n",
      "\n",
      "Gemini App\n",
      "New Gemini app features, available to try at no cost\n",
      "\n",
      "\n",
      "\n",
      "                  By\n",
      "                  \n",
      "                    \n",
      "                    \n",
      "                    Dave Citron\n",
      "                    \n",
      "\n",
      " Mar 13, 2025\n",
      "\n",
      "\n",
      "\n",
      "\n",
      "\n",
      "\n",
      "\n",
      "\n",
      "\n",
      "\n",
      "\n",
      "\n",
      "\n",
      "\n",
      "\n",
      "\n",
      "\n",
      "\n",
      "Developers\n",
      "Introducing Gemma 3: The most capable model you can run on a single GPU or TPU\n",
      "\n",
      "\n",
      "\n",
      "                  By\n",
      "                  \n",
      "                    \n",
      "                    \n",
      "                    Clement Farabet\n",
      "                    \n",
      "                  \n",
      "                    \n",
      "                    &\n",
      "                    \n",
      "                    \n",
      "                    Tris Warkentin\n",
      "                    \n",
      "\n",
      " Mar 12, 2025\n",
      "\n",
      "\n",
      "\n",
      "\n",
      "\n",
      "\n",
      "\n",
      "\n",
      "\n",
      "\n",
      "\n",
      "\n",
      "\n",
      "\n",
      "\n",
      "\n",
      "\n",
      "\n",
      "AI\n",
      "The latest AI news we announced in February\n",
      "\n",
      "\n",
      "\n",
      "                  By\n",
      "                  \n",
      "                    \n",
      "                    \n",
      "                    Keyword Team\n",
      "                    \n",
      "\n",
      " Mar 03, 2025\n",
      "\n",
      "\n",
      "\n",
      "\n",
      "\n",
      "\n",
      "\n",
      "\n",
      "\n",
      "\n",
      "\n",
      "\n",
      "\n",
      "\n",
      "\n",
      "\n",
      "\n",
      "\n",
      "Developers\n",
      "How Gemini added a new dimension to our I/O 2025 save the date puzzle\n",
      "\n",
      "\n",
      "\n",
      "                  By\n",
      "                  \n",
      "                    \n",
      "                    \n",
      "                    Ari Marini\n",
      "                    \n",
      "\n",
      " Feb 12, 2025\n",
      "\n",
      "\n",
      "\n",
      "\n",
      "\n",
      "\n",
      "\n",
      "\n",
      "\n",
      "\n",
      "\n",
      "\n",
      "\n",
      "\n",
      "\n",
      "\n",
      "\n",
      "\n",
      "AI\n",
      "The latest AI news we announced in January\n",
      "\n",
      "\n",
      "\n",
      "                  By\n",
      "                  \n",
      "                    \n",
      "                    \n",
      "                    Keyword Team\n",
      "                    \n",
      "\n",
      " Feb 05, 2025\n",
      "\n",
      "\n",
      "\n",
      "\n",
      "\n",
      "\n",
      ".\n",
      "\n",
      "\n",
      "\n",
      "\n",
      "\n",
      "\n",
      "\n",
      "\n",
      "\n",
      "\n",
      "\n",
      "\n",
      "\n",
      "\n",
      "\n",
      "\n",
      "\n",
      "\n",
      "\n",
      "\n",
      "\n",
      "\n",
      "\n",
      "\n",
      "\n",
      "\n",
      "\n",
      "\n",
      "\n",
      "\n",
      "\n",
      "\n",
      "\n",
      "\n",
      "\n",
      "\n",
      "Let’s stay in touch. Get the latest news from Google in your inbox.\n",
      "\n",
      "\n",
      "Subscribe\n",
      "No thanks\n",
      "\n",
      "\n",
      "\n",
      "\n",
      "\n",
      "\n",
      "\n",
      "\n",
      "\n",
      "              Follow Us\n",
      "            \n",
      "\n",
      "\n",
      "\n",
      "\n",
      "\n",
      "\n",
      "\n",
      "\n",
      "\n",
      "\n",
      "\n",
      "\n",
      "\n",
      "\n",
      "\n",
      "\n",
      "\n",
      "\n",
      "\n",
      "\n",
      "\n",
      "\n",
      "\n",
      "\n",
      "\n",
      "\n",
      "\n",
      "\n",
      "\n",
      "\n",
      "\n",
      "\n",
      "\n",
      "\n",
      "\n",
      "\n",
      "\n",
      "\n",
      "\n",
      "\n",
      "\n",
      "\n",
      "\n",
      "\n",
      "\n",
      "\n",
      "\n",
      "\n",
      "\n",
      "\n",
      "Privacy\n",
      "            \n",
      "\n",
      "\n",
      "Terms\n",
      "            \n",
      "\n",
      "\n",
      "About Google\n",
      "            \n",
      "\n",
      "\n",
      "Google Products\n",
      "            \n",
      "\n",
      "\n",
      "About the Keyword\n",
      "              \n",
      "\n",
      "\n",
      "\n",
      "\n",
      "\n",
      "\n",
      "\n",
      "\n",
      "\n",
      "              Help\n",
      "            \n",
      "\n",
      "\n",
      "\n",
      "\n",
      "\n",
      "        Bahasa Indonesia (Indonesia)\n",
      "      \n",
      "\n",
      "        Deutsch\n",
      "      \n",
      "\n",
      "        English\n",
      "      \n",
      "\n",
      "        English (Africa)\n",
      "      \n",
      "\n",
      "        English (Australia)\n",
      "      \n",
      "\n",
      "        English (Canada)\n",
      "      \n",
      "\n",
      "        English (India)\n",
      "      \n",
      "\n",
      "        English (MENA)\n",
      "      \n",
      "\n",
      "        Español (España)\n",
      "      \n",
      "\n",
      "        Español (Latinoamérica)\n",
      "      \n",
      "\n",
      "        Français (Canada)\n",
      "      \n",
      "\n",
      "        Français (France)\n",
      "      \n",
      "\n",
      "        Italiano\n",
      "      \n",
      "\n",
      "        Nederlands (Nederland)\n",
      "      \n",
      "\n",
      "        Polski\n",
      "      \n",
      "\n",
      "        Português (Brasil)\n",
      "      \n",
      "\n",
      "        Türkçe (Türkiye)\n",
      "      \n",
      "\n",
      "        Česko (Čeština)\n",
      "      \n",
      "\n",
      "        اللغة العربية (MENA)\n",
      "      \n",
      "\n",
      "        中文 (台灣)\n",
      "      \n",
      "\n",
      "        日本語 (日本)\n",
      "      \n",
      "\n",
      "        한국어\n",
      "      \n",
      "\n",
      "\n",
      "\n",
      "\n",
      "\n",
      "\n",
      "\n",
      "\n",
      "\n",
      "\n",
      "\n",
      "\n",
      "\n",
      "\n",
      "\n"
     ]
    }
   ],
   "source": [
    "formatted_prompt = prompt.format(\n",
    "    user_query=query,\n",
    "    retrieved_document_name=documents[best_idx][\"metadata\"][\"source\"],\n",
    "    retrieved_text=documents[best_idx][\"page_content\"]\n",
    ") \n",
    "print(formatted_prompt)"
   ]
  },
  {
   "cell_type": "code",
   "execution_count": 114,
   "metadata": {},
   "outputs": [
    {
     "name": "stdout",
     "output_type": "stream",
     "text": [
      "As of February 5, 2025, updates for the Gemini 2.0 model include:\n",
      "\n",
      "1. **Gemini 2.0 Flash**: Now generally available, optimized for developers with low latency and enhanced performance.\n",
      "2. **Gemini 2.0 Pro**: An experimental version released, offering the best coding performance and complex prompt handling, with a 2 million token context window.\n",
      "3. **Gemini 2.0 Flash-Lite**: A cost-efficient model introduced in public preview, better in quality than the previous 1.5 Flash model.\n",
      "4. **Flash Thinking Experimental**: Available to users for enhanced reasoning capabilities.\n",
      "\n",
      "All models support multimodal input and text output, with continuous improvements anticipated.\n"
     ]
    }
   ],
   "source": [
    "response = get_chat_response(llm, formatted_prompt)\n",
    "print(response)"
   ]
  },
  {
   "cell_type": "code",
   "execution_count": 115,
   "metadata": {},
   "outputs": [
    {
     "data": {
      "text/plain": [
       "'What are the Gemini 2.0 model updates as of Feb 05, 2025? Answer shortly'"
      ]
     },
     "execution_count": 115,
     "metadata": {},
     "output_type": "execute_result"
    }
   ],
   "source": [
    "query"
   ]
  },
  {
   "cell_type": "code",
   "execution_count": 116,
   "metadata": {},
   "outputs": [
    {
     "name": "stdout",
     "output_type": "stream",
     "text": [
      "I'm sorry, but I don't have access to information beyond October 2023, and I can't provide updates on the Gemini 2.0 model or any other developments after that date. Please check the latest sources or the official announcements for current information.\n"
     ]
    }
   ],
   "source": [
    "response = get_chat_response(llm, query)\n",
    "print(response)"
   ]
  },
  {
   "cell_type": "markdown",
   "metadata": {},
   "source": [
    "## Further readings for \"classical\" document similarity"
   ]
  },
  {
   "cell_type": "markdown",
   "metadata": {},
   "source": [
    "Retrieval to study yourself: \n",
    "1. BM-25: step further from TF-IDF\n",
    "2. Python extension for Apache Lucene: https://lucene.apache.org/pylucene/"
   ]
  },
  {
   "cell_type": "markdown",
   "metadata": {},
   "source": [
    "# Embeddings and semantic search"
   ]
  },
  {
   "cell_type": "markdown",
   "metadata": {},
   "source": [
    "## Embeddings\n",
    "\n",
    "What are embeddings: https://jalammar.github.io/illustrated-word2vec/"
   ]
  },
  {
   "cell_type": "markdown",
   "metadata": {},
   "source": [
    "https://huggingface.co/spaces/mteb/leaderboard  "
   ]
  },
  {
   "cell_type": "code",
   "execution_count": 160,
   "metadata": {},
   "outputs": [],
   "source": [
    "from sentence_transformers import SentenceTransformer\n",
    "\n",
    "embedding_model = SentenceTransformer('nomic-ai/modernbert-embed-base')"
   ]
  },
  {
   "cell_type": "code",
   "execution_count": 121,
   "metadata": {},
   "outputs": [
    {
     "data": {
      "text/plain": [
       "8192"
      ]
     },
     "execution_count": 121,
     "metadata": {},
     "output_type": "execute_result"
    }
   ],
   "source": [
    "embedding_model.max_seq_length"
   ]
  },
  {
   "cell_type": "code",
   "execution_count": 128,
   "metadata": {},
   "outputs": [
    {
     "data": {
      "text/plain": [
       "array([[0.9523933]], dtype=float32)"
      ]
     },
     "execution_count": 128,
     "metadata": {},
     "output_type": "execute_result"
    }
   ],
   "source": [
    "arr1 = embedding_model.encode(\"Hi my name is Oleg\")\n",
    "arr2 = embedding_model.encode(\"Hello. I'm Oleg\")\n",
    "cosine_similarity(arr1.reshape(1, -1), arr2.reshape(1, -1))"
   ]
  },
  {
   "cell_type": "code",
   "execution_count": 125,
   "metadata": {},
   "outputs": [
    {
     "data": {
      "text/plain": [
       "array([[0.745931]], dtype=float32)"
      ]
     },
     "execution_count": 125,
     "metadata": {},
     "output_type": "execute_result"
    }
   ],
   "source": [
    "emb1 = embedding_model.encode(\"Cat\")\n",
    "emb2 = embedding_model.encode(\"Dog\")\n",
    "cosine_similarity(emb1.reshape(1, -1), emb2.reshape(1, -1))"
   ]
  },
  {
   "cell_type": "code",
   "execution_count": 126,
   "metadata": {},
   "outputs": [
    {
     "data": {
      "text/plain": [
       "array([[0.66212404]], dtype=float32)"
      ]
     },
     "execution_count": 126,
     "metadata": {},
     "output_type": "execute_result"
    }
   ],
   "source": [
    "emb1 = embedding_model.encode(\"Cat\")\n",
    "emb2 = embedding_model.encode(\"Giraffe\")\n",
    "cosine_similarity(emb1.reshape(1, -1), emb2.reshape(1, -1))"
   ]
  },
  {
   "cell_type": "code",
   "execution_count": 127,
   "metadata": {},
   "outputs": [
    {
     "data": {
      "text/plain": [
       "array([[0.8344326]], dtype=float32)"
      ]
     },
     "execution_count": 127,
     "metadata": {},
     "output_type": "execute_result"
    }
   ],
   "source": [
    "emb1 = embedding_model.encode(\"Cat\")\n",
    "emb2 = embedding_model.encode(\"Kitten\")\n",
    "cosine_similarity(emb1.reshape(1, -1), emb2.reshape(1, -1))"
   ]
  },
  {
   "cell_type": "code",
   "execution_count": 129,
   "metadata": {},
   "outputs": [
    {
     "data": {
      "text/plain": [
       "['documents/Gemini 2.0 model updates_ 2.0 Flash, Flash-Lite, Pro Experimental.html',\n",
       " 'documents/AGENTIC RETRIEVAL-AUGMENTED GENERATION: A SURVEY ON AGENTIC RAG.pdf',\n",
       " 'documents/Tackling the ML Reproducibility Curse with the Kedro-MLflow Plugin description.txt',\n",
       " 'documents/New tools for building agents _ OpenAI.html',\n",
       " 'documents/Understanding the planning of LLM agents: A survey.pdf',\n",
       " 'documents/Introducing GPT-4.5 _ OpenAI.html',\n",
       " 'documents/OpenAI o3-mini _ OpenAI.html',\n",
       " 'documents/RAG, AI Agents, and Agentic RAG_ An In-Depth Review and Comparative Analysis _ DigitalOcean.html',\n",
       " 'documents/Building Effective AI Agents _ Anthropic _ Anthropic.html']"
      ]
     },
     "execution_count": 129,
     "metadata": {},
     "output_type": "execute_result"
    }
   ],
   "source": [
    "[d[\"metadata\"][\"source\"] for d in documents]"
   ]
  },
  {
   "cell_type": "code",
   "execution_count": 130,
   "metadata": {},
   "outputs": [],
   "source": [
    "agentic_paper_emb = embedding_model.encode(documents[1][\"page_content\"])\n",
    "youtube_script_emb = embedding_model.encode(documents[2][\"page_content\"])\n",
    "gpt_intro_emb = embedding_model.encode(documents[5][\"page_content\"])"
   ]
  },
  {
   "cell_type": "code",
   "execution_count": 131,
   "metadata": {},
   "outputs": [
    {
     "data": {
      "text/plain": [
       "array([[0.5436528]], dtype=float32)"
      ]
     },
     "execution_count": 131,
     "metadata": {},
     "output_type": "execute_result"
    }
   ],
   "source": [
    "cosine_similarity(agentic_paper_emb.reshape(1, -1), youtube_script_emb.reshape(1, -1))"
   ]
  },
  {
   "cell_type": "code",
   "execution_count": 132,
   "metadata": {},
   "outputs": [
    {
     "data": {
      "text/plain": [
       "array([[0.7392241]], dtype=float32)"
      ]
     },
     "execution_count": 132,
     "metadata": {},
     "output_type": "execute_result"
    }
   ],
   "source": [
    "cosine_similarity(agentic_paper_emb.reshape(1, -1), gpt_intro_emb.reshape(1, -1))"
   ]
  },
  {
   "cell_type": "code",
   "execution_count": 133,
   "metadata": {},
   "outputs": [
    {
     "data": {
      "text/plain": [
       "(768,)"
      ]
     },
     "execution_count": 133,
     "metadata": {},
     "output_type": "execute_result"
    }
   ],
   "source": [
    "agentic_paper_emb.shape"
   ]
  },
  {
   "cell_type": "markdown",
   "metadata": {},
   "source": [
    "## Visualisation with PCA"
   ]
  },
  {
   "cell_type": "code",
   "execution_count": 134,
   "metadata": {},
   "outputs": [],
   "source": [
    "doc_embeddings = [embedding_model.encode(d[\"page_content\"]) for d in documents]"
   ]
  },
  {
   "cell_type": "code",
   "execution_count": 137,
   "metadata": {},
   "outputs": [
    {
     "data": {
      "text/plain": [
       "(9, 768)"
      ]
     },
     "execution_count": 137,
     "metadata": {},
     "output_type": "execute_result"
    }
   ],
   "source": [
    "len(doc_embeddings), len(doc_embeddings[0])"
   ]
  },
  {
   "cell_type": "code",
   "execution_count": 135,
   "metadata": {},
   "outputs": [
    {
     "data": {
      "image/png": "[encoded data removed]",
      "text/plain": [
       "<Figure size 1000x700 with 1 Axes>"
      ]
     },
     "metadata": {},
     "output_type": "display_data"
    }
   ],
   "source": [
    "# https://en.wikipedia.org/wiki/Dimensionality_reduction\n",
    "from sklearn.decomposition import PCA\n",
    "\n",
    "# Assume `documents` is a list of dicts each with an \"embedding\" key and metadata \"source\"\n",
    "embeddings = np.array(doc_embeddings)\n",
    "titles = [doc[\"metadata\"][\"source\"].split('documents/')[-1][:100] for doc in documents]\n",
    "\n",
    "# Reduce dimensionality to 2D using PCA\n",
    "pca = PCA(n_components=2)\n",
    "reduced_embeddings = pca.fit_transform(embeddings)\n",
    "\n",
    "# Create the figure and axis with an adjusted size\n",
    "fig, ax = plt.subplots(figsize=(10, 7))\n",
    "\n",
    "# Create a scatter plot with enhanced markers\n",
    "scatter = ax.scatter(reduced_embeddings[:, 0],\n",
    "                     reduced_embeddings[:, 1],\n",
    "                     s=100,             # marker size\n",
    "                     c='blue',       # marker color\n",
    "                     edgecolor='black', # marker border color\n",
    "                     alpha=0.8)\n",
    "\n",
    "# Annotate each point with its title, adding a semi-transparent box for clarity\n",
    "for i, title in enumerate(titles):\n",
    "    ax.annotate(title, (reduced_embeddings[i, 0], reduced_embeddings[i, 1]),\n",
    "                textcoords=\"offset points\",\n",
    "                xytext=(5, 5),\n",
    "                ha='left',\n",
    "                fontsize=9,\n",
    "                fontweight='medium',\n",
    "                color='darkslategray',\n",
    "                bbox=dict(boxstyle='round,pad=0.2', fc='white', ec='gray', alpha=0.5))\n",
    "\n",
    "# Set axis labels and title with a bit more styling\n",
    "ax.set_xlabel(\"Principal Component 1\", fontsize=12)\n",
    "ax.set_ylabel(\"Principal Component 2\", fontsize=12)\n",
    "ax.set_title(\"2D PCA Visualization of Document Embeddings\", fontsize=14, fontweight='bold')\n",
    "\n",
    "plt.tight_layout()\n",
    "plt.show()"
   ]
  },
  {
   "cell_type": "markdown",
   "metadata": {},
   "source": [
    "## Semantic search"
   ]
  },
  {
   "cell_type": "code",
   "execution_count": 138,
   "metadata": {},
   "outputs": [],
   "source": [
    "def find_nearest_document_using_embeddings(query, embedder, doc_vectors):\n",
    "    query_vector = embedder.encode([query])\n",
    "    # Compute cosine similarity between the query and all document vectors\n",
    "    similarities = cosine_similarity(query_vector, doc_vectors)\n",
    "    best_idx = similarities.argmax()\n",
    "    best_sim = similarities[0, best_idx]\n",
    "    return best_idx, best_sim"
   ]
  },
  {
   "cell_type": "markdown",
   "metadata": {},
   "source": [
    "### GPT-4.5 example"
   ]
  },
  {
   "cell_type": "code",
   "execution_count": 139,
   "metadata": {},
   "outputs": [],
   "source": [
    "best_idx, best_sim = find_nearest_document_using_embeddings(\"What are the new features presented in GPT-4.5?\", embedder=embedding_model, doc_vectors=doc_embeddings)"
   ]
  },
  {
   "cell_type": "code",
   "execution_count": 140,
   "metadata": {},
   "outputs": [
    {
     "name": "stdout",
     "output_type": "stream",
     "text": [
      "Best matching document index: 5\n",
      "Similarity score: 0.6767011\n"
     ]
    }
   ],
   "source": [
    "print(\"Best matching document index:\", best_idx)\n",
    "print(\"Similarity score:\", best_sim)"
   ]
  },
  {
   "cell_type": "code",
   "execution_count": 141,
   "metadata": {},
   "outputs": [
    {
     "data": {
      "text/plain": [
       "{'source': 'documents/Introducing GPT-4.5 _ OpenAI.html'}"
      ]
     },
     "execution_count": 141,
     "metadata": {},
     "output_type": "execute_result"
    }
   ],
   "source": [
    "documents[best_idx][\"metadata\"]"
   ]
  },
  {
   "cell_type": "markdown",
   "metadata": {},
   "source": [
    "### Building AI agents from Anthropic example"
   ]
  },
  {
   "cell_type": "code",
   "execution_count": 142,
   "metadata": {},
   "outputs": [
    {
     "name": "stdout",
     "output_type": "stream",
     "text": [
      "Best matching document index: 8\n",
      "Similarity score: 0.70854026\n"
     ]
    }
   ],
   "source": [
    "best_idx, best_sim = find_nearest_document_using_embeddings(\"Recommendations about how to create AI agents\", embedder=embedding_model, doc_vectors=doc_embeddings)\n",
    "print(\"Best matching document index:\", best_idx)\n",
    "print(\"Similarity score:\", best_sim)"
   ]
  },
  {
   "cell_type": "code",
   "execution_count": 143,
   "metadata": {},
   "outputs": [
    {
     "data": {
      "text/plain": [
       "{'source': 'documents/Building Effective AI Agents _ Anthropic _ Anthropic.html'}"
      ]
     },
     "execution_count": 143,
     "metadata": {},
     "output_type": "execute_result"
    }
   ],
   "source": [
    "documents[best_idx][\"metadata\"]"
   ]
  },
  {
   "cell_type": "markdown",
   "metadata": {},
   "source": [
    "works well but as you may have noticed, this scales linearly with the amount of documents in the collection as we compare the query in a brute-force way against every document we have. we'll cover that in the next section"
   ]
  },
  {
   "cell_type": "markdown",
   "metadata": {},
   "source": [
    "# Vector databases\n",
    "\n",
    "Vector databases (VDB) are created for optimized storage of embeddings and search over them. The main feature of VDBs is optimized search which we'll cover briefly "
   ]
  },
  {
   "cell_type": "code",
   "execution_count": 163,
   "metadata": {},
   "outputs": [],
   "source": [
    "from langchain_huggingface import HuggingFaceEmbeddings\n",
    "\n",
    "# the same model as we used but with a different interface\n",
    "embedding_model = HuggingFaceEmbeddings(model_name=\"nomic-ai/modernbert-embed-base\",\n",
    "                                        model_kwargs={\"device\": \"cpu\"},\n",
    "                                        encode_kwargs={\"batch_size\": 1})"
   ]
  },
  {
   "cell_type": "code",
   "execution_count": 146,
   "metadata": {},
   "outputs": [
    {
     "data": {
      "text/plain": [
       "{'source': 'documents/Gemini 2.0 model updates_ 2.0 Flash, Flash-Lite, Pro Experimental.html'}"
      ]
     },
     "execution_count": 146,
     "metadata": {},
     "output_type": "execute_result"
    }
   ],
   "source": [
    "documents[0]['metadata']"
   ]
  },
  {
   "cell_type": "code",
   "execution_count": 147,
   "metadata": {},
   "outputs": [],
   "source": [
    "from uuid import uuid4\n",
    "from langchain_core.documents import Document\n",
    "\n",
    "langchain_documents = [Document(\n",
    "    page_content=d[\"page_content\"],\n",
    "    metadata=d[\"metadata\"],\n",
    ") for d in documents\n",
    "]\n",
    "uuids = [str(uuid4()) for _ in range(len(langchain_documents))]"
   ]
  },
  {
   "cell_type": "markdown",
   "metadata": {},
   "source": [
    "## In memory"
   ]
  },
  {
   "cell_type": "code",
   "execution_count": 148,
   "metadata": {},
   "outputs": [],
   "source": [
    "from langchain_core.vectorstores import InMemoryVectorStore\n",
    "\n",
    "vector_store = InMemoryVectorStore(embedding_model)"
   ]
  },
  {
   "cell_type": "code",
   "execution_count": 149,
   "metadata": {},
   "outputs": [
    {
     "data": {
      "text/plain": [
       "['1568d07e-9c14-4474-9319-7f06b048fa47',\n",
       " '253d23c6-0b1f-4342-98e1-4ab68b777861',\n",
       " '115eb7db-3a45-4c1b-94de-5a7b34a1a335',\n",
       " '24d5b82a-56fa-41ed-b3c6-d35a5b31a7f9',\n",
       " '31da13aa-52e4-4861-951e-47bce27b272b',\n",
       " 'da86015b-b455-4ead-9d22-43edad109fe5',\n",
       " '185e6b3c-900c-47f8-a0e0-8773e14fb218',\n",
       " '6c809dc2-153c-4173-9a6c-9533cc0c03eb',\n",
       " '38df7185-b0ac-4ba2-b057-1df7fd0038f4']"
      ]
     },
     "execution_count": 149,
     "metadata": {},
     "output_type": "execute_result"
    }
   ],
   "source": [
    "vector_store.add_documents(documents=langchain_documents, ids=uuids)"
   ]
  },
  {
   "cell_type": "markdown",
   "metadata": {},
   "source": [
    "### Exemplar queries"
   ]
  },
  {
   "cell_type": "code",
   "execution_count": 157,
   "metadata": {},
   "outputs": [
    {
     "name": "stdout",
     "output_type": "stream",
     "text": [
      "{'source': 'documents/Introducing GPT-4.5 _ OpenAI.html'}\n",
      "Introducing GPT-4.5 | OpenAISkip to main contentLog inSwitch toChatGPT(opens in a new window)Sora(opens in a new window)API Platform(opens in a new window)HomeResearch IndexResearch OverviewResearch ResidencyLatest AdvancementsGPT-4.5OpenAI o3-miniOpenAI o1OpenAI o1-miniGPT-4oGPT-4o miniSoraResearchBack to main menuResearch IndexResearch OverviewResearch ResidencyLatest AdvancementsGPT-4.5OpenAI o3-miniOpenAI o1OpenAI o1-miniGPT-4oGPT-4o miniSoraSafetyBack to main menuSafety ApproachSecurity & PrivacyChatGPTBack to main menuExplore ChatGPTTeamEnterpriseEducationPricingDownloadSoraBack to main menuSora OverviewFeaturesPricingHelp center(opens in a new window)Sora log in(opens in a new window)API PlatformBack to main menuPlatform OverviewPricingAPI Log in(opens in a new window)Documentation(opens in a new window)Developer Forum(opens in a new window)For BusinessStoriesCompanyBack to main menuAbout usOur CharterCareersBrandOverviewLogosGalleryPartnershipsTypographyLanguageContactNewsLog i\n",
      "\n"
     ]
    }
   ],
   "source": [
    "# uses cosine similarity under the hood\n",
    "results = vector_store.similarity_search(query=\"What are the new features presented in GPT-4.5?\", k=1)\n",
    "for doc in results:\n",
    "    print(f\"{doc.metadata}\\n{doc.page_content[:1000]}\\n\")"
   ]
  },
  {
   "cell_type": "code",
   "execution_count": 158,
   "metadata": {},
   "outputs": [
    {
     "name": "stdout",
     "output_type": "stream",
     "text": [
      "{'source': 'documents/Introducing GPT-4.5 _ OpenAI.html'} with score 0.68\n",
      "Introducing GPT-4.5 | OpenAISkip to main contentLog inSwitch toChatGPT(opens in a new window)Sora(opens in a new window)API Platform(opens in a new window)HomeResearch IndexResearch OverviewResearch ResidencyLatest AdvancementsGPT-4.5OpenAI o3-miniOpenAI o1OpenAI o1-miniGPT-4oGPT-4o miniSoraResearchBack to main menuResearch IndexResearch OverviewResearch ResidencyLatest AdvancementsGPT-4.5OpenAI o3-miniOpenAI o1OpenAI o1-miniGPT-4oGPT-4o miniSoraSafetyBack to main menuSafety ApproachSecurity & PrivacyChatGPTBack to main menuExplore ChatGPTTeamEnterpriseEducationPricingDownloadSoraBack to main menuSora OverviewFeaturesPricingHelp center(opens in a new window)Sora log in(opens in a new window)API PlatformBack to main menuPlatform OverviewPricingAPI Log in(opens in a new window)Documentation(opens in a new window)Developer Forum(opens in a new window)For BusinessStoriesCompanyBack to main menuAbout usOur CharterCareersBrandOverviewLogosGalleryPartnershipsTypographyLanguageContactNewsLog i\n",
      "\n"
     ]
    }
   ],
   "source": [
    "results = vector_store.similarity_search_with_score(query=\"What are the new features presented in GPT-4.5?\", k=1)\n",
    "for doc, score in results:\n",
    "    print(f\"{doc.metadata} with score {score:.2f}\\n{doc.page_content[:1000]}\\n\")"
   ]
  },
  {
   "cell_type": "code",
   "execution_count": 162,
   "metadata": {},
   "outputs": [
    {
     "name": "stdout",
     "output_type": "stream",
     "text": [
      "{'source': 'documents/OpenAI o3-mini _ OpenAI.html'} with score 0.63\n",
      "OpenAI o3-mini | OpenAISkip to main contentLog inSwitch toChatGPT(opens in a new window)Sora(opens in a new window)API Platform(opens in a new window)HomeResearch IndexResearch OverviewResearch Reside\n",
      "\n",
      "{'source': 'documents/New tools for building agents _ OpenAI.html'} with score 0.60\n",
      "New tools for building agents | OpenAISkip to main contentLog inSwitch toChatGPT(opens in a new window)Sora(opens in a new window)API Platform(opens in a new window)ResearchSafetyChatGPTSoraAPI Platfo\n",
      "\n"
     ]
    }
   ],
   "source": [
    "results = vector_store.similarity_search_with_score(query=\"OpenAI new model?\", k=2)\n",
    "for doc, score in results:\n",
    "    print(f\"{doc.metadata} with score {score:.2f}\\n{doc.page_content[:200]}\\n\")"
   ]
  },
  {
   "cell_type": "markdown",
   "metadata": {},
   "source": [
    "## FAISS\n",
    "\n",
    "Optimized C++ Backend"
   ]
  },
  {
   "cell_type": "code",
   "execution_count": 165,
   "metadata": {},
   "outputs": [
    {
     "data": {
      "text/plain": [
       "['1568d07e-9c14-4474-9319-7f06b048fa47',\n",
       " '253d23c6-0b1f-4342-98e1-4ab68b777861',\n",
       " '115eb7db-3a45-4c1b-94de-5a7b34a1a335',\n",
       " '24d5b82a-56fa-41ed-b3c6-d35a5b31a7f9',\n",
       " '31da13aa-52e4-4861-951e-47bce27b272b',\n",
       " 'da86015b-b455-4ead-9d22-43edad109fe5',\n",
       " '185e6b3c-900c-47f8-a0e0-8773e14fb218',\n",
       " '6c809dc2-153c-4173-9a6c-9533cc0c03eb',\n",
       " '38df7185-b0ac-4ba2-b057-1df7fd0038f4']"
      ]
     },
     "execution_count": 165,
     "metadata": {},
     "output_type": "execute_result"
    }
   ],
   "source": [
    "from langchain_community.vectorstores import FAISS\n",
    "import faiss\n",
    "from langchain_community.docstore.in_memory import InMemoryDocstore\n",
    "\n",
    "index = faiss.IndexFlatL2(len(embedding_model.embed_query(\"get embedding dim\")))\n",
    "\n",
    "vector_store = FAISS(\n",
    "    embedding_function=embedding_model,\n",
    "    index=index,\n",
    "    docstore=InMemoryDocstore(),\n",
    "    index_to_docstore_id={},\n",
    ")\n",
    "vector_store.add_documents(documents=langchain_documents, ids=uuids)"
   ]
  },
  {
   "cell_type": "code",
   "execution_count": 166,
   "metadata": {},
   "outputs": [
    {
     "name": "stdout",
     "output_type": "stream",
     "text": [
      "{'source': 'documents/OpenAI o3-mini _ OpenAI.html'} with score 0.75\n",
      "OpenAI o3-mini | OpenAISkip to main contentLog inSwitch toChatGPT(opens in a new window)Sora(opens in a new window)API Platform(opens in a new window)HomeResearch IndexResearch OverviewResearch Reside\n",
      "\n",
      "{'source': 'documents/New tools for building agents _ OpenAI.html'} with score 0.79\n",
      "New tools for building agents | OpenAISkip to main contentLog inSwitch toChatGPT(opens in a new window)Sora(opens in a new window)API Platform(opens in a new window)ResearchSafetyChatGPTSoraAPI Platfo\n",
      "\n"
     ]
    }
   ],
   "source": [
    "results = vector_store.similarity_search_with_score(query=\"OpenAI new model?\", k=2)\n",
    "for doc, score in results:\n",
    "    print(f\"{doc.metadata} with score {score:.2f}\\n{doc.page_content[:200]}\\n\")"
   ]
  },
  {
   "cell_type": "markdown",
   "metadata": {},
   "source": [
    "Brute-force search scales linearly with the number of vectors (N) and the vector dimensionality (d), making it infeasible for large datasets.\n",
    "\n",
    "More about nearest neighbour search: https://en.wikipedia.org/wiki/Nearest_neighbor_search"
   ]
  },
  {
   "cell_type": "markdown",
   "metadata": {},
   "source": [
    "Recommended to study about approximate nearest neighbours search: \n",
    "* https://github.com/facebookresearch/faiss/wiki/Faiss-indexes\n",
    "* https://medium.com/data-science/comprehensive-guide-to-approximate-nearest-neighbors-algorithms-8b94f057d6b6"
   ]
  },
  {
   "cell_type": "markdown",
   "metadata": {},
   "source": [
    "# Semantic RAG"
   ]
  },
  {
   "cell_type": "code",
   "execution_count": 167,
   "metadata": {},
   "outputs": [],
   "source": [
    "prompt = \"\"\"\n",
    "You are an intelligent assistant that can help me find information in my documents.\n",
    "This is the query from the user:\n",
    "{user_query}\n",
    "\n",
    "Below is the list of document names and their contents retrieved by the vector search:\n",
    "{document_list_as_a_string}\n",
    "\"\"\""
   ]
  },
  {
   "cell_type": "code",
   "execution_count": 168,
   "metadata": {},
   "outputs": [],
   "source": [
    "def semantic_rag_chain(query, prompt, llm, k=1):\n",
    "    results = vector_store.similarity_search(query=query, k=k)\n",
    "    print(f\"Retrieved documents: {[r.metadata['source'] for r in results]}\")\n",
    "    document_list_as_a_string = \"\\n\\n\\n\".join([f\"Document source: {doc.metadata['source']}\\nDocument content: {doc.page_content}\" for doc in results])\n",
    "    formatted_prompt = prompt.format(user_query=query, document_list_as_a_string=document_list_as_a_string)\n",
    "    response = get_chat_response(llm, formatted_prompt)\n",
    "    return response"
   ]
  },
  {
   "cell_type": "code",
   "execution_count": 169,
   "metadata": {},
   "outputs": [
    {
     "name": "stdout",
     "output_type": "stream",
     "text": [
      "Retrieved documents: ['documents/Introducing GPT-4.5 _ OpenAI.html']\n",
      "The new features in GPT-4.5 include:\n",
      "\n",
      "1. **Improved Natural Interaction**: Interactions feel more natural with better understanding of user intent and emotional intelligence (EQ).\n",
      "2. **Broader Knowledge Base**: Enhanced accuracy and reliability due to scaling unsupervised learning.\n",
      "3. **Reduced Hallucinations**: Lower incidence of generating incorrect or fabricated information.\n",
      "4. **Enhanced Creativity and Aesthetic Intuition**: Stronger abilities in writing, design, and problem-solving.\n",
      "5. **Training for Human Collaboration**: Improved steerability and nuance recognition for natural conversations.\n",
      "\n",
      "Overall, GPT-4.5 represents significant advancements in AI capabilities, particularly in unsupervised learning and user engagement.\n"
     ]
    }
   ],
   "source": [
    "query = \"What are the new features presented in GPT-4.5? Answer shortly\"\n",
    "response = semantic_rag_chain(query, prompt, llm)\n",
    "print(response)"
   ]
  },
  {
   "cell_type": "code",
   "execution_count": 170,
   "metadata": {},
   "outputs": [
    {
     "name": "stdout",
     "output_type": "stream",
     "text": [
      "Retrieved documents: ['documents/OpenAI o3-mini _ OpenAI.html', 'documents/New tools for building agents _ OpenAI.html']\n",
      "OpenAI recently introduced several new models, including:\n",
      "\n",
      "1. **GPT-4.5**\n",
      "2. **OpenAI o3-mini** - a cost-effective model optimized for STEM reasoning with advanced capabilities such as function calling and structured outputs.\n",
      "3. **OpenAI o1** and **OpenAI o1-mini** - along with their predecessors like GPT-4 and GPT-4o mini.\n",
      "\n",
      "The o3-mini model aims to enhance performance in tasks involving science, math, and coding while being production-ready with various developer features.\n"
     ]
    }
   ],
   "source": [
    "query = \"What are the new models introduced by OpenAI? Answer shortly\"\n",
    "response = semantic_rag_chain(query, prompt, llm, k=2)\n",
    "print(response)"
   ]
  },
  {
   "cell_type": "markdown",
   "metadata": {},
   "source": [
    "As for the frameworks, I was always using LangChain for such applications but I see some shift in the industry against locking yourself at early stages so that you can freely prototype without studying **rapidly changing** tools."
   ]
  },
  {
   "cell_type": "markdown",
   "metadata": {},
   "source": [
    "## Further readings\n",
    "\n",
    "Metadata filtering: https://python.langchain.com/docs/concepts/vectorstores/#metadata-filtering\n",
    "\n",
    "Hybrid search: \n",
    "1. https://docs.onyx.app/system_overview#query-flow\n",
    "1. https://python.langchain.com/docs/integrations/retrievers/pinecone_hybrid_search/  \n",
    "\n",
    "Diversity in retrieval: https://www.kaggle.com/code/marcinrutecki/rag-mmr-search-in-langchain\n",
    "\n",
    "HyDE: https://aclanthology.org/2023.acl-long.99.pdf\n",
    "\n",
    "LangChain course from James Briggs: https://youtu.be/Cyv-dgv80kE?si=ZPn7K8WrKKxu9tMQ\n",
    "\n",
    "LLM for querying your database: https://python.langchain.com/docs/how_to/self_query/\n",
    "\n",
    "Re-Ranking: https://medium.com/@ashpaklmulani/improve-retrieval-augmented-generation-rag-with-re-ranking-31799c670f8e\n",
    "\n",
    "Graph RAG: https://microsoft.github.io/graphrag/"
   ]
  },
  {
   "cell_type": "markdown",
   "metadata": {},
   "source": [
    "# Agents and AI agents\n",
    "\n",
    "Agent definition: https://www.merriam-webster.com/dictionary/agent  \n",
    "\n",
    "AI agent definitions: \n",
    "1. HF: https://huggingface.co/learn/agents-course/en/unit1/what-are-agents#lets-go-more-formal\n",
    "1. AWS: https://aws.amazon.com/what-is/ai-agents/\n",
    "\n",
    "Core components: https://weaviate.io/blog/what-is-agentic-rag#what-are-agents-in-ai-systems"
   ]
  },
  {
   "cell_type": "markdown",
   "metadata": {},
   "source": [
    "# Agentic RAG: connecting agents and retrieval\n",
    "\n",
    "There is no set in stone taxonomy or classification or recipe of how to build agents. Sometimes you can find the following terms: \n",
    "* Techniques for making agents\n",
    "* Paradigms for making agents\n",
    "* Agentic patterns\n",
    "* Frameworks (!= software frameworks)"
   ]
  },
  {
   "cell_type": "markdown",
   "metadata": {},
   "source": [
    "## ReAct (manual)"
   ]
  },
  {
   "cell_type": "code",
   "execution_count": 171,
   "metadata": {},
   "outputs": [],
   "source": [
    "def retrieval(query: str) -> str:\n",
    "    print(f\"Querying with: '{query}'\")\n",
    "    results = vector_store.similarity_search(query=query, k=1)\n",
    "    print(f\"Retrieved documents: {[r.metadata['source'] for r in results]}\")\n",
    "    document_list_as_a_string = \"\\n\\n\\n\".join([f\"Document source: {doc.metadata['source']}\\nDocument content: {doc.page_content}\" for doc in results])\n",
    "    return document_list_as_a_string"
   ]
  },
  {
   "cell_type": "code",
   "execution_count": 172,
   "metadata": {},
   "outputs": [
    {
     "name": "stdout",
     "output_type": "stream",
     "text": [
      "Querying with: 'What are the new features presented in GPT-4.5? Answer shortly'\n",
      "Retrieved documents: ['documents/Introducing GPT-4.5 _ OpenAI.html']\n"
     ]
    },
    {
     "data": {
      "text/plain": [
       "'Document source: documents/Introducing GPT-4.5 _ OpenAI.html\\nDocument content: Introducing GPT-4.5 | OpenAISkip to main contentLog inSwitch toChatGPT(opens in a new window)Sora(opens in a new window)API Platform(opens in a new window)HomeResearch IndexResearch OverviewResearch ResidencyLatest AdvancementsGPT-4.5OpenAI o3-miniOpenAI o1OpenAI o1-miniGPT-4oGPT-4o miniSoraResearchBack to main menuResearch IndexResearch OverviewResearch ResidencyLatest AdvancementsGPT-4.5OpenAI o3-miniOpenAI o1OpenAI o1-miniGPT-4oGPT-4o miniSoraSafetyBack to main menuSafety ApproachSecurity & PrivacyChatGPTBack to main menuExplore ChatGPTTeamEnterpriseEducationPricingDownloadSoraBack to main menuSora OverviewFeaturesPricingHelp center(opens in a new window)Sora log in(opens in a new window)API PlatformBack to main menuPlatform OverviewPricingAPI Log in(opens in a new window)Documentation(opens in a new window)Developer Forum(opens in a new window)For BusinessStoriesCompanyBack to main menuAbout usOur Charte'"
      ]
     },
     "execution_count": 172,
     "metadata": {},
     "output_type": "execute_result"
    }
   ],
   "source": [
    "retrieval(\"What are the new features presented in GPT-4.5? Answer shortly\")[:1000]"
   ]
  },
  {
   "cell_type": "code",
   "execution_count": 173,
   "metadata": {},
   "outputs": [],
   "source": [
    "def parse_response(response: str) -> dict:\n",
    "    \"\"\"\n",
    "    Parse the agent's response to extract the action and its argument.\n",
    "    \n",
    "    Expected formats in the response:\n",
    "    \n",
    "    Case 1 (Tool Call):\n",
    "        Thought: some internal thoughts...\n",
    "        Action: tool_name: tool_text_args\n",
    "        \n",
    "    Case 2 (Finishing):\n",
    "        Thought: some internal thoughts...\n",
    "        Action: Finish: llm_final_textual_response\n",
    "        \n",
    "    Returns a dictionary with:\n",
    "      - \"action_type\": either the tool name (e.g., \"retrieval\") or \"finish\"\n",
    "      - \"argument\": the argument text for the action\n",
    "    If no action line is found, returns None.\n",
    "    \"\"\"\n",
    "    # Split the response into individual lines.\n",
    "    for line in response.splitlines():\n",
    "        if line.strip().startswith(\"Action:\"):\n",
    "            # Remove the \"Action:\" prefix and any leading/trailing whitespace.\n",
    "            action_line = line.strip()[len(\"Action:\"):].strip()\n",
    "            # Expect a colon separator between the action name and argument.\n",
    "            if \":\" not in action_line:\n",
    "                raise ValueError(\"Invalid action format: missing ':' separator.\")\n",
    "            \n",
    "            tool_name, arg = action_line.split(\":\", 1)\n",
    "            tool_name = tool_name.strip().lower()\n",
    "            arg = arg.strip()\n",
    "            \n",
    "            if tool_name == \"finish\":\n",
    "                return {\"action_type\": \"finish\", \"argument\": arg}\n",
    "            else:\n",
    "                return {\"action_type\": tool_name, \"argument\": arg}\n",
    "    \n",
    "    # If no action is found, return None.\n",
    "    return None"
   ]
  },
  {
   "cell_type": "code",
   "execution_count": 174,
   "metadata": {},
   "outputs": [
    {
     "data": {
      "text/plain": [
       "{'action_type': 'retrieval', 'argument': 'machine learning in healthcare'}"
      ]
     },
     "execution_count": 174,
     "metadata": {},
     "output_type": "execute_result"
    }
   ],
   "source": [
    "response1 = \"\"\"Thought: I need to find documents related to machine learning.\n",
    "Action: retrieval: machine learning in healthcare\"\"\"\n",
    "\n",
    "parse_response(response1)"
   ]
  },
  {
   "cell_type": "code",
   "execution_count": 175,
   "metadata": {},
   "outputs": [
    {
     "data": {
      "text/plain": [
       "{'action_type': 'finish',\n",
       " 'argument': 'The final answer is that machine learning improves diagnostic accuracy.'}"
      ]
     },
     "execution_count": 175,
     "metadata": {},
     "output_type": "execute_result"
    }
   ],
   "source": [
    "response2 = \"\"\"Thought: I have gathered all the required info.\n",
    "Action: Finish: The final answer is that machine learning improves diagnostic accuracy.\"\"\"\n",
    "\n",
    "parse_response(response2)"
   ]
  },
  {
   "cell_type": "code",
   "execution_count": 177,
   "metadata": {},
   "outputs": [],
   "source": [
    "def process_agent_response(response: str) -> tuple[bool, str]:\n",
    "    \"\"\"\n",
    "    Process the agent's response to execute the requested tool call\n",
    "    or finish with the final answer.\n",
    "    \n",
    "    Returns a tuple (finished, next_prompt_or_answer):\n",
    "      - If finished is True, next_prompt_or_answer contains the final answer.\n",
    "      - Otherwise, it contains the Observation text to be appended to the next prompt.\n",
    "    \"\"\"\n",
    "    parsed = parse_response(response)\n",
    "    if not parsed:\n",
    "        # No action found; return the raw response.\n",
    "        return False, response\n",
    "\n",
    "    if parsed[\"action_type\"] == \"finish\":\n",
    "        # The agent is done; return its final answer.\n",
    "        return True, parsed[\"argument\"]\n",
    "    elif parsed[\"action_type\"] == \"retrieval\":\n",
    "        # Execute the retrieval tool.\n",
    "        observation = retrieval(parsed[\"argument\"])\n",
    "        return False, f\"Observation: {observation}\"\n",
    "    else:\n",
    "        # If the tool is not recognized, we generate a fallback Observation.\n",
    "        return False, \"Observation: Tool not recognized\""
   ]
  },
  {
   "cell_type": "code",
   "execution_count": 178,
   "metadata": {},
   "outputs": [
    {
     "name": "stdout",
     "output_type": "stream",
     "text": [
      "Querying with: 'GPT-4.5 new features'\n",
      "Retrieved documents: ['documents/Introducing GPT-4.5 _ OpenAI.html']\n",
      "Finished: False\n",
      "Next Prompt:\n",
      "Observation: Document source: documents/Introducing GPT-4.5 _ OpenAI.html\n",
      "Document content: Introducing GPT-4.5 | OpenAISkip to main contentLog inSwitch toChatGPT(opens in a new window)Sora(opens in a new window)API Platform(opens in a new window)HomeResearch IndexResearch OverviewResearch ResidencyLatest AdvancementsGPT-4.5OpenAI o3-miniOpenAI o1OpenAI o1-miniGPT-4oGPT-4o miniSoraResearchBack to main menuResearch IndexResearch OverviewResearch ResidencyLatest AdvancementsGPT-4.5OpenAI o3-miniOpenAI o1OpenAI o1-miniGPT-4oGPT-4o miniSoraSafetyBack to main menuSafety ApproachSecurity & PrivacyChatGPTBack to main menuExplore ChatGPTTeamEnterpriseEducationPricingDownloadSoraBack to main menuSora OverviewFeaturesPricingHelp center(opens in a new window)Sora log in(opens in a new window)API PlatformBack to main menuPlatform OverviewPricingAPI Log in(opens in a new window)Documentation(opens in a new window)Developer Forum(opens in a new window)For BusinessStoriesCompanyBack to main menuAbout\n"
     ]
    }
   ],
   "source": [
    "response_tool = (\n",
    "    \"Thought: I need to find relevant documents on GPT-4.5.\\n\"\n",
    "    \"Action: retrieval: GPT-4.5 new features\"\n",
    ")\n",
    "finished, next_prompt = process_agent_response(response_tool)\n",
    "print(\"Finished:\", finished)\n",
    "print(\"Next Prompt:\")\n",
    "print(next_prompt[:1000])"
   ]
  },
  {
   "cell_type": "code",
   "execution_count": 179,
   "metadata": {},
   "outputs": [
    {
     "name": "stdout",
     "output_type": "stream",
     "text": [
      "Finished: True\n",
      "Final Answer: The final answer is that GPT-4.5 is better than GPT-4 by 0.5.\n"
     ]
    }
   ],
   "source": [
    "response_finish = (\n",
    "    \"Thought: I've gathered all necessary information.\\n\"\n",
    "    \"Action: Finish: The final answer is that GPT-4.5 is better than GPT-4 by 0.5.\"\n",
    ")\n",
    "finished, final_answer = process_agent_response(response_finish)\n",
    "print(\"Finished:\", finished)\n",
    "print(\"Final Answer:\", final_answer)"
   ]
  },
  {
   "cell_type": "code",
   "execution_count": 187,
   "metadata": {},
   "outputs": [],
   "source": [
    "# Define a system prompt template with placeholders.\n",
    "system_prompt_template = \"\"\"\n",
    "You are a helpful AI agent specialized in question answering.\n",
    "Here is the original user's query:\n",
    "'{query}'\n",
    "\n",
    "You have access to the 'retrieval' tool which can search over several recent documents about AI\n",
    "and also some user's documents. \n",
    "\n",
    "When given a query, decide whether you need to retrieve additional documents.\n",
    "If you require more context, respond with an action instruction in the exact format:\n",
    "Thought: <your internal thoughts>\n",
    "Action: retrieval: <your retrieval query>\n",
    "\n",
    "Otherwise, when you have enough information, provide a final answer in the format:\n",
    "Thought: <your internal thoughts>\n",
    "Action: Finish: <your final answer>\n",
    "\n",
    "\n",
    "\n",
    "Below is your workplace:\n",
    "{react_accumulated}\n",
    "\"\"\"\n",
    "\n",
    "# Agent call that builds the full prompt.\n",
    "def agent_call(original_query: str, react_accumulated: str, llm) -> str:\n",
    "    full_prompt = system_prompt_template.format(\n",
    "        query=original_query,\n",
    "        react_accumulated=react_accumulated\n",
    "    )\n",
    "    # print(full_prompt)\n",
    "    return get_chat_response(llm, full_prompt)"
   ]
  },
  {
   "cell_type": "code",
   "execution_count": 183,
   "metadata": {},
   "outputs": [
    {
     "name": "stdout",
     "output_type": "stream",
     "text": [
      "\n",
      "You are a helpful AI agent specialized in question answering.\n",
      "Here is the original user's query:\n",
      "'What's in my youtube script about kedro?'\n",
      "\n",
      "You have access to the 'retrieval' tool which can search over several recent documents about AI\n",
      "and also some user's documents. \n",
      "\n",
      "When given a query, decide whether you need to retrieve additional documents.\n",
      "If you require more context, respond with an action instruction in the exact format:\n",
      "Thought: <your internal thoughts>\n",
      "Action: retrieval: <your retrieval query>\n",
      "\n",
      "Otherwise, when you have enough information, provide a final answer in the format:\n",
      "Thought: <your internal thoughts>\n",
      "Action: Finish: <your final answer>\n",
      "\n",
      "\n",
      "\n",
      "Below is your workplace:\n",
      "\n",
      "\n"
     ]
    }
   ],
   "source": [
    "response = agent_call(original_query=\"What's in my youtube script about kedro?\", react_accumulated=\"\", llm=llm)"
   ]
  },
  {
   "cell_type": "code",
   "execution_count": null,
   "metadata": {},
   "outputs": [
    {
     "name": "stdout",
     "output_type": "stream",
     "text": [
      "Thought: I don't have direct access to the user's script about Kedro, nor do I have contextual information about the contents of that script. To adequately respond to the query, I need to retrieve specific documents that could provide insight into what a typical script about Kedro might contain or focus on. \n",
      "Action: retrieval: \"Kedro YouTube script overview\"\n"
     ]
    }
   ],
   "source": [
    "print(response)"
   ]
  },
  {
   "cell_type": "markdown",
   "metadata": {},
   "source": [
    "let's simulate the situation when we didn't find the document"
   ]
  },
  {
   "cell_type": "code",
   "execution_count": 185,
   "metadata": {},
   "outputs": [
    {
     "name": "stdout",
     "output_type": "stream",
     "text": [
      "Thought: I don't have direct access to the user's script about Kedro, nor do I have contextual information about the contents of that script. To adequately respond to the query, I need to retrieve specific documents that could provide insight into what a typical script about Kedro might contain or focus on. \n",
      "Action: retrieval: \"Kedro YouTube script overview\"\n",
      "Observation: no document found\n",
      "\n"
     ]
    }
   ],
   "source": [
    "react_accumulated = \"\"\"Thought: I don't have direct access to the user's script about Kedro, nor do I have contextual information about the contents of that script. To adequately respond to the query, I need to retrieve specific documents that could provide insight into what a typical script about Kedro might contain or focus on. \n",
    "Action: retrieval: \"Kedro YouTube script overview\"\n",
    "Observation: no document found\n",
    "\"\"\"\n",
    "print(react_accumulated)"
   ]
  },
  {
   "cell_type": "code",
   "execution_count": 186,
   "metadata": {},
   "outputs": [
    {
     "name": "stdout",
     "output_type": "stream",
     "text": [
      "\n",
      "You are a helpful AI agent specialized in question answering.\n",
      "Here is the original user's query:\n",
      "'What's in my youtube script about kedro?'\n",
      "\n",
      "You have access to the 'retrieval' tool which can search over several recent documents about AI\n",
      "and also some user's documents. \n",
      "\n",
      "When given a query, decide whether you need to retrieve additional documents.\n",
      "If you require more context, respond with an action instruction in the exact format:\n",
      "Thought: <your internal thoughts>\n",
      "Action: retrieval: <your retrieval query>\n",
      "\n",
      "Otherwise, when you have enough information, provide a final answer in the format:\n",
      "Thought: <your internal thoughts>\n",
      "Action: Finish: <your final answer>\n",
      "\n",
      "\n",
      "\n",
      "Below is your workplace:\n",
      "Thought: I don't have direct access to the user's script about Kedro, nor do I have contextual information about the contents of that script. To adequately respond to the query, I need to retrieve specific documents that could provide insight into what a typical script about Kedro might contain or focus on. \n",
      "Action: retrieval: \"Kedro YouTube script overview\"\n",
      "Observation: no document found\n",
      "\n",
      "\n",
      "Thought: Since I couldn't find any relevant documents in the previous retrieval attempt, I need to change the retrieval query to explore different sources or document types that may discuss Kedro's features, usage, or general information that could help in constructing a YouTube script about it. \n",
      "Action: retrieval: \"Kedro framework overview\"\n"
     ]
    }
   ],
   "source": [
    "response = agent_call(original_query=\"What's in my youtube script about kedro?\", \n",
    "                      react_accumulated=react_accumulated, \n",
    "                      llm=llm)\n",
    "print(response)"
   ]
  },
  {
   "cell_type": "code",
   "execution_count": 188,
   "metadata": {},
   "outputs": [],
   "source": [
    "def react_loop(max_iterations=5, initial_query: str = \"\", llm: ChatOpenAI | None = None) -> str:\n",
    "    \"\"\"\n",
    "    Orchestrates the ReAct loop.\n",
    "    \n",
    "    The loop starts with an initial_query and repeatedly calls agent_call.\n",
    "    It updates the accumulated workplace by appending:\n",
    "      - The agent's response (including Thought and Action).\n",
    "      - The resulting Observation.\n",
    "    \n",
    "    When the agent outputs a finishing action (\"Finish\"), the loop stops.\n",
    "    Returns the final answer.\n",
    "    \"\"\"\n",
    "    react_accumulated = \"\"\n",
    "\n",
    "    for i in range(max_iterations):\n",
    "        print(f\"Iteration {i+1}:\")\n",
    "        # Call the agent with the current workplace.\n",
    "        agent_response = agent_call(original_query=initial_query, react_accumulated=react_accumulated, llm=llm)\n",
    "        print(\"Agent Response:\")\n",
    "        print(agent_response)\n",
    "        print(\"-\" * 20)\n",
    "        \n",
    "        # Append the agent's response to the workplace.\n",
    "        react_accumulated += \"\\n\" + agent_response\n",
    "        \n",
    "        finished, next_content = process_agent_response(agent_response)\n",
    "        # Append the observation (or final answer) to the workplace.\n",
    "        react_accumulated += \"\\n\" + next_content\n",
    "        \n",
    "        if finished:\n",
    "            print(\"Final Answer:\")\n",
    "            print(next_content)\n",
    "            return next_content\n",
    "        else:\n",
    "            print(\"Updated Workplace:\")\n",
    "            print(react_accumulated)\n",
    "            print(\"=\" * 50)\n",
    "    \n",
    "    print(\"Max iterations reached without final answer.\")\n",
    "    return react_accumulated"
   ]
  },
  {
   "cell_type": "code",
   "execution_count": 189,
   "metadata": {},
   "outputs": [
    {
     "name": "stdout",
     "output_type": "stream",
     "text": [
      "Iteration 1:\n",
      "Agent Response:\n",
      "Thought: The user is asking about the colors of a rainbow, which are well-known and typically represented as red, orange, yellow, green, blue, indigo, and violet (often abbreviated as ROYGBIV). I have sufficient information to provide a complete answer without needing to retrieve additional documents. \n",
      "Action: Finish: The colors of a rainbow are red, orange, yellow, green, blue, indigo, and violet. These colors can be remembered using the acronym ROYGBIV.\n",
      "--------------------\n",
      "Final Answer:\n",
      "The colors of a rainbow are red, orange, yellow, green, blue, indigo, and violet. These colors can be remembered using the acronym ROYGBIV.\n"
     ]
    }
   ],
   "source": [
    "response = react_loop(max_iterations=5, initial_query=\"What are rainbow colours?\", llm=llm)"
   ]
  },
  {
   "cell_type": "code",
   "execution_count": 190,
   "metadata": {},
   "outputs": [
    {
     "name": "stdout",
     "output_type": "stream",
     "text": [
      "Iteration 1:\n",
      "Agent Response:\n",
      "Thought: The user's query indicates they want information about their YouTube script regarding \"kedro.\" However, there are no details in the query about the content or specific topics covered in the script. I need more context to provide an accurate answer. \n",
      "Action: retrieval: \"YouTube script about kedro\"\n",
      "--------------------\n",
      "Querying with: '\"YouTube script about kedro\"'\n",
      "Retrieved documents: ['documents/Tackling the ML Reproducibility Curse with the Kedro-MLflow Plugin description.txt']\n",
      "Updated Workplace:\n",
      "\n",
      "Thought: The user's query indicates they want information about their YouTube script regarding \"kedro.\" However, there are no details in the query about the content or specific topics covered in the script. I need more context to provide an accurate answer. \n",
      "Action: retrieval: \"YouTube script about kedro\"\n",
      "Observation: Document source: documents/Tackling the ML Reproducibility Curse with the Kedro-MLflow Plugin description.txt\n",
      "Document content: Dive into the power of the Kedro-MLflow plugin — a seamless integration of Kedro’s robust pipeline management with MLflow’s comprehensive experiment tracking and model registry. In this video, we explore how combining these two frameworks can resolve the reproducibility challenges that often plague modern ML solutions.\n",
      "\n",
      "Chapters:\n",
      "00:00 – Introduction\n",
      "01:29 – Use-Case Study: The Spaceflights Tutorial\n",
      "05:49 – Solution Pipeline Overview\n",
      "11:03 – Defining the Reproducibility Problem\n",
      "14:21 – Exploring Kedro-viz\n",
      "19:40 – Kedro Project Structure\n",
      "23:37 – Deep Dive: ETL Application\n",
      "27:17 – Deep Dive: ML Application\n",
      "27:44 – Kedro-MLflow Plugin in Action\n",
      "37:43 – Advanced Usage: Pipeline as a Model\n",
      "39:43 – Testing the Inference Pipeline\n",
      "48:42 – Kedro Context in Jupyter Notebook\n",
      "56:21 – Conclusion\n",
      "\n",
      "Links:\n",
      "• Tutorial used in the video: https://github.com/OlegBEZb/kedro_mlf...\n",
      "• Kedro-MLflow plugin: https://github.com/Galileo-Galilei/ke...\n",
      "• MLflow: https://mlflow.org/docs/latest/index....\n",
      "• Kedro: https://kedro.org/\n",
      "• First-party plugins maintained by the Kedro team: https://github.com/kedro-org/kedro-pl...\n",
      "• Original Kedro-MLflow Tutorial which I used a lot: https://github.com/Galileo-Galilei/ke...\n",
      "• Kedro spaceflights tutorial: https://docs.kedro.org/en/stable/tuto...\n",
      "\n",
      "Connect with Me:\n",
      " • Telegram: https://t.me/DeepStuffChannel\n",
      "==================================================\n",
      "Iteration 2:\n",
      "Agent Response:\n",
      "Thought: The retrieval provided a detailed overview of the YouTube script related to Kedro, particularly focusing on the Kedro-MLflow plugin and its utility in machine learning reproducibility. This content includes specific chapters with timestamps that outline the main points covered in the video. I now have enough information to summarize the key elements of the script. \n",
      "Action: Finish: The YouTube script about Kedro focuses on the Kedro-MLflow plugin, highlighting its integration for pipeline management and experiment tracking in machine learning. It covers a use-case study, defines reproducibility challenges, details the project structure, and dives into applications like ETL and ML. Key timestamps include an introduction, various deep dives, and a conclusion, alongside helpful links for further learning.\n",
      "--------------------\n",
      "Final Answer:\n",
      "The YouTube script about Kedro focuses on the Kedro-MLflow plugin, highlighting its integration for pipeline management and experiment tracking in machine learning. It covers a use-case study, defines reproducibility challenges, details the project structure, and dives into applications like ETL and ML. Key timestamps include an introduction, various deep dives, and a conclusion, alongside helpful links for further learning.\n"
     ]
    }
   ],
   "source": [
    "response = react_loop(max_iterations=5, initial_query=\"What's in my youtube script about kedro?\", llm=llm)"
   ]
  },
  {
   "cell_type": "code",
   "execution_count": 191,
   "metadata": {},
   "outputs": [
    {
     "name": "stdout",
     "output_type": "stream",
     "text": [
      "Iteration 1:\n",
      "Agent Response:\n",
      "Thought: I need to gather the latest information about the features of the GPT-4.5 model, as I don't currently have that specific data. The user has asked for details about a newer version of the model, which suggests a need for up-to-date information. \n",
      "Action: retrieval: \"features of GPT-4.5 model\"\n",
      "--------------------\n",
      "Querying with: '\"features of GPT-4.5 model\"'\n",
      "Retrieved documents: ['documents/Introducing GPT-4.5 _ OpenAI.html']\n",
      "Updated Workplace:\n",
      "\n",
      "Thought: I need to gather the latest information about the features of the GPT-4.5 model, as I don't currently have that specific data. The user has asked for details about a newer version of the model, which suggests a need for up-to-date information. \n",
      "Action: retrieval: \"features of GPT-4.5 model\"\n",
      "Observation: Document source: documents/Introducing GPT-4.5 _ OpenAI.html\n",
      "Document content: Introducing GPT-4.5 | OpenAISkip to main contentLog inSwitch toChatGPT(opens in a new window)Sora(opens in a new window)API Platform(opens in a new window)HomeResearch IndexResearch OverviewResearch ResidencyLatest AdvancementsGPT-4.5OpenAI o3-miniOpenAI o1OpenAI o1-miniGPT-4oGPT-4o miniSoraResearchBack to main menuResearch IndexResearch OverviewResearch ResidencyLatest AdvancementsGPT-4.5OpenAI o3-miniOpenAI o1OpenAI o1-miniGPT-4oGPT-4o miniSoraSafetyBack to main menuSafety ApproachSecurity & PrivacyChatGPTBack to main menuExplore ChatGPTTeamEnterpriseEducationPricingDownloadSoraBack to main menuSora OverviewFeaturesPricingHelp center(opens in a new window)Sora log in(opens in a new window)API PlatformBack to main menuPlatform OverviewPricingAPI Log in(opens in a new window)Documentation(opens in a new window)Developer Forum(opens in a new window)For BusinessStoriesCompanyBack to main menuAbout usOur CharterCareersBrandOverviewLogosGalleryPartnershipsTypographyLanguageContactNewsLog inOpenAITable of contentsScaling unsupervised learningTraining for human collaborationStronger reasoning on the horizonSafetyHow to use GPT-4.5 in ChatGPTHow to use GPT-4.5 in the APIConclusionAppendixFebruary 27, 2025ReleaseProductIntroducing GPT-4.5A research preview of our strongest GPT model. Available to Pro users and developers worldwide.Try in ChatGPT(opens in a new window)ShareWe’re releasing a research preview of GPT‑4.5—our largest and best model for chat yet. GPT‑4.5 is a step forward in scaling up pre-training and post-training. By scaling unsupervised learning, GPT‑4.5 improves its ability to recognize patterns, draw connections, and generate creative insights without reasoning.Early testing shows that interacting with GPT‑4.5 feels more natural. Its broader knowledge base, improved ability to follow user intent, and greater “EQ” make it useful for tasks like improving writing, programming, and solving practical problems. We also expect it to hallucinate less.We’re sharing GPT‑4.5 as a research preview to better understand its strengths and limitations. We’re still exploring what it’s capable of and are eager to see how people use it in ways we might not have expected.Scaling unsupervised learningWe advance AI capabilities by scaling two complementary paradigms: unsupervised learning and reasoning. These represent two axes of intelligence.Unsupervised learning increases world model accuracy and intuition. Models like GPT‑3.5, GPT‑4, and GPT‑4.5 advance this paradigm. Scaling reasoning⁠, on the other hand, teaches models to think and produce a chain of thought before they respond, allowing them to tackle complex STEM or logic problems. Models like OpenAI o1 and OpenAI o3‑mini advance this paradigm. GPT‑4.5 is an example of scaling unsupervised learning by scaling up compute and data, along with architecture and optimization innovations. GPT‑4.5 was trained on Microsoft Azure AI supercomputers. The result is a model that has broader knowledge and a deeper understanding of the world, leading to reduced hallucinations and more reliability across a wide range of topics. Scaling the GPT paradigmGPT-4.5 (2025)What was the first language?We don't know exactly what the first language was, and scientists believe we'll probably never know for sure because spoken languages appeared long before written records existed.Here's what we do know:No single \"first language\": Languages likely developed gradually in different groups of humans around the same time, tens or even hundreds of thousands of years ago.Origin in Africa: Most scientists agree that spoken language probably first emerged among humans in Africa, perhaps over 100,000 years ago.Proto-languages: Rather than a single language, humans likely started with simple communication that evolved into more complex languages. The earliest forms of language probably included gestures, sounds, and signals to express basic ideas and emotions.Lost to history: Because speech leaves no direct fossil record, and writing emerged relatively recently (around 5,000 years ago), we have no way to know exactly how the earliest languages sounded.Today, linguists study existing languages to understand how they evolved over thousands of years, but the exact identity of humanity’s very first language remains—and will likely always remain—a mystery.Deeper world knowledgeSimpleQA Accuracy (higher is better)62.5%38.2%47%15%AccuracySimpleQA Hallucination Rate (lower is better)37.1%61.8%44%80.3%Hallucination rateSimpleQA measures LLM (large language model) factuality on straightforward but challenging knowledge questions.Training for human collaborationAs we scale our models and they solve more complex problems, it becomes increasingly important to teach them a greater understanding of human needs and intent. For GPT‑4.5, we developed new, scalable techniques that enable training larger and more powerful models with data derived from smaller models. These techniques improve GPT‑4.5’s steerability, understanding of nuance, and natural conversation.Comparative evaluations with human testers56.8%63.2%57.0%GPT-4.5 win-rate vs GPT-4oHuman preference measures the percentage of queries where testers preferred GPT‑4.5 over GPT‑4o.Combining deep understanding of the world with improved collaboration results in a model that integrates ideas naturally in warm and intuitive conversations that are more attuned to human collaboration. GPT‑4.5 has a better understanding of what humans mean and interprets subtle cues or implicit expectations with greater nuance and “EQ”. GPT‑4.5 also shows stronger aesthetic intuition and creativity. It excels at helping with writing and design.Use casesHelp through a tough timeIdentify a paintingSpace explorationHelp through a tough timeIdentify a paintingSpace explorationGPT-4.5I’m going through a tough time after failing a testAw, I'm really sorry to hear that. Failing a test can feel pretty tough and discouraging, but remember, it's just one moment—not a reflection of who you are or your capabilities. Want to talk about what happened, or do you just need a distraction? I'm here either way.GPT-4oI’m going through a tough time after failing a testI'm really sorry to hear that you're going through a tough time. Here are a few things you might consider:1. Reflect and Understand: Try to analyze what might have gone wrong. Was it a lack of preparation, time management during the test, or perhaps misunderstanding the material? Understanding the root cause can help you address it in the future.2. Seek Support: Talk to someone you trust—friends, family, or a school counselor. They can offer a different perspective and sometimes just talking about your feelings can be alleviating.3. Speak with Your Teacher or Professor: They can provide insights into where you might have gone wrong and offer advice on how to improve. They might also offer opportunities for make-up work or extra credit.4. Develop a Study Plan: Based on your reflections, create a plan to improve your study habits. This might include setting regular study times, breaking down material into manageable portions, or finding new study methods that work better for you.5. Stay Positive and Forgive Yourself: Mistakes and setbacks are a part of life. It’s important to be kind to yourself and recognize that failure is a stepping stone to success.6. Focus on the Bigger Picture: Remember that one test is just one part of your educational journey. There will be many more opportunities to do well.If you need further support or resources, consider reaching out to educational support services at your institution, or mental health resources if you’re feeling particularly overwhelmed. You’re not alone in this, and things can get better with time and effort.GPT‑4.5 shows greater “EQ” and knows when to invite further conversation versus when to provide the user with extensive information.GPT-4.5What's that one old painting where women set their boat on fire because they're tired of moving? I think it has to do with RomeYou're thinking of \"The Trojan Women Setting Fire to Their Fleet\" by the French painter Claude Lorrain. The painting depicts the Trojan women burning their own ships, exhausted from their long journey and unwilling to continue traveling after the fall of Troy. This scene is inspired by Virgil's epic poem, the Aeneid, which tells the legendary story of Aeneas fleeing the destruction of Troy and eventually founding Rome.Claude Lorrain created this painting in 1643, and it's renowned for its luminous depiction of fire, sea, and landscape, blending classical themes with dramatic natural beauty.GPT-4oWhat's that one old painting where women set their boat on fire because they're tired of moving? I think it has to do with RomeThe painting you're thinking of is likely \"The Women of Cnidus Burning the Fleet\" by Claude Lorrain. This artwork is based on a story from Roman mythology where the women of Cnidus, tired of constant travel and desiring to settle, set their own ships on fire to prevent further movement. Claude Lorrain was a French painter known for his detailed landscapes and historical depictions, and he often drew on classical themes and stories from antiquity for inspiration.GPT‑4.5 excels at factual accuracy and hallucinates less than other OpenAI models.GPT-4.5What are your thoughts on space exploration?Space exploration isn't just valuable—it's essential.People often frame it as a luxury we pursue after solving Earth-bound problems. But space exploration actually helps us address those very challenges: climate change (via satellite monitoring), resource scarcity (through asteroid mining), and existential risk (by enabling eventual multi-planetary living). It also drives technological innovation, economic growth, and inspires humanity toward collective achievement.We don't explore space to escape Earth. We explore space to better understand, protect, and sustain life on Earth.GPT-4oWhat are your thoughts on space exploration?Space exploration is one of the most ambitious and profound endeavors humanity has undertaken. It expands our understanding of the universe, drives technological innovation, and inspires generations to think beyond the boundaries of Earth.From a scientific perspective, space exploration helps us address fundamental questions: Are we alone in the universe? How did the cosmos begin? Can we colonize other planets? Missions like the James Webb Space Telescope, Mars rovers, and deep-space probes continuously reshape our understanding of physics, planetary science, and even biology.From a practical standpoint, space exploration fuels advancements in materials science, AI, robotics, and medicine. Many everyday technologies—GPS, satellite communications, weather forecasting, and even medical imaging—stem from space research.There's also the existential argument: humanity's long-term survival may depend on our ability to become a multi-planetary species. While colonizing Mars or mining asteroids is far from easy, these efforts could help us safeguard civilization against existential threats like climate change or asteroid impacts.That said, space exploration also raises ethical and economic questions. Should we focus more on Earth’s problems before investing trillions in space? How do we prevent the same exploitative behaviors that shaped colonial history from repeating on other planets?Overall, I see space exploration as a necessary pursuit—not at the cost of solving problems on Earth, but as a way to advance our knowledge, drive innovation, and secure a future beyond our home planet. What’s your take?GPT‑4.5 is more succinct and conversational.Stronger reasoning on the horizonGPT‑4.5 doesn’t think before it responds, which makes its strengths particularly different from reasoning models like OpenAI o1. Compared to OpenAI o1 and OpenAI o3‑mini, GPT‑4.5 is a more general-purpose, innately smarter model. We believe reasoning will be a core capability of future models, and that the two approaches to scaling—pre-training and reasoning—will complement each other. As models like GPT‑4.5 become smarter and more knowledgeable through pre-training, they will serve as an even stronger foundation for reasoning and tool-using agents.SafetyEach increase in model capabilities is also an opportunity to make the models safer. GPT‑4.5 was trained with new techniques for supervision that are combined with traditional supervised fine-tuning (SFT) and reinforcement learning from human feedback (RLHF) methods like those used for GPT‑4o. We hope this work will serve as a foundation for aligning even more capable future models.To stress-test our improvements, we conducted a suite of safety tests before deployment, in accordance with our Preparedness Framework⁠(opens in a new window)⁠. We found that scaling the GPT paradigm contributed to capability improvements across our evaluations. We are publishing the detailed results from these evaluations in the accompanying system card⁠.How to use GPT-4.5 in ChatGPTStarting today, ChatGPT Pro users will be able to select GPT‑4.5 in the model picker on web, mobile, and desktop. We will begin rolling out to Plus and Team users next week, then to Enterprise and Edu users the following week.GPT‑4.5 has access to the latest up-to-date information with search, supports file and image uploads, and can use canvas to work on writing and code. However, GPT‑4.5 does not currently support multimodal features like Voice Mode, video, and screensharing in ChatGPT. In the future, we will work to simplify the user experience so AI “just works” for you. How to use GPT-4.5 in the APIWe’re also previewing GPT‑4.5 in the Chat Completions API, Assistants API, and Batch API to developers on all paid usage tiers⁠(opens in a new window). The model supports key features like function calling, Structured Outputs, streaming, and system messages. It also supports vision capabilities through image inputs. Based on early testing, developers may find GPT‑4.5 particularly useful for applications that benefit from its higher emotional intelligence and creativity—such as writing help, communication, learning, coaching, and brainstorming. It also shows strong capabilities in agentic planning and execution, including multi-step coding workflows and complex task automation.GPT‑4.5 is a very large and compute-intensive model, making it more expensive⁠ than and not a replacement for GPT‑4o. Because of this, we’re evaluating whether to continue serving it in the API long-term as we balance supporting current capabilities with building future models. We look forward to learning more about its strengths, capabilities, and potential applications in real-world settings. If GPT‑4.5 delivers unique value for your use case, your feedback⁠(opens in a new window) will play an important role in guiding our decision. ConclusionWith every new order of magnitude of compute comes novel capabilities. GPT‑4.5 is a model at the frontier of what is possible in unsupervised learning. We continue to be surprised by the creativity of the community in uncovering new abilities and unexpected use cases. With GPT‑4.5, we invite you to explore the frontier of unsupervised learning and uncover novel capabilities with us.AppendixBelow, we provide GPT‑4.5’s results on standard academic benchmarks to illustrate its current performance on tasks traditionally associated with reasoning. Even by purely scaling up unsupervised learning, GPT‑4.5 shows meaningful improvements over previous models like GPT‑4o. Still, we look forward to gaining a more complete picture of GPT‑4.5’s capabilities through this release, because we recognize academic benchmarks don’t always reflect real-world usefulness.Model evaluation scoresGPT‑4.5GPT‑4oOpenAI o3‑mini (high)GPQA (science)71.4%53.6%79.7%AIME ‘24 (math)36.7%9.3%87.3%MMMLU (multilingual)85.1%81.5%81.1%MMMU (multimodal)74.4%69.1%-SWE-Lancer Diamond (coding)*32.6%$186,12523.3%$138,75010.8%$89,625SWE-Bench Verified (coding)*38.0%30.7%61.0%*Numbers shown represent best internal performance.AuthorsOpenAI Foundational contributorsAlex Paino, Ali Kamali, Amin Tootoonchian, Andrew Tulloch, Ben Sokolowsky, Clemens Winter, Colin Wei, Daniel Kappler, Daniel Levy, Felipe Petroski Such, Geoff Salmon, Ian O’Connell, Jason Teplitz, Kai Chen, Nik Tezak, Prafulla Dhariwal, Rapha Gontijo Lopes, Sam Schoenholz, Youlong Cheng, Yujia Jin, Yunxing DaiResearchCore contributorsAiden Low, Alec Radford, Alex Carney, Alex Nichol, Alexis Conneau, Ananya Kumar, Ben Wang, Charlotte Cole , Elizabeth Yang, Gabriel Goh, Hadi Salman, Haitang Hu, Heewoo Jun, Ian Sohl, Ishaan Gulrajani, Jacob Coxon, James Betker, Jamie Kiros, Jessica Landon, Kyle Luther, Lia Guy, Lukas Kondraciuk, Lyric Doshi, Mikhail Pavlov, Qiming Yuan, Reimar Leike, Rowan Zellers, Sean Metzger, Shengjia Zhao, Spencer Papay, Tao WangContributorsAdam Lerer, Aidan McLaughlin, Alexander Prokofiev, Alexandra Barr, Allan Jabri, Ananya Kumar, Andrew Gibiansky, Andrew Schmidt, Casey Chu, Chak Li, Chelsea Voss, Chris Hallacy, Chris Koch, Christine McLeavey, David Mely, Dimitris Tsipras, Eric Sigler, Erin Kavanaugh, Farzad Khorasani, Huiwen Chang, Ilya Kostrikov, Ishaan Singal, Ji Lin, Jiahui Yu, Jing Yu Zhang, John Rizzo, Jong Wook Kim, Joyce Lee, Juntang Zhuang, Leo Liu, Li Jing, Long Ouyang, Louis Feuvrier, Mo Bavarian, Nick Stathas, Nitish Keskar, Oleg Murk, Preston Bowman, Scottie Yan, SQ Mah, Tao Xu, Taylor Gordon, Valerie Qi, Wenda Zhou, Yu ZhangScaling Core contributorsAdam Goucher, Alex Chow, Alex Renzin, Aleksandra Spyra, Avi Nayak, Ben Leimberger, Christopher Hesse, Duc Phong Nguyen, Dinghua Li, Eric Peterson, Francis Zhang, Gene Oden, Kai Fricke, Kai Hayashi, Larry Lv, Leqi Zou, Lin Yang, Madeleine Thompson, Michael Petrov, Miguel Castro, Natalia Gimelshein, Phil Tillet, Reza Zamani, Ryan Cheu\n",
      "Stanley Hsieh, Steve Lee, Stewart Hall, Thomas Raoux, Tianhao Zheng, Vishal Kuo, Yongjik Kim, Yuchen Zhang, Zhuoran LiuContributorsAlvin Wan, Andrew Cann, Antoine Pelisse, Anuj Kalia, Aaron Hurst, Avital Oliver, Brad Barnes, Brian Hsu, Chen Ding, Chen Shen, Cheng Chang, Christian Gibson, Duncan Findlay, Fan Wang, Fangyuan Li, Gianluca Borello, Heather Schmidt, Henrique Ponde de Oliveira Pinto, Ikai Lan, Jiayi Weng, James Crooks, Jos Kraaijeveld, Junru Shao, Kenny Hsu, Kenny Nguyen, Kevin King, Leah Burkhardt, Leo Chen, Linden Li, Lu Zhang, Mahmoud Eariby, Marat Dukhan, Mateusz Litwin, Miki Habryn, Natan LaFontaine, Pavel Belov, Peng Su, Prasad Chakka, Rachel Lim, Rajkumar Samuel, Renaud Gaubert, Rory Carmichael, Sarah Dong, Shantanu Jain, Stephen Logsdon, Todd Underwood, Weixing Zhang, Will Sheu, Weiyi Zheng, Yinghai Lu, Yunqiao ZhangSafety SystemsAndrea Vallone, Andy Applebaum, Cameron Raymond, Chong Zhang, Dan Mossing, Elizabeth Proehl, Eric Wallace, Evan Mays, Grace Zhao, Ian Kivlichan, Irina Kofman, Joel Parish, Kevin Liu, Keren Gu-Lemberg, Kristen Ying, Lama Ahmad, Lilian Weng , Leon Maksin, Leyton Ho, Meghan Shah, Michael Lampe, Michele Wang, Miles Wang, Olivia Watkins, Phillip Guo, Samuel Miserendino, Sam Toizer, Sandhini Agarwal, Tejal Patwardhan, Tom Dupré la Tour, Tong Mu, Tyna Eloundou, Yunyun WangDeploymentAdam Brandon, Adam Perelman, Adele Li, Akshay Nathan, Alan Hayes, Alfred Xue, Alison Ben, Alec Gorge, Alex Guziel, Alex Iftimie, Ally Bennett, Andrew Chen, Andy Wang, Andy Wood, Angad Singh, Anoop Kotha, Antonia Woodford, Anuj Saharan, Ashley Tyra, Atty Eleti, Ben Schneider, Bessie Ji, Beth Hoover, Bill Chen, Blake Samic, Britney Smith, Brian Yu, Caleb Wang, Cary Bassin, Cary Hudson, Charlie Jatt, Chengdu Huang, Chris Beaumont, Christina Huang, Cristina Scheau, Dana Palmie, Daniel Levine, Daryl Neubieser, Dave Cummings, David Sasaki, Dibya Bhattacharjee, Dylan Hunn, Edwin Arbus, Elaine Ya Le, Enis Sert, Eric Kramer, Fred von Lohmann, Gaby Janatpour, Garrett McGrath, Garrett Ollinger, Gary Yang, Hao Sheng, Harold Hotelling, Janardhanan Vembunarayanan, Jeff Harris, Jeffrey Sabin Matsumoto, Jennifer Robinson, Jessica Liang, Jessica Shieh, Jiacheng Yang, Joel Morris, Joseph Florencio, Josh Kaplan, Kan Wu, Karan Sharma, Karen Li, Katie Pypes, Kendal Simon, Kendra Rimbach, Kevin Park, Kevin Rao, Laurance Fauconnet, Lauren Workman, Leher Pathak, Liang Wu, Liang Xiong, Lien Mamitsuka, Lindsay McCallum, Lukas Gross, Manoli Liodakis, Matt Nichols, Michelle Fradin, Minal Khan, Mingxuan Wang, Nacho Soto, Natalie Staudacher, Nikunj Handa, Niko Felix, Ning Liu, Olivier Godement, Oona Gleeson, Philip Pronin, Raymond Li, Reah Miyara, Rohan Nuttall, R.J. Marsan, Sara Culver, Scott Ethersmith, Sean Fitzgerald, Shamez Hemani, Sherwin Wu, Shiao Lee, Shuyang Cheng, Siyuan Fu, Spug Golden, Steve Coffey, Steven Heidel, Sundeep Tirumalareddy, Tabarak Khan, Thomas Degry, Thomas Dimson, Tom Stasi, Tomo Hiratsuka, Trevor Creech, Uzair Navid Iftikhar, Victoria Chernova, Victoria Spiegel, Wanning Jiang, Wenlei Xie, Yaming Lin, Yara Khakbaz, Yilei Qian, Yilong Qin, Yo Shavit, Zhi BieExecutive LeadershipBob McGrew, Greg Brockman, Hannah Wong, Jakub Pachocki, Johannes Heidecke, Joanne Jang, Kate Rouch, Kevin Weil, Lauren Itow, Liam Fedus, Mark Chen, Mia Glaese, Mira Murati, Nick Ryder, Sam Altman, Srinivas Narayanan, Tal BrodaOur ResearchResearch IndexResearch OverviewResearch ResidencyLatest AdvancementsOpenAI o1OpenAI o1-miniGPT-4oGPT-4o miniSoraSafetySafety ApproachSecurity & PrivacyChatGPTExplore ChatGPTTeamEnterpriseEducationPricingDownloadSoraSora OverviewFeaturesPricingSora log in(opens in a new window)API PlatformPlatform OverviewPricingAPI log in(opens in a new window)Documentation(opens in a new window)Developer Forum(opens in a new window)For BusinessOverviewCompanyAbout usOur CharterCareersBrandMoreNewsStoriesHelp Center(opens in a new window)Terms & PoliciesTerms of UsePrivacy PolicySecurityOther Policies (opens in a new window)(opens in a new window)(opens in a new window)(opens in a new window)(opens in a new window)(opens in a new window)(opens in a new window)OpenAI © 2015–2025\n",
      "==================================================\n",
      "Iteration 2:\n",
      "Agent Response:\n",
      "Thought: I have gathered detailed information about the features of the GPT-4.5 model, including its advancements in unsupervised learning, improved user intention understanding, creativity enhancements, reduced hallucination rates, and various use cases. Based on this information, I can now provide a comprehensive answer to the user's question. \n",
      "Action: Finish: The GPT-4.5 model boasts several key features: \n",
      "\n",
      "1. **Improved Performance**: It represents a significant advancement in unsupervised learning, enhancing its ability to recognize patterns and generate creative insights.\n",
      "\n",
      "2. **Natural Interactions**: Early tests indicate that interactions with GPT-4.5 feel more natural, aided by a broader knowledge base and an improved capacity to follow user intent.\n",
      "\n",
      "3. **Enhanced Emotional Intelligence (EQ)**: The model displays greater emotional understanding, making it more adept at providing support and nuanced responses in conversations.\n",
      "\n",
      "4. **Reduced Hallucinations**: It shows a lower incidence of incorrect facts or \"hallucinations\" compared to its predecessors.\n",
      "\n",
      "5. **Expanded Use Cases**: It excels in areas like writing assistance, programming, and practical problem-solving, as well as providing more intuitive and contextually aware responses.\n",
      "\n",
      "6. **Training Techniques**: New scalable techniques for training allow for a better grasp of human needs and subtleties in conversational dynamics.\n",
      "\n",
      "7. **High Reliability**: With reduced hallucination rates, GPT-4.5 provides more reliable information across a wider range of topics.\n",
      "\n",
      "8. **Multimodal Capabilities**: It supports image inputs and function calling in its API usage, although certain multimodal features like voice and video are still being developed.\n",
      "\n",
      "Overall, GPT-4.5 is designed to enhance user experience through improved comprehension, creativity, and interaction quality.\n",
      "--------------------\n",
      "Final Answer:\n",
      "The GPT-4.5 model boasts several key features:\n"
     ]
    }
   ],
   "source": [
    "response = react_loop(max_iterations=5, initial_query=\"What are the features of the new GPT-4.5 model?\", llm=llm)"
   ]
  },
  {
   "cell_type": "markdown",
   "metadata": {},
   "source": [
    "## ReAct LangChain\n",
    "\n",
    "Tutorial: https://python.langchain.com/docs/tutorials/agents/"
   ]
  },
  {
   "cell_type": "code",
   "execution_count": 195,
   "metadata": {},
   "outputs": [],
   "source": [
    "from langchain_core.messages import HumanMessage"
   ]
  },
  {
   "cell_type": "code",
   "execution_count": 197,
   "metadata": {},
   "outputs": [
    {
     "data": {
      "text/plain": [
       "'My knowledge cutoff is in October 2021. I do not have information or updates beyond that date. If you have questions or need information relevant to that time or prior, feel free to ask!'"
      ]
     },
     "execution_count": 197,
     "metadata": {},
     "output_type": "execute_result"
    }
   ],
   "source": [
    "response = llm.invoke([HumanMessage(content=\"What is your knowledge cutoff\")])\n",
    "response.content"
   ]
  },
  {
   "cell_type": "code",
   "execution_count": 200,
   "metadata": {},
   "outputs": [
    {
     "data": {
      "text/plain": [
       "Tool(name='local_document_retriever', description=\"Tool which can perform semantic search over several recent documents about AI and also some user's documents. To query, provide a sentence with the meaning of a document you expect to find\", func=<bound method BaseRetriever.invoke of VectorStoreRetriever(tags=['FAISS', 'HuggingFaceEmbeddings'], vectorstore=<langchain_community.vectorstores.faiss.FAISS object at 0x3363487d0>, search_kwargs={'k': 1})>, coroutine=<bound method BaseRetriever.ainvoke of VectorStoreRetriever(tags=['FAISS', 'HuggingFaceEmbeddings'], vectorstore=<langchain_community.vectorstores.faiss.FAISS object at 0x3363487d0>, search_kwargs={'k': 1})>)"
      ]
     },
     "execution_count": 200,
     "metadata": {},
     "output_type": "execute_result"
    }
   ],
   "source": [
    "retriever = vector_store.as_retriever(search_kwargs={\"k\": 1})\n",
    "retrieval_tool = retriever.as_tool(name=\"local_document_retriever\",\n",
    "                                   description=\"Tool which can perform semantic search over several recent documents about AI and also some user's documents. To query, provide a sentence with the meaning of a document you expect to find\")\n",
    "retrieval_tool"
   ]
  },
  {
   "cell_type": "code",
   "execution_count": 201,
   "metadata": {},
   "outputs": [
    {
     "data": {
      "text/plain": [
       "RunnableBinding(bound=ChatOpenAI(client=<openai.resources.chat.completions.completions.Completions object at 0x1373f5d10>, async_client=<openai.resources.chat.completions.completions.AsyncCompletions object at 0x1373fe510>, root_client=<openai.OpenAI object at 0x136ced950>, root_async_client=<openai.AsyncOpenAI object at 0x136d4e270>, model_name='gpt-4o-mini', model_kwargs={}, openai_api_key=SecretStr('**********')), kwargs={'tools': [{'type': 'function', 'function': {'name': 'local_document_retriever', 'description': \"Tool which can perform semantic search over several recent documents about AI and also some user's documents. To query, provide a sentence with the meaning of a document you expect to find\", 'parameters': {'properties': {'__arg1': {'title': '__arg1', 'type': 'string'}}, 'required': ['__arg1'], 'type': 'object'}}}]}, config={}, config_factories=[])"
      ]
     },
     "execution_count": 201,
     "metadata": {},
     "output_type": "execute_result"
    }
   ],
   "source": [
    "tools = [retrieval_tool]\n",
    "model_with_tools = llm.bind_tools(tools)\n",
    "model_with_tools"
   ]
  },
  {
   "cell_type": "code",
   "execution_count": 202,
   "metadata": {},
   "outputs": [
    {
     "name": "stdout",
     "output_type": "stream",
     "text": [
      "ContentString: Hello! How can I assist you today?\n",
      "ToolCalls: []\n"
     ]
    }
   ],
   "source": [
    "response = model_with_tools.invoke([HumanMessage(content=\"Hi!\")])\n",
    "\n",
    "print(f\"ContentString: {response.content}\")\n",
    "print(f\"ToolCalls: {response.tool_calls}\")"
   ]
  },
  {
   "cell_type": "code",
   "execution_count": 203,
   "metadata": {},
   "outputs": [
    {
     "name": "stdout",
     "output_type": "stream",
     "text": [
      "ContentString: \n",
      "ToolCalls: [{'name': 'local_document_retriever', 'args': {'__arg1': 'YouTube script about Kedro'}, 'id': 'call_IfIJu5xXFuOoMeMzAh9mVuRU', 'type': 'tool_call'}]\n"
     ]
    }
   ],
   "source": [
    "response = model_with_tools.invoke([HumanMessage(content=\"What's in my youtube script about kedro?\")])\n",
    "\n",
    "print(f\"ContentString: {response.content}\")\n",
    "print(f\"ToolCalls: {response.tool_calls}\")"
   ]
  },
  {
   "cell_type": "markdown",
   "metadata": {},
   "source": [
    "you can see that we are trying to invoke the tool as previously! but with a bit different interface"
   ]
  },
  {
   "cell_type": "code",
   "execution_count": 204,
   "metadata": {},
   "outputs": [],
   "source": [
    "from langgraph.prebuilt import create_react_agent\n",
    "# Note that we are passing in the model, not model_with_tools. That is because create_react_agent will call .bind_tools for us under the hood.\n",
    "agent_executor = create_react_agent(llm, tools)"
   ]
  },
  {
   "cell_type": "code",
   "execution_count": 206,
   "metadata": {},
   "outputs": [
    {
     "data": {
      "text/plain": [
       "[HumanMessage(content='hi!', additional_kwargs={}, response_metadata={}, id='d1189de0-303a-41c6-b01f-845f9bcb8276'),\n",
       " AIMessage(content='Hello! How can I assist you today?', additional_kwargs={'refusal': None}, response_metadata={'token_usage': {'completion_tokens': 11, 'prompt_tokens': 84, 'total_tokens': 95, 'completion_tokens_details': {'accepted_prediction_tokens': 0, 'audio_tokens': 0, 'reasoning_tokens': 0, 'rejected_prediction_tokens': 0}, 'prompt_tokens_details': {'audio_tokens': 0, 'cached_tokens': 0}}, 'model_name': 'gpt-4o-mini-2024-07-18', 'system_fingerprint': 'fp_e4fa3702df', 'id': 'chatcmpl-BDugp0M4PrJRuEyU9nWCfIDkvRQDp', 'finish_reason': 'stop', 'logprobs': None}, id='run-5d32b86a-910f-4810-a102-c7d954c8348c-0', usage_metadata={'input_tokens': 84, 'output_tokens': 11, 'total_tokens': 95, 'input_token_details': {'audio': 0, 'cache_read': 0}, 'output_token_details': {'audio': 0, 'reasoning': 0}})]"
      ]
     },
     "execution_count": 206,
     "metadata": {},
     "output_type": "execute_result"
    }
   ],
   "source": [
    "response = agent_executor.invoke({\"messages\": [HumanMessage(content=\"hi!\")]})\n",
    "response[\"messages\"]"
   ]
  },
  {
   "cell_type": "code",
   "execution_count": 207,
   "metadata": {},
   "outputs": [],
   "source": [
    "response = agent_executor.invoke(\n",
    "    {\"messages\": [HumanMessage(content=\"What are the chapters in my youtube script about kedro??\")]}\n",
    ")"
   ]
  },
  {
   "cell_type": "code",
   "execution_count": 208,
   "metadata": {},
   "outputs": [
    {
     "data": {
      "text/plain": [
       "4"
      ]
     },
     "execution_count": 208,
     "metadata": {},
     "output_type": "execute_result"
    }
   ],
   "source": [
    "len(response[\"messages\"])"
   ]
  },
  {
   "cell_type": "code",
   "execution_count": 209,
   "metadata": {},
   "outputs": [
    {
     "data": {
      "text/plain": [
       "HumanMessage(content='What are the chapters in my youtube script about kedro??', additional_kwargs={}, response_metadata={}, id='13956518-be57-46e7-81e7-eb356187f094')"
      ]
     },
     "execution_count": 209,
     "metadata": {},
     "output_type": "execute_result"
    }
   ],
   "source": [
    "response[\"messages\"][0]"
   ]
  },
  {
   "cell_type": "code",
   "execution_count": 210,
   "metadata": {},
   "outputs": [
    {
     "data": {
      "text/plain": [
       "[{'name': 'local_document_retriever',\n",
       "  'args': {'__arg1': 'youtube script about kedro chapters'},\n",
       "  'id': 'call_opVZ0ckG0XkzZroaLXhGxysC',\n",
       "  'type': 'tool_call'}]"
      ]
     },
     "execution_count": 210,
     "metadata": {},
     "output_type": "execute_result"
    }
   ],
   "source": [
    "response[\"messages\"][1].tool_calls"
   ]
  },
  {
   "cell_type": "code",
   "execution_count": 211,
   "metadata": {},
   "outputs": [
    {
     "data": {
      "text/plain": [
       "ToolMessage(content=\"[Document(id='115eb7db-3a45-4c1b-94de-5a7b34a1a335', metadata={'source': 'documents/Tackling the ML Reproducibility Curse with the Kedro-MLflow Plugin description.txt'}, page_content='Dive into the power of the Kedro-MLflow plugin — a seamless integration of Kedro’s robust pipeline management with MLflow’s comprehensive experiment tracking and model registry. In this video, we explore how combining these two frameworks can resolve the reproducibility challenges that often plague modern ML solutions.\\\\n\\\\nChapters:\\\\n00:00 – Introduction\\\\n01:29 – Use-Case Study: The Spaceflights Tutorial\\\\n05:49 – Solution Pipeline Overview\\\\n11:03 – Defining the Reproducibility Problem\\\\n14:21 – Exploring Kedro-viz\\\\n19:40 – Kedro Project Structure\\\\n23:37 – Deep Dive: ETL Application\\\\n27:17 – Deep Dive: ML Application\\\\n27:44 – Kedro-MLflow Plugin in Action\\\\n37:43 – Advanced Usage: Pipeline as a Model\\\\n39:43 – Testing the Inference Pipeline\\\\n48:42 – Kedro Context in Jupyter Notebook\\\\n56:21 – Conclusion\\\\n\\\\nLinks:\\\\n• Tutorial used in the video: https://github.com/OlegBEZb/kedro_mlf...\\\\n• Kedro-MLflow plugin: https://github.com/Galileo-Galilei/ke...\\\\n• MLflow: https://mlflow.org/docs/latest/index....\\\\n• Kedro: https://kedro.org/\\\\n• First-party plugins maintained by the Kedro team: https://github.com/kedro-org/kedro-pl...\\\\n• Original Kedro-MLflow Tutorial which I used a lot: https://github.com/Galileo-Galilei/ke...\\\\n• Kedro spaceflights tutorial: https://docs.kedro.org/en/stable/tuto...\\\\n\\\\nConnect with Me:\\\\n • Telegram: https://t.me/DeepStuffChannel')]\", name='local_document_retriever', id='024c1a2c-fac1-4dd5-8d4b-0697a5d48739', tool_call_id='call_opVZ0ckG0XkzZroaLXhGxysC')"
      ]
     },
     "execution_count": 211,
     "metadata": {},
     "output_type": "execute_result"
    }
   ],
   "source": [
    "response[\"messages\"][2]"
   ]
  },
  {
   "cell_type": "code",
   "execution_count": 213,
   "metadata": {},
   "outputs": [
    {
     "name": "stdout",
     "output_type": "stream",
     "text": [
      "The chapters in your YouTube script about Kedro are as follows:\n",
      "\n",
      "1. **00:00 – Introduction**\n",
      "2. **01:29 – Use-Case Study: The Spaceflights Tutorial**\n",
      "3. **05:49 – Solution Pipeline Overview**\n",
      "4. **11:03 – Defining the Reproducibility Problem**\n",
      "5. **14:21 – Exploring Kedro-viz**\n",
      "6. **19:40 – Kedro Project Structure**\n",
      "7. **23:37 – Deep Dive: ETL Application**\n",
      "8. **27:17 – Deep Dive: ML Application**\n",
      "9. **27:44 – Kedro-MLflow Plugin in Action**\n",
      "10. **37:43 – Advanced Usage: Pipeline as a Model**\n",
      "11. **39:43 – Testing the Inference Pipeline**\n",
      "12. **48:42 – Kedro Context in Jupyter Notebook**\n",
      "13. **56:21 – Conclusion**\n",
      "\n",
      "Let me know if you need more details on any specific chapter!\n"
     ]
    }
   ],
   "source": [
    "print(response[\"messages\"][3].content)"
   ]
  },
  {
   "cell_type": "markdown",
   "metadata": {},
   "source": [
    "### Multi-step"
   ]
  },
  {
   "cell_type": "code",
   "execution_count": 215,
   "metadata": {},
   "outputs": [],
   "source": [
    "response = agent_executor.invoke(\n",
    "    {\"messages\": [HumanMessage(content=\"Compare the new features of GPT-4.5 and o3-mini. Both are from OpenAI\")]}\n",
    ")"
   ]
  },
  {
   "cell_type": "code",
   "execution_count": 216,
   "metadata": {},
   "outputs": [
    {
     "data": {
      "text/plain": [
       "5"
      ]
     },
     "execution_count": 216,
     "metadata": {},
     "output_type": "execute_result"
    }
   ],
   "source": [
    "len(response[\"messages\"])"
   ]
  },
  {
   "cell_type": "code",
   "execution_count": 217,
   "metadata": {},
   "outputs": [
    {
     "data": {
      "text/plain": [
       "[{'name': 'local_document_retriever',\n",
       "  'args': {'__arg1': 'features of GPT-4.5 compared to earlier versions like GPT-4'},\n",
       "  'id': 'call_KTsC3mVqHL7ucz5U68aFjdkq',\n",
       "  'type': 'tool_call'},\n",
       " {'name': 'local_document_retriever',\n",
       "  'args': {'__arg1': 'features of OpenAI o3-mini'},\n",
       "  'id': 'call_SCjdhdyB1Zbf7NNCps4saMXc',\n",
       "  'type': 'tool_call'}]"
      ]
     },
     "execution_count": 217,
     "metadata": {},
     "output_type": "execute_result"
    }
   ],
   "source": [
    "response[\"messages\"][1].tool_calls"
   ]
  },
  {
   "cell_type": "code",
   "execution_count": 218,
   "metadata": {},
   "outputs": [
    {
     "data": {
      "text/plain": [
       "(langchain_core.messages.tool.ToolMessage,\n",
       " \"[Document(id='da86015b-b455-4ead-9d22-43edad109fe5', metadata={'source': 'documents/Introducing GPT-4.5 _ OpenAI.html'}, page_content='Introducing GPT-4.5 | OpenAISkip to main contentLog inSwitch toChatGPT(opens in a new window)Sora(opens in a new window)API Platform(opens in a new window)HomeResearch IndexResearch OverviewResearch ResidencyLatest AdvancementsGPT-4.5OpenAI o3-miniOpenAI o1OpenAI o1-miniGPT-4oGPT-4o miniSoraResearchBack to main menuResearch IndexResearch OverviewResearch ResidencyLatest AdvancementsGPT-4.5OpenAI o3-miniOpenAI o1OpenAI o1-miniGPT-4oGPT-4o miniSoraSafetyBack to main menuSafety ApproachSecurity & PrivacyChatGPTBack to main menuExplore ChatGPTTeamEnterpriseEducationPricingDownloadSoraBack to main menuSora OverviewFeaturesPricingHelp center(opens in a new window)Sora log in(opens in a new window)API PlatformBack to main menuPlatform OverviewPricingAPI Log in(opens in a new window)Documentation(opens in a new window)Developer Forum(opens in a new window)For B\")"
      ]
     },
     "execution_count": 218,
     "metadata": {},
     "output_type": "execute_result"
    }
   ],
   "source": [
    "type(response[\"messages\"][2]), response[\"messages\"][2].content[:1000]"
   ]
  },
  {
   "cell_type": "code",
   "execution_count": 219,
   "metadata": {},
   "outputs": [
    {
     "data": {
      "text/plain": [
       "(langchain_core.messages.tool.ToolMessage,\n",
       " '[Document(id=\\'185e6b3c-900c-47f8-a0e0-8773e14fb218\\', metadata={\\'source\\': \\'documents/OpenAI o3-mini _ OpenAI.html\\'}, page_content=\"OpenAI o3-mini | OpenAISkip to main contentLog inSwitch toChatGPT(opens in a new window)Sora(opens in a new window)API Platform(opens in a new window)HomeResearch IndexResearch OverviewResearch ResidencyLatest AdvancementsGPT-4.5OpenAI o3-miniOpenAI o1OpenAI o1-miniGPT-4oGPT-4o miniSoraResearchBack to main menuResearch IndexResearch OverviewResearch ResidencyLatest AdvancementsGPT-4.5OpenAI o3-miniOpenAI o1OpenAI o1-miniGPT-4oGPT-4o miniSoraSafetyBack to main menuSafety ApproachSecurity & PrivacyChatGPTBack to main menuExplore ChatGPTTeamEnterpriseEducationPricingDownloadSoraBack to main menuSora OverviewFeaturesPricingHelp center(opens in a new window)Sora log in(opens in a new window)API PlatformBack to main menuPlatform OverviewPricingAPI Log in(opens in a new window)Documentation(opens in a new window)Developer Forum(opens in a new window)For BusinessSto')"
      ]
     },
     "execution_count": 219,
     "metadata": {},
     "output_type": "execute_result"
    }
   ],
   "source": [
    "type(response[\"messages\"][3]), response[\"messages\"][3].content[:1000]"
   ]
  },
  {
   "cell_type": "code",
   "execution_count": 220,
   "metadata": {},
   "outputs": [
    {
     "name": "stdout",
     "output_type": "stream",
     "text": [
      "Here’s a comparative overview of the new features of GPT-4.5 and OpenAI o3-mini based on the recent documents from OpenAI:\n",
      "\n",
      "### GPT-4.5 Features\n",
      "1. **Scaling Knowledge and Reasoning**:\n",
      "   - **Enhancements in Unsupervised Learning**: GPT-4.5 utilizes improved pre-training methods to scale its unsupervised learning capabilities. This results in better pattern recognition and creative insight generation.\n",
      "   - **Natural Conversational Abilities**: Interactions with GPT-4.5 are described as feeling more natural, with an improved ability to follow user intent and demonstrate emotional awareness (EQ).\n",
      "\n",
      "2. **Capacity and Reliability**:\n",
      "   - **Knowledge Base Expansion**: The model exhibits broader knowledge and a deeper understanding of various subjects, resulting in reduced instances of hallucination (off-base or incorrect responses).\n",
      "\n",
      "3. **Training Methodology**:\n",
      "   - Integration of new training techniques to enhance human collaboration, enabling the model to be more responsive to nuanced user needs.\n",
      "\n",
      "4. **Safety and Alignment**:\n",
      "   - Enhanced training for safety, utilizing new supervision techniques alongside traditional fine-tuning and reinforcement learning approaches.\n",
      "\n",
      "5. **Versatility in Use Cases**:\n",
      "   - Demonstrated strong performance in diverse applications including writing, programming, and complex problem-solving.\n",
      "\n",
      "6. **Accessibility and Integration**:\n",
      "   - Available through ChatGPT for Pro users, supporting file and image uploads, as well as direct searches for updated information.\n",
      "\n",
      "### OpenAI o3-mini Features\n",
      "1. **Optimized for STEM Reasoning**:\n",
      "   - Specifically designed for science, mathematics, and coding, o3-mini is noted for its fast performance and cost-effectiveness in reasoning tasks.\n",
      "\n",
      "2. **Developer-Focused Features**:\n",
      "   - Introduces capabilities such as function calling, structured outputs, and developer messages, making it suitable for production-level applications.\n",
      "\n",
      "3. **Reasoning Effort Customization**:\n",
      "   - Developers can choose among low, medium, and high reasoning efforts to tailor performance based on their specific needs, addressing either complexity or speed.\n",
      "\n",
      "4. **Speed Enhancements**:\n",
      "   - Achieves faster response times than its predecessor, OpenAI o1-mini, which is beneficial for real-time applications.\n",
      "\n",
      "5. **Accuracy in Technical Domains**:\n",
      "   - Offers significant improvements in accuracy, particularly in complex STEM challenges, where tester preferences favored o3-mini’s responses over older models.\n",
      "\n",
      "6. **Accessibility and Availability**:\n",
      "   - First time a reasoning model available to free users through ChatGPT, showcasing a commitment to making advanced capabilities accessible to a wider audience.\n",
      "\n",
      "### Summary\n",
      "- **GPT-4.5** focuses on enhancing natural conversation, broad knowledge acquisition, and emotional intelligence, making it suitable across a wider range of uses.\n",
      "- **o3-mini**, on the other hand, is particularly tuned for rapid, accurate responses in STEM fields, catering to developers with features that support high-speed reasoning and structured outputs.\n",
      "\n",
      "Both models represent significant advancements in AI's capabilities, with GPT-4.5 emphasizing conversational context and emotional intelligence, while o3-mini excels in technical reasoning and functionality tailored for developers.\n"
     ]
    }
   ],
   "source": [
    "print(response[\"messages\"][4].content)"
   ]
  },
  {
   "cell_type": "markdown",
   "metadata": {},
   "source": [
    "Agent architectures from langchain: https://langchain-ai.github.io/langgraph/concepts/agentic_concepts/#react-implementation  \n",
    "Reflexion technique: https://langchain-ai.github.io/langgraph/tutorials/reflexion/reflexion/#revision   \n",
    "Andrej Karpathy about tool usage in LLMs via special tokens: https://youtu.be/7xTGNNLPyMI?si=WOubv1lHz7YbN_uA&t=5613"
   ]
  },
  {
   "cell_type": "markdown",
   "metadata": {},
   "source": [
    "# Multi-Agent RAG\n",
    "\n",
    "Let's assume that our document collection requires a split. And each collection is stored in it's own vector index. Each index is wrapped into a tool. Let's also assume that these tools are so complicated that one agent will not be able to handle two at a time. What if we have two agents each of them is a expert of dealing with its own tool.\n",
    "\n",
    "https://langchain-ai.github.io/langgraph/tutorials/multi_agent/agent_supervisor/"
   ]
  },
  {
   "cell_type": "code",
   "execution_count": 222,
   "metadata": {},
   "outputs": [
    {
     "data": {
      "text/plain": [
       "9"
      ]
     },
     "execution_count": 222,
     "metadata": {},
     "output_type": "execute_result"
    }
   ],
   "source": [
    "file_paths = [\"calculus_scripts/\" + file for file in os.listdir(\"calculus_scripts\")]\n",
    "calculus_scripts = load_documents(file_paths)\n",
    "len(documents)"
   ]
  },
  {
   "cell_type": "code",
   "execution_count": 223,
   "metadata": {},
   "outputs": [],
   "source": [
    "langchain_calculus_documents = [Document(\n",
    "    page_content=d[\"page_content\"],\n",
    "    metadata=d[\"metadata\"],\n",
    ") for d in calculus_scripts\n",
    "]\n",
    "uuids = [str(uuid4()) for _ in range(len(langchain_calculus_documents))]"
   ]
  },
  {
   "cell_type": "code",
   "execution_count": 224,
   "metadata": {},
   "outputs": [
    {
     "data": {
      "text/plain": [
       "['4c64c135-e9a7-4305-bfac-159f21fc634c',\n",
       " '764c0761-3231-4284-bb77-bd4044eadd32',\n",
       " '760f2b2c-f6ed-4d1e-999d-ddd1b3f17269',\n",
       " 'e33d5733-c0ce-43cf-a12f-11a7ee65f148',\n",
       " '17bd86dc-88b4-45e8-b683-54a1d7be9a8f',\n",
       " '02fc1093-62fc-4074-a4bf-af3fdf97b05b']"
      ]
     },
     "execution_count": 224,
     "metadata": {},
     "output_type": "execute_result"
    }
   ],
   "source": [
    "index = faiss.IndexFlatL2(len(embedding_model.embed_query(\"get embedding dim\")))\n",
    "\n",
    "calculus_vector_store = FAISS(\n",
    "    embedding_function=embedding_model,\n",
    "    index=index,\n",
    "    docstore=InMemoryDocstore(),\n",
    "    index_to_docstore_id={},\n",
    ")\n",
    "calculus_vector_store.add_documents(documents=langchain_calculus_documents, ids=uuids)"
   ]
  },
  {
   "cell_type": "code",
   "execution_count": 225,
   "metadata": {},
   "outputs": [
    {
     "data": {
      "text/plain": [
       "Tool(name='local_calculus_document_retriever', description=\"Tool which can perform semantic search only over descriptions of my calculus videos on YouTube. To query, provide a sentence with the meaning of a document you expect to find. It's important to use precise terms related to calculus.\", func=<bound method BaseRetriever.invoke of VectorStoreRetriever(tags=['FAISS', 'HuggingFaceEmbeddings'], vectorstore=<langchain_community.vectorstores.faiss.FAISS object at 0x321c66490>, search_kwargs={'k': 1})>, coroutine=<bound method BaseRetriever.ainvoke of VectorStoreRetriever(tags=['FAISS', 'HuggingFaceEmbeddings'], vectorstore=<langchain_community.vectorstores.faiss.FAISS object at 0x321c66490>, search_kwargs={'k': 1})>)"
      ]
     },
     "execution_count": 225,
     "metadata": {},
     "output_type": "execute_result"
    }
   ],
   "source": [
    "calculus_retriever = calculus_vector_store.as_retriever(search_kwargs={\"k\": 1})\n",
    "calculus_documents_tool = calculus_retriever.as_tool(name=\"local_calculus_document_retriever\",\n",
    "                                                     description=\"Tool which can perform semantic search only over descriptions of my calculus videos on YouTube. To query, provide a sentence with the meaning of a document you expect to find. It's important to use precise terms related to calculus.\")\n",
    "calculus_documents_tool"
   ]
  },
  {
   "cell_type": "code",
   "execution_count": null,
   "metadata": {},
   "outputs": [],
   "source": [
    "from typing import Literal\n",
    "from typing_extensions import TypedDict\n",
    "\n",
    "from langgraph.graph import MessagesState, END, StateGraph, START\n",
    "from langgraph.types import Command\n",
    "\n",
    "\n",
    "members = [\"common_document_retriever\", \"calculus_document_retriever\"]\n",
    "# Our team supervisor is an LLM node. It just picks the next agent to process\n",
    "# and decides when the work is completed\n",
    "options = members + [\"FINISH\"]\n",
    "\n",
    "system_prompt = (\n",
    "    \"You are a supervisor tasked with managing a conversation between the\"\n",
    "    f\" following workers: {members}. Given the following user request,\"\n",
    "    \" respond with the worker to act next. Each worker will perform a\"\n",
    "    \" task and respond with their results and status. When finished,\"\n",
    "    \" respond with FINISH.\"\n",
    ")\n",
    "\n",
    "\n",
    "class Router(TypedDict):\n",
    "    \"\"\"Worker to route to next. If no workers needed, route to FINISH.\"\"\"\n",
    "\n",
    "    next: Literal[*options]"
   ]
  },
  {
   "cell_type": "code",
   "execution_count": 227,
   "metadata": {},
   "outputs": [
    {
     "data": {
      "text/plain": [
       "typing.Literal['common_document_retriever', 'calculus_document_retriever', 'FINISH']"
      ]
     },
     "execution_count": 227,
     "metadata": {},
     "output_type": "execute_result"
    }
   ],
   "source": [
    "Literal[*options]"
   ]
  },
  {
   "cell_type": "code",
   "execution_count": 228,
   "metadata": {},
   "outputs": [
    {
     "data": {
      "text/plain": [
       "{'next': 'calculus_document_retriever'}"
      ]
     },
     "execution_count": 228,
     "metadata": {},
     "output_type": "execute_result"
    }
   ],
   "source": [
    "messages = [\n",
    "    {\"role\": \"user\", \"content\": \"I probably have to query the calculus database\"}\n",
    "]\n",
    "llm.with_structured_output(Router).invoke(messages)"
   ]
  },
  {
   "cell_type": "code",
   "execution_count": 229,
   "metadata": {},
   "outputs": [
    {
     "data": {
      "text/plain": [
       "{'next': 'common_document_retriever'}"
      ]
     },
     "execution_count": 229,
     "metadata": {},
     "output_type": "execute_result"
    }
   ],
   "source": [
    "messages = [\n",
    "    {\"role\": \"user\", \"content\": \"I probably have to query the common database\"}\n",
    "]\n",
    "llm.with_structured_output(Router).invoke(messages)"
   ]
  },
  {
   "cell_type": "code",
   "execution_count": 230,
   "metadata": {},
   "outputs": [
    {
     "data": {
      "text/plain": [
       "{'next': 'FINISH'}"
      ]
     },
     "execution_count": 230,
     "metadata": {},
     "output_type": "execute_result"
    }
   ],
   "source": [
    "messages = [\n",
    "    {\"role\": \"user\", \"content\": \"Here is the final answer: do some vibe coding.\"}\n",
    "]\n",
    "llm.with_structured_output(Router).invoke(messages)"
   ]
  },
  {
   "cell_type": "code",
   "execution_count": 231,
   "metadata": {},
   "outputs": [],
   "source": [
    "class State(MessagesState):\n",
    "    next: str\n",
    "\n",
    "\n",
    "def supervisor_node(state: State) -> Command[Literal[*members, \"__end__\"]]:\n",
    "    messages = [\n",
    "        {\"role\": \"system\", \"content\": system_prompt},\n",
    "    ] + state[\"messages\"]\n",
    "    response = llm.with_structured_output(Router).invoke(messages)\n",
    "    goto = response[\"next\"]\n",
    "    if goto == \"FINISH\":\n",
    "        goto = END\n",
    "\n",
    "    return Command(goto=goto, update={\"next\": goto})"
   ]
  },
  {
   "cell_type": "code",
   "execution_count": 257,
   "metadata": {},
   "outputs": [],
   "source": [
    "# the same func we used in the ReAct LangChain section\n",
    "document_agent = create_react_agent(\n",
    "    llm, tools=[retrieval_tool], prompt=\"You are an expert in a semantic search over various kind or articles about AI and other documents including even generic YouTube video descriptions. Do not ask the tool about what you do not expect to find in the documents. Do not use the tool more than once if not needed.\"\n",
    ")\n",
    "\n",
    "def document_node(state: State) -> Command[Literal[\"supervisor\"]]:\n",
    "    result = document_agent.invoke(state)\n",
    "    return Command(\n",
    "        update={\n",
    "            \"messages\": [\n",
    "                # simulating agents communication with each other\n",
    "                HumanMessage(content=result[\"messages\"][-1].content, name=\"common_document_retriever\")\n",
    "            ]\n",
    "        },\n",
    "        goto=\"supervisor\",\n",
    "    )"
   ]
  },
  {
   "cell_type": "code",
   "execution_count": 258,
   "metadata": {},
   "outputs": [],
   "source": [
    "calculus_document_agent = create_react_agent(\n",
    "    llm, tools=[calculus_documents_tool], prompt=\"You are an expert in a semantic search over YouTube video descriptions about calculus. Query the tool only about the calculus documents. Do not use the tool more than once if not needed.\"\n",
    ")\n",
    "\n",
    "def calculus_document_node(state: State) -> Command[Literal[\"supervisor\"]]:\n",
    "    result = calculus_document_agent.invoke(state)\n",
    "    return Command(\n",
    "        update={\n",
    "            \"messages\": [\n",
    "                HumanMessage(content=result[\"messages\"][-1].content, name=\"calculus_document_retriever\")\n",
    "            ]\n",
    "        },\n",
    "        goto=\"supervisor\",\n",
    "    )\n",
    "\n",
    "\n",
    "builder = StateGraph(State)\n",
    "builder.add_edge(START, \"supervisor\")\n",
    "builder.add_node(\"supervisor\", supervisor_node)\n",
    "builder.add_node(\"common_document_retriever\", document_node)\n",
    "builder.add_node(\"calculus_document_retriever\", calculus_document_node)\n",
    "graph = builder.compile()"
   ]
  },
  {
   "cell_type": "code",
   "execution_count": 259,
   "metadata": {},
   "outputs": [
    {
     "data": {
      "image/png": "[encoded data removed]",
      "text/plain": [
       "<IPython.core.display.Image object>"
      ]
     },
     "metadata": {},
     "output_type": "display_data"
    }
   ],
   "source": [
    "from IPython.display import display, Image\n",
    "\n",
    "display(Image(graph.get_graph().draw_mermaid_png()))"
   ]
  },
  {
   "cell_type": "code",
   "execution_count": null,
   "metadata": {},
   "outputs": [
    {
     "name": "stdout",
     "output_type": "stream",
     "text": [
      "((), {'supervisor': {'next': 'common_document_retriever'}})\n",
      "----------------------------------------------------------------------------------------------------\n",
      "(('common_document_retriever:e0e92653-1fe5-572a-8845-8356cebe0f50',), {'agent': {'messages': [AIMessage(content='', additional_kwargs={'tool_calls': [{'id': 'call_oiCoYYtQbpwNGRJ6VrYI8zb8', 'function': {'arguments': '{\"__arg1\": \"number of chapters in a video about kedro-mlflow\"}', 'name': 'local_document_retriever'}, 'type': 'function'}, {'id': 'call_UD3LIlCuPBvPFQclzTeFb1HI', 'function': {'arguments': '{\"__arg1\": \"number of chapters in a video about infinite sequences in calculus\"}', 'name': 'local_document_retriever'}, 'type': 'function'}], 'refusal': None}, response_metadata={'token_usage': {'completion_tokens': 76, 'prompt_tokens': 159, 'total_tokens': 235, 'completion_tokens_details': {'accepted_prediction_tokens': 0, 'audio_tokens': 0, 'reasoning_tokens': 0, 'rejected_prediction_tokens': 0}, 'prompt_tokens_details': {'audio_tokens': 0, 'cached_tokens': 0}}, 'model_name': 'gpt-4o-mini-2024-07-18', 'system_fingerprint': 'fp_e4fa3702df', 'id': 'chatcmpl-BDvq1uwZAT3YMQlm32zlPtXEFbCdW', 'finish_reason': 'tool_calls', 'logprobs': None}, id='run-a5c2b951-47d7-4ffa-a62f-4d709af9a476-0', tool_calls=[{'name': 'local_document_retriever', 'args': {'__arg1': 'number of chapters in a video about kedro-mlflow'}, 'id': 'call_oiCoYYtQbpwNGRJ6VrYI8zb8', 'type': 'tool_call'}, {'name': 'local_document_retriever', 'args': {'__arg1': 'number of chapters in a video about infinite sequences in calculus'}, 'id': 'call_UD3LIlCuPBvPFQclzTeFb1HI', 'type': 'tool_call'}], usage_metadata={'input_tokens': 159, 'output_tokens': 76, 'total_tokens': 235, 'input_token_details': {'audio': 0, 'cache_read': 0}, 'output_token_details': {'audio': 0, 'reasoning': 0}})]}})\n",
      "----------------------------------------------------------------------------------------------------\n",
      "(('common_document_retriever:e0e92653-1fe5-572a-8845-8356cebe0f50',), {'tools': {'messages': [ToolMessage(content=\"[Document(id='115eb7db-3a45-4c1b-94de-5a7b34a1a335', metadata={'source': 'documents/Tackling the ML Reproducibility Curse with the Kedro-MLflow Plugin description.txt'}, page_content='Dive into the power of the Kedro-MLflow plugin — a seamless integration of Kedro’s robust pipeline management with MLflow’s comprehensive experiment tracking and model registry. In this video, we explore how combining these two frameworks can resolve the reproducibility challenges that often plague modern ML solutions.\\\\n\\\\nChapters:\\\\n00:00 – Introduction\\\\n01:29 – Use-Case Study: The Spaceflights Tutorial\\\\n05:49 – Solution Pipeline Overview\\\\n11:03 – Defining the Reproducibility Problem\\\\n14:21 – Exploring Kedro-viz\\\\n19:40 – Kedro Project Structure\\\\n23:37 – Deep Dive: ETL Application\\\\n27:17 – Deep Dive: ML Application\\\\n27:44 – Kedro-MLflow Plugin in Action\\\\n37:43 – Advanced Usage: Pipeline as a Model\\\\n39:43 – Testing the Inference Pipeline\\\\n48:42 – Kedro Context in Jupyter Notebook\\\\n56:21 – Conclusion\\\\n\\\\nLinks:\\\\n• Tutorial used in the video: https://github.com/OlegBEZb/kedro_mlf...\\\\n• Kedro-MLflow plugin: https://github.com/Galileo-Galilei/ke...\\\\n• MLflow: https://mlflow.org/docs/latest/index....\\\\n• Kedro: https://kedro.org/\\\\n• First-party plugins maintained by the Kedro team: https://github.com/kedro-org/kedro-pl...\\\\n• Original Kedro-MLflow Tutorial which I used a lot: https://github.com/Galileo-Galilei/ke...\\\\n• Kedro spaceflights tutorial: https://docs.kedro.org/en/stable/tuto...\\\\n\\\\nConnect with Me:\\\\n • Telegram: https://t.me/DeepStuffChannel')]\", name='local_document_retriever', id='86e06104-c790-4c64-b93c-719ed6d2b28f', tool_call_id='call_oiCoYYtQbpwNGRJ6VrYI8zb8'), ToolMessage(content='[Document(id=\\'da86015b-b455-4ead-9d22-43edad109fe5\\', metadata={\\'source\\': \\'documents/Introducing GPT-4.5 _ OpenAI.html\\'}, page_content=\\'Introducing GPT-4.5 | OpenAISkip to main contentLog inSwitch toChatGPT(opens in a new window)Sora(opens in a new window)API Platform(opens in a new window)HomeResearch IndexResearch OverviewResearch ResidencyLatest AdvancementsGPT-4.5OpenAI o3-miniOpenAI o1OpenAI o1-miniGPT-4oGPT-4o miniSoraResearchBack to main menuResearch IndexResearch OverviewResearch ResidencyLatest AdvancementsGPT-4.5OpenAI o3-miniOpenAI o1OpenAI o1-miniGPT-4oGPT-4o miniSoraSafetyBack to main menuSafety ApproachSecurity & PrivacyChatGPTBack to main menuExplore ChatGPTTeamEnterpriseEducationPricingDownloadSoraBack to main menuSora OverviewFeaturesPricingHelp center(opens in a new window)Sora log in(opens in a new window)API PlatformBack to main menuPlatform OverviewPricingAPI Log in(opens in a new window)Documentation(opens in a new window)Developer Forum(opens in a new window)For BusinessStoriesCompanyBack to main menuAbout usOur CharterCareersBrandOverviewLogosGalleryPartnershipsTypographyLanguageContactNewsLog inOpenAITable of contentsScaling unsupervised learningTraining for human collaborationStronger reasoning on the horizonSafetyHow to use GPT-4.5 in ChatGPTHow to use GPT-4.5 in the APIConclusionAppendixFebruary 27, 2025ReleaseProductIntroducing GPT-4.5A research preview of our strongest GPT model. Available to Pro users and developers worldwide.Try in ChatGPT(opens in a new window)ShareWe’re releasing a research preview of GPT‑4.5—our largest and best model for chat yet. GPT‑4.5 is a step forward in scaling up pre-training and post-training. By scaling unsupervised learning, GPT‑4.5 improves its ability to recognize patterns, draw connections, and generate creative insights without reasoning.Early testing shows that interacting with GPT‑4.5 feels more natural. Its broader knowledge base, improved ability to follow user intent, and greater “EQ” make it useful for tasks like improving writing, programming, and solving practical problems. We also expect it to hallucinate less.We’re sharing GPT‑4.5 as a research preview to better understand its strengths and limitations. We’re still exploring what it’s capable of and are eager to see how people use it in ways we might not have expected.Scaling unsupervised learningWe advance AI capabilities by scaling two complementary paradigms: unsupervised learning and reasoning. These represent two axes of intelligence.Unsupervised learning increases world model accuracy and intuition. Models like GPT‑3.5, GPT‑4, and GPT‑4.5 advance this paradigm. Scaling reasoning\\\\u2060, on the other hand, teaches models to think and produce a chain of thought before they respond, allowing them to tackle complex STEM or logic problems. Models like OpenAI o1 and OpenAI o3‑mini advance this paradigm. GPT‑4.5 is an example of scaling unsupervised learning by scaling up compute and data, along with architecture and optimization innovations. GPT‑4.5 was trained on Microsoft Azure AI supercomputers. The result is a model that has broader knowledge and a deeper understanding of the world, leading to reduced hallucinations and more reliability across a wide range of topics. Scaling the GPT paradigmGPT-4.5 (2025)What was the first language?We don\\\\\\'t know exactly what the first language was, and scientists believe we\\\\\\'ll probably never know for sure because spoken languages appeared long before written records existed.Here\\\\\\'s what we do know:No single \"first language\": Languages likely developed gradually in different groups of humans around the same time, tens or even hundreds of thousands of years ago.Origin in Africa: Most scientists agree that spoken language probably first emerged among humans in Africa, perhaps over 100,000 years ago.Proto-languages: Rather than a single language, humans likely started with simple communication that evolved into more complex languages. The earliest forms of language probably included gestures, sounds, and signals to express basic ideas and emotions.Lost to history: Because speech leaves no direct fossil record, and writing emerged relatively recently (around 5,000 years ago), we have no way to know exactly how the earliest languages sounded.Today, linguists study existing languages to understand how they evolved over thousands of years, but the exact identity of humanity’s very first language remains—and will likely always remain—a mystery.Deeper world knowledgeSimpleQA Accuracy (higher is better)62.5%38.2%47%15%AccuracySimpleQA Hallucination Rate (lower is better)37.1%61.8%44%80.3%Hallucination rateSimpleQA measures LLM (large language model) factuality on straightforward but challenging knowledge questions.Training for human collaborationAs we scale our models and they solve more complex problems, it becomes increasingly important to teach them a greater understanding of human needs and intent. For GPT‑4.5, we developed new, scalable techniques that enable training larger and more powerful models with data derived from smaller models. These techniques improve GPT‑4.5’s steerability, understanding of nuance, and natural conversation.Comparative evaluations with human testers56.8%63.2%57.0%GPT-4.5 win-rate vs GPT-4oHuman preference measures the percentage of queries where testers preferred GPT‑4.5 over GPT‑4o.Combining deep understanding of the world with improved collaboration results in a model that integrates ideas naturally in warm and intuitive conversations that are more attuned to human collaboration. GPT‑4.5 has a better understanding of what humans mean and interprets subtle cues or implicit expectations with greater nuance and “EQ”. GPT‑4.5 also shows stronger aesthetic intuition and creativity. It excels at helping with writing and design.Use casesHelp through a tough timeIdentify a paintingSpace explorationHelp through a tough timeIdentify a paintingSpace explorationGPT-4.5I’m going through a tough time after failing a testAw, I\\\\\\'m really sorry to hear that. Failing a test can feel pretty tough and discouraging, but remember, it\\\\\\'s just one moment—not a reflection of who you are or your capabilities. Want to talk about what happened, or do you just need a distraction? I\\\\\\'m here either way.GPT-4oI’m going through a tough time after failing a testI\\\\\\'m really sorry to hear that you\\\\\\'re going through a tough time. Here are a few things you might consider:1. Reflect and Understand: Try to analyze what might have gone wrong. Was it a lack of preparation, time management during the test, or perhaps misunderstanding the material? Understanding the root cause can help you address it in the future.2. Seek Support: Talk to someone you trust—friends, family, or a school counselor. They can offer a different perspective and sometimes just talking about your feelings can be alleviating.3. Speak with Your Teacher or Professor: They can provide insights into where you might have gone wrong and offer advice on how to improve. They might also offer opportunities for make-up work or extra credit.4. Develop a Study Plan: Based on your reflections, create a plan to improve your study habits. This might include setting regular study times, breaking down material into manageable portions, or finding new study methods that work better for you.5. Stay Positive and Forgive Yourself: Mistakes and setbacks are a part of life. It’s important to be kind to yourself and recognize that failure is a stepping stone to success.6. Focus on the Bigger Picture: Remember that one test is just one part of your educational journey. There will be many more opportunities to do well.If you need further support or resources, consider reaching out to educational support services at your institution, or mental health resources if you’re feeling particularly overwhelmed. You’re not alone in this, and things can get better with time and effort.GPT‑4.5 shows greater “EQ” and knows when to invite further conversation versus when to provide the user with extensive information.GPT-4.5What\\\\\\'s that one old painting where women set their boat on fire because they\\\\\\'re tired of moving? I think it has to do with RomeYou\\\\\\'re thinking of \"The Trojan Women Setting Fire to Their Fleet\" by the French painter Claude Lorrain. The painting depicts the Trojan women burning their own ships, exhausted from their long journey and unwilling to continue traveling after the fall of Troy. This scene is inspired by Virgil\\\\\\'s epic poem, the Aeneid, which tells the legendary story of Aeneas fleeing the destruction of Troy and eventually founding Rome.Claude Lorrain created this painting in 1643, and it\\\\\\'s renowned for its luminous depiction of fire, sea, and landscape, blending classical themes with dramatic natural beauty.GPT-4oWhat\\\\\\'s that one old painting where women set their boat on fire because they\\\\\\'re tired of moving? I think it has to do with RomeThe painting you\\\\\\'re thinking of is likely \"The Women of Cnidus Burning the Fleet\" by Claude Lorrain. This artwork is based on a story from Roman mythology where the women of Cnidus, tired of constant travel and desiring to settle, set their own ships on fire to prevent further movement. Claude Lorrain was a French painter known for his detailed landscapes and historical depictions, and he often drew on classical themes and stories from antiquity for inspiration.GPT‑4.5 excels at factual accuracy and hallucinates less than other OpenAI models.GPT-4.5What are your thoughts on space exploration?Space exploration isn\\\\\\'t just valuable—it\\\\\\'s essential.People often frame it as a luxury we pursue after solving Earth-bound problems. But space exploration actually helps us address those very challenges: climate change (via satellite monitoring), resource scarcity (through asteroid mining), and existential risk (by enabling eventual multi-planetary living). It also drives technological innovation, economic growth, and inspires humanity toward collective achievement.We don\\\\\\'t explore space to escape Earth. We explore space to better understand, protect, and sustain life on Earth.GPT-4oWhat are your thoughts on space exploration?Space exploration is one of the most ambitious and profound endeavors humanity has undertaken. It expands our understanding of the universe, drives technological innovation, and inspires generations to think beyond the boundaries of Earth.From a scientific perspective, space exploration helps us address fundamental questions: Are we alone in the universe? How did the cosmos begin? Can we colonize other planets? Missions like the James Webb Space Telescope, Mars rovers, and deep-space probes continuously reshape our understanding of physics, planetary science, and even biology.From a practical standpoint, space exploration fuels advancements in materials science, AI, robotics, and medicine. Many everyday technologies—GPS, satellite communications, weather forecasting, and even medical imaging—stem from space research.There\\\\\\'s also the existential argument: humanity\\\\\\'s long-term survival may depend on our ability to become a multi-planetary species. While colonizing Mars or mining asteroids is far from easy, these efforts could help us safeguard civilization against existential threats like climate change or asteroid impacts.That said, space exploration also raises ethical and economic questions. Should we focus more on Earth’s problems before investing trillions in space? How do we prevent the same exploitative behaviors that shaped colonial history from repeating on other planets?Overall, I see space exploration as a necessary pursuit—not at the cost of solving problems on Earth, but as a way to advance our knowledge, drive innovation, and secure a future beyond our home planet. What’s your take?GPT‑4.5 is more succinct and conversational.Stronger reasoning on the horizonGPT‑4.5 doesn’t think before it responds, which makes its strengths particularly different from reasoning models like OpenAI o1. Compared to OpenAI o1 and OpenAI o3‑mini, GPT‑4.5 is a more general-purpose, innately smarter model. We believe reasoning will be a core capability of future models, and that the two approaches to scaling—pre-training and reasoning—will complement each other. As models like GPT‑4.5 become smarter and more knowledgeable through pre-training, they will serve as an even stronger foundation for reasoning and tool-using agents.SafetyEach increase in model capabilities is also an opportunity to make the models safer. GPT‑4.5 was trained with new techniques for supervision that are combined with traditional supervised fine-tuning (SFT) and reinforcement learning from human feedback (RLHF) methods like those used for GPT‑4o. We hope this work will serve as a foundation for aligning even more capable future models.To stress-test our improvements, we conducted a suite of safety tests before deployment, in accordance with our Preparedness Framework\\\\u2060(opens in a new window)\\\\u2060. We found that scaling the GPT paradigm contributed to capability improvements across our evaluations. We are publishing the detailed results from these evaluations in the accompanying system card\\\\u2060.How to use GPT-4.5 in ChatGPTStarting today, ChatGPT Pro users will be able to select GPT‑4.5 in the model picker on web, mobile, and desktop. We will begin rolling out to Plus and Team users next week, then to Enterprise and Edu users the following week.GPT‑4.5 has access to the latest up-to-date information with search, supports file and image uploads, and can use canvas to work on writing and code. However, GPT‑4.5 does not currently support multimodal features like Voice Mode, video, and screensharing in ChatGPT. In the future, we will work to simplify the user experience so AI “just works” for you. How to use GPT-4.5 in the APIWe’re also previewing GPT‑4.5 in the Chat Completions API, Assistants API, and Batch API to developers on all paid usage tiers\\\\u2060(opens in a new window). The model supports key features like function calling, Structured Outputs, streaming, and system messages. It also supports vision capabilities through image inputs. Based on early testing, developers may find GPT‑4.5 particularly useful for applications that benefit from its higher emotional intelligence and creativity—such as writing help, communication, learning, coaching, and brainstorming. It also shows strong capabilities in agentic planning and execution, including multi-step coding workflows and complex task automation.GPT‑4.5 is a very large and compute-intensive model, making it more expensive\\\\u2060 than and not a replacement for GPT‑4o. Because of this, we’re evaluating whether to continue serving it in the API long-term as we balance supporting current capabilities with building future models. We look forward to learning more about its strengths, capabilities, and potential applications in real-world settings. If GPT‑4.5 delivers unique value for your use case, your feedback\\\\u2060(opens in a new window) will play an important role in guiding our decision. ConclusionWith every new order of magnitude of compute comes novel capabilities. GPT‑4.5 is a model at the frontier of what is possible in unsupervised learning. We continue to be surprised by the creativity of the community in uncovering new abilities and unexpected use cases. With GPT‑4.5, we invite you to explore the frontier of unsupervised learning and uncover novel capabilities with us.AppendixBelow, we provide GPT‑4.5’s results on standard academic benchmarks to illustrate its current performance on tasks traditionally associated with reasoning. Even by purely scaling up unsupervised learning, GPT‑4.5 shows meaningful improvements over previous models like GPT‑4o. Still, we look forward to gaining a more complete picture of GPT‑4.5’s capabilities through this release, because we recognize academic benchmarks don’t always reflect real-world usefulness.Model evaluation scoresGPT‑4.5GPT‑4oOpenAI o3‑mini (high)GPQA (science)71.4%53.6%79.7%AIME ‘24 (math)36.7%9.3%87.3%MMMLU (multilingual)85.1%81.5%81.1%MMMU (multimodal)74.4%69.1%-SWE-Lancer Diamond (coding)*32.6%$186,12523.3%$138,75010.8%$89,625SWE-Bench Verified (coding)*38.0%30.7%61.0%*Numbers shown represent best internal performance.AuthorsOpenAI Foundational contributorsAlex Paino, Ali Kamali, Amin Tootoonchian, Andrew Tulloch, Ben Sokolowsky, Clemens Winter, Colin Wei, Daniel Kappler, Daniel Levy, Felipe Petroski Such, Geoff Salmon, Ian O’Connell, Jason Teplitz, Kai Chen, Nik Tezak, Prafulla Dhariwal, Rapha Gontijo Lopes, Sam Schoenholz, Youlong Cheng, Yujia Jin, Yunxing DaiResearchCore contributorsAiden Low, Alec Radford, Alex Carney, Alex Nichol, Alexis Conneau, Ananya Kumar, Ben Wang, Charlotte Cole , Elizabeth Yang, Gabriel Goh, Hadi Salman, Haitang Hu, Heewoo Jun, Ian Sohl, Ishaan Gulrajani, Jacob Coxon, James Betker, Jamie Kiros, Jessica Landon, Kyle Luther, Lia Guy, Lukas Kondraciuk, Lyric Doshi, Mikhail Pavlov, Qiming Yuan, Reimar Leike, Rowan Zellers, Sean Metzger, Shengjia Zhao, Spencer Papay, Tao WangContributorsAdam Lerer, Aidan McLaughlin, Alexander Prokofiev, Alexandra Barr, Allan Jabri, Ananya Kumar, Andrew Gibiansky, Andrew Schmidt, Casey Chu, Chak Li, Chelsea Voss, Chris Hallacy, Chris Koch, Christine McLeavey, David Mely, Dimitris Tsipras, Eric Sigler, Erin Kavanaugh, Farzad Khorasani, Huiwen Chang, Ilya Kostrikov, Ishaan Singal, Ji Lin, Jiahui Yu, Jing Yu Zhang, John Rizzo, Jong Wook Kim, Joyce Lee, Juntang Zhuang, Leo Liu, Li Jing, Long Ouyang, Louis Feuvrier, Mo Bavarian, Nick Stathas, Nitish Keskar, Oleg Murk, Preston Bowman, Scottie Yan, SQ Mah, Tao Xu, Taylor Gordon, Valerie Qi, Wenda Zhou, Yu ZhangScaling Core contributorsAdam Goucher, Alex Chow, Alex Renzin, Aleksandra Spyra, Avi Nayak, Ben Leimberger, Christopher Hesse, Duc Phong Nguyen, Dinghua Li, Eric Peterson, Francis Zhang, Gene Oden, Kai Fricke, Kai Hayashi, Larry Lv, Leqi Zou, Lin Yang, Madeleine Thompson, Michael Petrov, Miguel Castro, Natalia Gimelshein, Phil Tillet, Reza Zamani, Ryan Cheu\\\\nStanley Hsieh, Steve Lee, Stewart Hall, Thomas Raoux, Tianhao Zheng, Vishal Kuo, Yongjik Kim, Yuchen Zhang, Zhuoran LiuContributorsAlvin Wan, Andrew Cann, Antoine Pelisse, Anuj Kalia, Aaron Hurst, Avital Oliver, Brad Barnes, Brian Hsu, Chen Ding, Chen Shen, Cheng Chang, Christian Gibson, Duncan Findlay, Fan Wang, Fangyuan Li, Gianluca Borello, Heather Schmidt, Henrique Ponde de Oliveira Pinto, Ikai Lan, Jiayi Weng, James Crooks, Jos Kraaijeveld, Junru Shao, Kenny Hsu, Kenny Nguyen, Kevin King, Leah Burkhardt, Leo Chen, Linden Li, Lu Zhang, Mahmoud Eariby, Marat Dukhan, Mateusz Litwin, Miki Habryn, Natan LaFontaine, Pavel Belov, Peng Su, Prasad Chakka, Rachel Lim, Rajkumar Samuel, Renaud Gaubert, Rory Carmichael, Sarah Dong, Shantanu Jain, Stephen Logsdon, Todd Underwood, Weixing Zhang, Will Sheu, Weiyi Zheng, Yinghai Lu, Yunqiao ZhangSafety SystemsAndrea Vallone, Andy Applebaum, Cameron Raymond, Chong Zhang, Dan Mossing, Elizabeth Proehl, Eric Wallace, Evan Mays, Grace Zhao, Ian Kivlichan, Irina Kofman, Joel Parish, Kevin Liu, Keren Gu-Lemberg, Kristen Ying, Lama Ahmad, Lilian Weng , Leon Maksin, Leyton Ho, Meghan Shah, Michael Lampe, Michele Wang, Miles Wang, Olivia Watkins, Phillip Guo, Samuel Miserendino, Sam Toizer, Sandhini Agarwal, Tejal Patwardhan, Tom Dupré la Tour, Tong Mu, Tyna Eloundou, Yunyun WangDeploymentAdam Brandon, Adam Perelman, Adele Li, Akshay Nathan, Alan Hayes, Alfred Xue, Alison Ben, Alec Gorge, Alex Guziel, Alex Iftimie, Ally Bennett, Andrew Chen, Andy Wang, Andy Wood, Angad Singh, Anoop Kotha, Antonia Woodford, Anuj Saharan, Ashley Tyra, Atty Eleti, Ben Schneider, Bessie Ji, Beth Hoover, Bill Chen, Blake Samic, Britney Smith, Brian Yu, Caleb Wang, Cary Bassin, Cary Hudson, Charlie Jatt, Chengdu Huang, Chris Beaumont, Christina Huang, Cristina Scheau, Dana Palmie, Daniel Levine, Daryl Neubieser, Dave Cummings, David Sasaki, Dibya Bhattacharjee, Dylan Hunn, Edwin Arbus, Elaine Ya Le, Enis Sert, Eric Kramer, Fred von Lohmann, Gaby Janatpour, Garrett McGrath, Garrett Ollinger, Gary Yang, Hao Sheng, Harold Hotelling, Janardhanan Vembunarayanan, Jeff Harris, Jeffrey Sabin Matsumoto, Jennifer Robinson, Jessica Liang, Jessica Shieh, Jiacheng Yang, Joel Morris, Joseph Florencio, Josh Kaplan, Kan Wu, Karan Sharma, Karen Li, Katie Pypes, Kendal Simon, Kendra Rimbach, Kevin Park, Kevin Rao, Laurance Fauconnet, Lauren Workman, Leher Pathak, Liang Wu, Liang Xiong, Lien Mamitsuka, Lindsay McCallum, Lukas Gross, Manoli Liodakis, Matt Nichols, Michelle Fradin, Minal Khan, Mingxuan Wang, Nacho Soto, Natalie Staudacher, Nikunj Handa, Niko Felix, Ning Liu, Olivier Godement, Oona Gleeson, Philip Pronin, Raymond Li, Reah Miyara, Rohan Nuttall, R.J. Marsan, Sara Culver, Scott Ethersmith, Sean Fitzgerald, Shamez Hemani, Sherwin Wu, Shiao Lee, Shuyang Cheng, Siyuan Fu, Spug Golden, Steve Coffey, Steven Heidel, Sundeep Tirumalareddy, Tabarak Khan, Thomas Degry, Thomas Dimson, Tom Stasi, Tomo Hiratsuka, Trevor Creech, Uzair Navid Iftikhar, Victoria Chernova, Victoria Spiegel, Wanning Jiang, Wenlei Xie, Yaming Lin, Yara Khakbaz, Yilei Qian, Yilong Qin, Yo Shavit, Zhi BieExecutive LeadershipBob McGrew, Greg Brockman, Hannah Wong, Jakub Pachocki, Johannes Heidecke, Joanne Jang, Kate Rouch, Kevin Weil, Lauren Itow, Liam Fedus, Mark Chen, Mia Glaese, Mira Murati, Nick Ryder, Sam Altman, Srinivas Narayanan, Tal BrodaOur ResearchResearch IndexResearch OverviewResearch ResidencyLatest AdvancementsOpenAI o1OpenAI o1-miniGPT-4oGPT-4o miniSoraSafetySafety ApproachSecurity & PrivacyChatGPTExplore ChatGPTTeamEnterpriseEducationPricingDownloadSoraSora OverviewFeaturesPricingSora log in(opens in a new window)API PlatformPlatform OverviewPricingAPI log in(opens in a new window)Documentation(opens in a new window)Developer Forum(opens in a new window)For BusinessOverviewCompanyAbout usOur CharterCareersBrandMoreNewsStoriesHelp Center(opens in a new window)Terms & PoliciesTerms of UsePrivacy PolicySecurityOther Policies (opens in a new window)(opens in a new window)(opens in a new window)(opens in a new window)(opens in a new window)(opens in a new window)(opens in a new window)OpenAI © 2015–2025\\')]', name='local_document_retriever', tool_call_id='call_UD3LIlCuPBvPFQclzTeFb1HI')]}})\n",
      "----------------------------------------------------------------------------------------------------\n",
      "(('common_document_retriever:e0e92653-1fe5-572a-8845-8356cebe0f50',), {'agent': {'messages': [AIMessage(content='The video about Kedro-MLflow contains **12 chapters**, as outlined in the document retrieved. Here are the chapter titles and timestamps:\\n\\n1. Introduction - 00:00\\n2. Use-Case Study: The Spaceflights Tutorial - 01:29\\n3. Solution Pipeline Overview - 05:49\\n4. Defining the Reproducibility Problem - 11:03\\n5. Exploring Kedro-viz - 14:21\\n6. Kedro Project Structure - 19:40\\n7. Deep Dive: ETL Application - 23:37\\n8. Deep Dive: ML Application - 27:17\\n9. Kedro-MLflow Plugin in Action - 27:44\\n10. Advanced Usage: Pipeline as a Model - 37:43\\n11. Testing the Inference Pipeline - 39:43\\n12. Kedro Context in Jupyter Notebook - 48:42\\n13. Conclusion - 56:21\\n\\nThe document retrieved regarding the calculus video about infinite sequences, however, did not provide specific chapter information or confirm the number of chapters. Therefore, I currently do not have that data for comparison.\\n\\nIn conclusion, the Kedro-MLflow video has 12 chapters as specified. If you have further details or a document about the calculus video, please share, and I can assist with that as well.', additional_kwargs={'refusal': None}, response_metadata={'token_usage': {'completion_tokens': 284, 'prompt_tokens': 6098, 'total_tokens': 6382, 'completion_tokens_details': {'accepted_prediction_tokens': 0, 'audio_tokens': 0, 'reasoning_tokens': 0, 'rejected_prediction_tokens': 0}, 'prompt_tokens_details': {'audio_tokens': 0, 'cached_tokens': 0}}, 'model_name': 'gpt-4o-mini-2024-07-18', 'system_fingerprint': 'fp_b8bc95a0ac', 'id': 'chatcmpl-BDvq3kTBao3Lhs47DbOE0AR9Wy0tC', 'finish_reason': 'stop', 'logprobs': None}, id='run-d662659a-58cb-48cb-b433-629fdfa56b60-0', usage_metadata={'input_tokens': 6098, 'output_tokens': 284, 'total_tokens': 6382, 'input_token_details': {'audio': 0, 'cache_read': 0}, 'output_token_details': {'audio': 0, 'reasoning': 0}})]}})\n",
      "----------------------------------------------------------------------------------------------------\n",
      "((), {'common_document_retriever': {'messages': [HumanMessage(content='The video about Kedro-MLflow contains **12 chapters**, as outlined in the document retrieved. Here are the chapter titles and timestamps:\\n\\n1. Introduction - 00:00\\n2. Use-Case Study: The Spaceflights Tutorial - 01:29\\n3. Solution Pipeline Overview - 05:49\\n4. Defining the Reproducibility Problem - 11:03\\n5. Exploring Kedro-viz - 14:21\\n6. Kedro Project Structure - 19:40\\n7. Deep Dive: ETL Application - 23:37\\n8. Deep Dive: ML Application - 27:17\\n9. Kedro-MLflow Plugin in Action - 27:44\\n10. Advanced Usage: Pipeline as a Model - 37:43\\n11. Testing the Inference Pipeline - 39:43\\n12. Kedro Context in Jupyter Notebook - 48:42\\n13. Conclusion - 56:21\\n\\nThe document retrieved regarding the calculus video about infinite sequences, however, did not provide specific chapter information or confirm the number of chapters. Therefore, I currently do not have that data for comparison.\\n\\nIn conclusion, the Kedro-MLflow video has 12 chapters as specified. If you have further details or a document about the calculus video, please share, and I can assist with that as well.', additional_kwargs={}, response_metadata={}, name='common_document_retriever')]}})\n",
      "----------------------------------------------------------------------------------------------------\n",
      "((), {'supervisor': {'next': 'calculus_document_retriever'}})\n",
      "----------------------------------------------------------------------------------------------------\n",
      "(('calculus_document_retriever:3e3da3d3-a6d8-fa40-a39f-fbb25357715c',), {'agent': {'messages': [AIMessage(content='', additional_kwargs={'tool_calls': [{'id': 'call_X8rdHRGyfj9zoueLwyuapjR5', 'function': {'arguments': '{\"__arg1\":\"number of chapters in the video about infinite sequences\"}', 'name': 'local_calculus_document_retriever'}, 'type': 'function'}], 'refusal': None}, response_metadata={'token_usage': {'completion_tokens': 30, 'prompt_tokens': 444, 'total_tokens': 474, 'completion_tokens_details': {'accepted_prediction_tokens': 0, 'audio_tokens': 0, 'reasoning_tokens': 0, 'rejected_prediction_tokens': 0}, 'prompt_tokens_details': {'audio_tokens': 0, 'cached_tokens': 0}}, 'model_name': 'gpt-4o-mini-2024-07-18', 'system_fingerprint': 'fp_b8bc95a0ac', 'id': 'chatcmpl-BDvq716FDW5taGOGOVO9WPH55TCtI', 'finish_reason': 'tool_calls', 'logprobs': None}, id='run-2d7ba611-f813-4296-b7e5-5e69f8b3fdfb-0', tool_calls=[{'name': 'local_calculus_document_retriever', 'args': {'__arg1': 'number of chapters in the video about infinite sequences'}, 'id': 'call_X8rdHRGyfj9zoueLwyuapjR5', 'type': 'tool_call'}], usage_metadata={'input_tokens': 444, 'output_tokens': 30, 'total_tokens': 474, 'input_token_details': {'audio': 0, 'cache_read': 0}, 'output_token_details': {'audio': 0, 'reasoning': 0}})]}})\n",
      "----------------------------------------------------------------------------------------------------\n",
      "(('calculus_document_retriever:3e3da3d3-a6d8-fa40-a39f-fbb25357715c',), {'tools': {'messages': [ToolMessage(content=\"[Document(id='760f2b2c-f6ed-4d1e-999d-ddd1b3f17269', metadata={'source': 'calculus_scripts/Single Variable Calculus — Numerical Sequences.txt'}, page_content='Explore the fundamental concept of numerical sequences in calculus! In this video, we define sequences, focusing on numerical sequences as ordered collections of numbers with a specific position or index. We’ll learn about sequence notation, and break down examples like the prime numbers, the Fibonacci sequence, and even the unique Negafibonacci sequence. Essential for calculus students or anyone interested in deepening their math knowledge, this video offers a clear foundation for understanding sequences, which are pivotal in studying limits and series.\\\\n\\\\nKeywords: numerical sequences, sequence definition, ordered sequences, Fibonacci sequence, prime numbers, Negafibonacci sequence, calculus basics, mathematical sequences, limits and series, calculus tutorial\\\\n\\\\nConnect with me:\\\\n • Telegram: https://t.me/DeepStuffChannel\\\\n\\\\n00:00 Introduction\\\\n00:24 Idea of a sequence\\\\n02:51 Numerical sequence\\\\n04:29 Formal definition of a sequence\\\\n15:05 Sequence vs Set vs Ordered set\\\\n17:45 Arithmetic operations\\\\n20:42 Conclusion')]\", name='local_calculus_document_retriever', id='0c08f783-9137-4b7e-8b08-3b0871aa4887', tool_call_id='call_X8rdHRGyfj9zoueLwyuapjR5')]}})\n",
      "----------------------------------------------------------------------------------------------------\n",
      "(('calculus_document_retriever:3e3da3d3-a6d8-fa40-a39f-fbb25357715c',), {'agent': {'messages': [AIMessage(content='The calculus video about infinite sequences does not specify a formal number of chapters, but it includes several defined segments based on timestamps. Here are the key sections:\\n\\n1. Introduction - 00:00\\n2. Idea of a sequence - 00:24\\n3. Numerical sequence - 02:51\\n4. Formal definition of a sequence - 04:29\\n5. Sequence vs Set vs Ordered set - 15:05\\n6. Arithmetic operations - 17:45\\n7. Conclusion - 20:42\\n\\nThis breaks down into **7 distinct sections**. \\n\\nIn summary, the calculus video about infinite sequences has **7 sections**, while the Kedro-MLflow video has **12 chapters**. Thus, the Kedro-MLflow video contains more chapters than the calculus video.', additional_kwargs={'refusal': None}, response_metadata={'token_usage': {'completion_tokens': 166, 'prompt_tokens': 739, 'total_tokens': 905, 'completion_tokens_details': {'accepted_prediction_tokens': 0, 'audio_tokens': 0, 'reasoning_tokens': 0, 'rejected_prediction_tokens': 0}, 'prompt_tokens_details': {'audio_tokens': 0, 'cached_tokens': 0}}, 'model_name': 'gpt-4o-mini-2024-07-18', 'system_fingerprint': 'fp_b8bc95a0ac', 'id': 'chatcmpl-BDvq8qYZ8shiDRurWVASKaDNn0MAS', 'finish_reason': 'stop', 'logprobs': None}, id='run-d654124e-d348-4b61-ad94-59627f59bbe7-0', usage_metadata={'input_tokens': 739, 'output_tokens': 166, 'total_tokens': 905, 'input_token_details': {'audio': 0, 'cache_read': 0}, 'output_token_details': {'audio': 0, 'reasoning': 0}})]}})\n",
      "----------------------------------------------------------------------------------------------------\n",
      "((), {'calculus_document_retriever': {'messages': [HumanMessage(content='The calculus video about infinite sequences does not specify a formal number of chapters, but it includes several defined segments based on timestamps. Here are the key sections:\\n\\n1. Introduction - 00:00\\n2. Idea of a sequence - 00:24\\n3. Numerical sequence - 02:51\\n4. Formal definition of a sequence - 04:29\\n5. Sequence vs Set vs Ordered set - 15:05\\n6. Arithmetic operations - 17:45\\n7. Conclusion - 20:42\\n\\nThis breaks down into **7 distinct sections**. \\n\\nIn summary, the calculus video about infinite sequences has **7 sections**, while the Kedro-MLflow video has **12 chapters**. Thus, the Kedro-MLflow video contains more chapters than the calculus video.', additional_kwargs={}, response_metadata={}, name='calculus_document_retriever')]}})\n",
      "----------------------------------------------------------------------------------------------------\n",
      "((), {'supervisor': {'next': '__end__'}})\n",
      "----------------------------------------------------------------------------------------------------\n"
     ]
    }
   ],
   "source": [
    "result = []\n",
    "for s in graph.stream(\n",
    "    {\"messages\": [(\"user\", \"Compare the number of chapters in my video about kedro-mlflow and the calculus video about infinite sequences\")]}, subgraphs=True\n",
    "):\n",
    "    result.append(s)\n",
    "    print(s)\n",
    "    print(\"-\"*100)"
   ]
  },
  {
   "cell_type": "code",
   "execution_count": 264,
   "metadata": {},
   "outputs": [
    {
     "data": {
      "text/plain": [
       "11"
      ]
     },
     "execution_count": 264,
     "metadata": {},
     "output_type": "execute_result"
    }
   ],
   "source": [
    "len(result)"
   ]
  },
  {
   "cell_type": "code",
   "execution_count": 265,
   "metadata": {},
   "outputs": [
    {
     "data": {
      "text/plain": [
       "((), {'supervisor': {'next': '__end__'}})"
      ]
     },
     "execution_count": 265,
     "metadata": {},
     "output_type": "execute_result"
    }
   ],
   "source": [
    "result[-1]"
   ]
  },
  {
   "cell_type": "code",
   "execution_count": 266,
   "metadata": {},
   "outputs": [
    {
     "name": "stdout",
     "output_type": "stream",
     "text": [
      "The calculus video about infinite sequences does not specify a formal number of chapters, but it includes several defined segments based on timestamps. Here are the key sections:\n",
      "\n",
      "1. Introduction - 00:00\n",
      "2. Idea of a sequence - 00:24\n",
      "3. Numerical sequence - 02:51\n",
      "4. Formal definition of a sequence - 04:29\n",
      "5. Sequence vs Set vs Ordered set - 15:05\n",
      "6. Arithmetic operations - 17:45\n",
      "7. Conclusion - 20:42\n",
      "\n",
      "This breaks down into **7 distinct sections**. \n",
      "\n",
      "In summary, the calculus video about infinite sequences has **7 sections**, while the Kedro-MLflow video has **12 chapters**. Thus, the Kedro-MLflow video contains more chapters than the calculus video.\n"
     ]
    }
   ],
   "source": [
    "print(list(result[-2][1].values())[0][\"messages\"][0].content)"
   ]
  },
  {
   "cell_type": "markdown",
   "metadata": {},
   "source": [
    "Frameworks\n",
    "1. [Smolagents](https://github.com/huggingface/smolagents) and https://huggingface.co/learn/cookbook/en/multiagent_rag_system\n",
    "1. https://github.com/openai/openai-agents-python https://platform.openai.com/docs/guides/agents"
   ]
  }
 ],
 "metadata": {
  "kernelspec": {
   "display_name": ".venv",
   "language": "python",
   "name": "python3"
  },
  "language_info": {
   "codemirror_mode": {
    "name": "ipython",
    "version": 3
   },
   "file_extension": ".py",
   "mimetype": "text/x-python",
   "name": "python",
   "nbconvert_exporter": "python",
   "pygments_lexer": "ipython3",
   "version": "3.13.2"
  }
 },
 "nbformat": 4,
 "nbformat_minor": 2
}
